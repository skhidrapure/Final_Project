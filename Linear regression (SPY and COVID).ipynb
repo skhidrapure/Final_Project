{
 "cells": [
  {
   "cell_type": "code",
   "execution_count": 10,
   "id": "07344c88",
   "metadata": {},
   "outputs": [],
   "source": [
    "import pandas as pd\n",
    "import numpy as np\n",
    "from pathlib import Path\n",
    "import matplotlib.pyplot as plt\n",
    "from sklearn.linear_model import LinearRegression\n",
    "from sklearn.metrics import mean_squared_error\n",
    "from sklearn.metrics import r2_score"
   ]
  },
  {
   "cell_type": "code",
   "execution_count": 2,
   "id": "2595a7e5",
   "metadata": {},
   "outputs": [],
   "source": [
    "spy_df=pd.read_csv(Path('./datasets/sp500indexand11sectors/SPX INDEX.csv'))"
   ]
  },
  {
   "cell_type": "code",
   "execution_count": 3,
   "id": "5bb80148",
   "metadata": {},
   "outputs": [
    {
     "data": {
      "text/html": [
       "<div>\n",
       "<style scoped>\n",
       "    .dataframe tbody tr th:only-of-type {\n",
       "        vertical-align: middle;\n",
       "    }\n",
       "\n",
       "    .dataframe tbody tr th {\n",
       "        vertical-align: top;\n",
       "    }\n",
       "\n",
       "    .dataframe thead th {\n",
       "        text-align: right;\n",
       "    }\n",
       "</style>\n",
       "<table border=\"1\" class=\"dataframe\">\n",
       "  <thead>\n",
       "    <tr style=\"text-align: right;\">\n",
       "      <th></th>\n",
       "      <th>Date</th>\n",
       "      <th>Open</th>\n",
       "      <th>High</th>\n",
       "      <th>Low</th>\n",
       "      <th>Close</th>\n",
       "    </tr>\n",
       "  </thead>\n",
       "  <tbody>\n",
       "    <tr>\n",
       "      <th>0</th>\n",
       "      <td>2020-03-12</td>\n",
       "      <td>2630.86</td>\n",
       "      <td>2660.95</td>\n",
       "      <td>2478.86</td>\n",
       "      <td>2480.64</td>\n",
       "    </tr>\n",
       "    <tr>\n",
       "      <th>1</th>\n",
       "      <td>2020-03-13</td>\n",
       "      <td>2569.99</td>\n",
       "      <td>2711.33</td>\n",
       "      <td>2492.37</td>\n",
       "      <td>2711.02</td>\n",
       "    </tr>\n",
       "    <tr>\n",
       "      <th>2</th>\n",
       "      <td>2020-03-16</td>\n",
       "      <td>2508.59</td>\n",
       "      <td>2562.98</td>\n",
       "      <td>2380.94</td>\n",
       "      <td>2386.13</td>\n",
       "    </tr>\n",
       "    <tr>\n",
       "      <th>3</th>\n",
       "      <td>2020-03-17</td>\n",
       "      <td>2425.66</td>\n",
       "      <td>2553.93</td>\n",
       "      <td>2367.04</td>\n",
       "      <td>2529.19</td>\n",
       "    </tr>\n",
       "    <tr>\n",
       "      <th>4</th>\n",
       "      <td>2020-03-18</td>\n",
       "      <td>2436.50</td>\n",
       "      <td>2453.57</td>\n",
       "      <td>2280.52</td>\n",
       "      <td>2398.10</td>\n",
       "    </tr>\n",
       "    <tr>\n",
       "      <th>...</th>\n",
       "      <td>...</td>\n",
       "      <td>...</td>\n",
       "      <td>...</td>\n",
       "      <td>...</td>\n",
       "      <td>...</td>\n",
       "    </tr>\n",
       "    <tr>\n",
       "      <th>452</th>\n",
       "      <td>2021-12-27</td>\n",
       "      <td>4733.99</td>\n",
       "      <td>4791.49</td>\n",
       "      <td>4733.99</td>\n",
       "      <td>4791.19</td>\n",
       "    </tr>\n",
       "    <tr>\n",
       "      <th>453</th>\n",
       "      <td>2021-12-28</td>\n",
       "      <td>4795.49</td>\n",
       "      <td>4807.02</td>\n",
       "      <td>4780.04</td>\n",
       "      <td>4786.35</td>\n",
       "    </tr>\n",
       "    <tr>\n",
       "      <th>454</th>\n",
       "      <td>2021-12-29</td>\n",
       "      <td>4788.64</td>\n",
       "      <td>4804.06</td>\n",
       "      <td>4778.08</td>\n",
       "      <td>4793.06</td>\n",
       "    </tr>\n",
       "    <tr>\n",
       "      <th>455</th>\n",
       "      <td>2021-12-30</td>\n",
       "      <td>4794.23</td>\n",
       "      <td>4808.93</td>\n",
       "      <td>4775.33</td>\n",
       "      <td>4778.73</td>\n",
       "    </tr>\n",
       "    <tr>\n",
       "      <th>456</th>\n",
       "      <td>2021-12-31</td>\n",
       "      <td>4775.21</td>\n",
       "      <td>4786.83</td>\n",
       "      <td>4765.75</td>\n",
       "      <td>4766.18</td>\n",
       "    </tr>\n",
       "  </tbody>\n",
       "</table>\n",
       "<p>457 rows × 5 columns</p>\n",
       "</div>"
      ],
      "text/plain": [
       "           Date     Open     High      Low    Close\n",
       "0    2020-03-12  2630.86  2660.95  2478.86  2480.64\n",
       "1    2020-03-13  2569.99  2711.33  2492.37  2711.02\n",
       "2    2020-03-16  2508.59  2562.98  2380.94  2386.13\n",
       "3    2020-03-17  2425.66  2553.93  2367.04  2529.19\n",
       "4    2020-03-18  2436.50  2453.57  2280.52  2398.10\n",
       "..          ...      ...      ...      ...      ...\n",
       "452  2021-12-27  4733.99  4791.49  4733.99  4791.19\n",
       "453  2021-12-28  4795.49  4807.02  4780.04  4786.35\n",
       "454  2021-12-29  4788.64  4804.06  4778.08  4793.06\n",
       "455  2021-12-30  4794.23  4808.93  4775.33  4778.73\n",
       "456  2021-12-31  4775.21  4786.83  4765.75  4766.18\n",
       "\n",
       "[457 rows x 5 columns]"
      ]
     },
     "execution_count": 3,
     "metadata": {},
     "output_type": "execute_result"
    }
   ],
   "source": [
    "spy_df"
   ]
  },
  {
   "cell_type": "code",
   "execution_count": 4,
   "id": "44526aed",
   "metadata": {},
   "outputs": [],
   "source": [
    "spy_df=spy_df.drop(columns=['Open','High','Low'])"
   ]
  },
  {
   "cell_type": "code",
   "execution_count": 5,
   "id": "a105095c",
   "metadata": {},
   "outputs": [],
   "source": [
    "x=np.arange(spy_df['Date'].size).reshape(-1,1)"
   ]
  },
  {
   "cell_type": "code",
   "execution_count": 6,
   "id": "7d17915a",
   "metadata": {},
   "outputs": [
    {
     "data": {
      "text/plain": [
       "(457, 1)"
      ]
     },
     "execution_count": 6,
     "metadata": {},
     "output_type": "execute_result"
    }
   ],
   "source": [
    "x.shape"
   ]
  },
  {
   "cell_type": "code",
   "execution_count": 7,
   "id": "f46eb97d",
   "metadata": {},
   "outputs": [],
   "source": [
    "y=spy_df.Close"
   ]
  },
  {
   "cell_type": "code",
   "execution_count": 8,
   "id": "69f77308",
   "metadata": {},
   "outputs": [],
   "source": [
    "model=LinearRegression()"
   ]
  },
  {
   "cell_type": "code",
   "execution_count": 9,
   "id": "2b7a05bf",
   "metadata": {},
   "outputs": [
    {
     "data": {
      "text/plain": [
       "LinearRegression()"
      ]
     },
     "execution_count": 9,
     "metadata": {},
     "output_type": "execute_result"
    }
   ],
   "source": [
    "model.fit(x,y)"
   ]
  },
  {
   "cell_type": "code",
   "execution_count": 10,
   "id": "b24b7c2a",
   "metadata": {},
   "outputs": [],
   "source": [
    "y_pred = model.predict(x)"
   ]
  },
  {
   "cell_type": "code",
   "execution_count": 11,
   "id": "6eca3840",
   "metadata": {},
   "outputs": [
    {
     "data": {
      "image/png": "[encoded data removed]",
      "text/plain": [
       "<Figure size 1440x432 with 1 Axes>"
      ]
     },
     "metadata": {
      "needs_background": "light"
     },
     "output_type": "display_data"
    }
   ],
   "source": [
    "plt.rcParams[\"figure.figsize\"] = (20,6)\n",
    "spy_df['Date'] = pd.to_datetime(spy_df['Date'])   \n",
    "plt.scatter(spy_df.Date,y)\n",
    "plt.xlabel(\"Date\")\n",
    "plt.ylabel(\"Price\")\n",
    "plt.plot(spy_df.Date,y_pred,color='red')\n",
    "plt.title(\"Linear Regression model on SP500 Index\")\n",
    "plt.show()"
   ]
  },
  {
   "cell_type": "code",
   "execution_count": 12,
   "id": "58173ab6",
   "metadata": {},
   "outputs": [],
   "source": [
    "spy_df[\"Pred_Price\"]=y_pred"
   ]
  },
  {
   "cell_type": "code",
   "execution_count": 13,
   "id": "87e741d7",
   "metadata": {},
   "outputs": [
    {
     "data": {
      "text/html": [
       "<div>\n",
       "<style scoped>\n",
       "    .dataframe tbody tr th:only-of-type {\n",
       "        vertical-align: middle;\n",
       "    }\n",
       "\n",
       "    .dataframe tbody tr th {\n",
       "        vertical-align: top;\n",
       "    }\n",
       "\n",
       "    .dataframe thead th {\n",
       "        text-align: right;\n",
       "    }\n",
       "</style>\n",
       "<table border=\"1\" class=\"dataframe\">\n",
       "  <thead>\n",
       "    <tr style=\"text-align: right;\">\n",
       "      <th></th>\n",
       "      <th>Date</th>\n",
       "      <th>Close</th>\n",
       "      <th>Pred_Price</th>\n",
       "    </tr>\n",
       "  </thead>\n",
       "  <tbody>\n",
       "    <tr>\n",
       "      <th>0</th>\n",
       "      <td>2020-03-12</td>\n",
       "      <td>2480.64</td>\n",
       "      <td>2757.587511</td>\n",
       "    </tr>\n",
       "    <tr>\n",
       "      <th>1</th>\n",
       "      <td>2020-03-13</td>\n",
       "      <td>2711.02</td>\n",
       "      <td>2762.156758</td>\n",
       "    </tr>\n",
       "    <tr>\n",
       "      <th>2</th>\n",
       "      <td>2020-03-16</td>\n",
       "      <td>2386.13</td>\n",
       "      <td>2766.726004</td>\n",
       "    </tr>\n",
       "    <tr>\n",
       "      <th>3</th>\n",
       "      <td>2020-03-17</td>\n",
       "      <td>2529.19</td>\n",
       "      <td>2771.295251</td>\n",
       "    </tr>\n",
       "    <tr>\n",
       "      <th>4</th>\n",
       "      <td>2020-03-18</td>\n",
       "      <td>2398.10</td>\n",
       "      <td>2775.864498</td>\n",
       "    </tr>\n",
       "    <tr>\n",
       "      <th>...</th>\n",
       "      <td>...</td>\n",
       "      <td>...</td>\n",
       "      <td>...</td>\n",
       "    </tr>\n",
       "    <tr>\n",
       "      <th>452</th>\n",
       "      <td>2021-12-27</td>\n",
       "      <td>4791.19</td>\n",
       "      <td>4822.887056</td>\n",
       "    </tr>\n",
       "    <tr>\n",
       "      <th>453</th>\n",
       "      <td>2021-12-28</td>\n",
       "      <td>4786.35</td>\n",
       "      <td>4827.456302</td>\n",
       "    </tr>\n",
       "    <tr>\n",
       "      <th>454</th>\n",
       "      <td>2021-12-29</td>\n",
       "      <td>4793.06</td>\n",
       "      <td>4832.025549</td>\n",
       "    </tr>\n",
       "    <tr>\n",
       "      <th>455</th>\n",
       "      <td>2021-12-30</td>\n",
       "      <td>4778.73</td>\n",
       "      <td>4836.594796</td>\n",
       "    </tr>\n",
       "    <tr>\n",
       "      <th>456</th>\n",
       "      <td>2021-12-31</td>\n",
       "      <td>4766.18</td>\n",
       "      <td>4841.164043</td>\n",
       "    </tr>\n",
       "  </tbody>\n",
       "</table>\n",
       "<p>457 rows × 3 columns</p>\n",
       "</div>"
      ],
      "text/plain": [
       "          Date    Close   Pred_Price\n",
       "0   2020-03-12  2480.64  2757.587511\n",
       "1   2020-03-13  2711.02  2762.156758\n",
       "2   2020-03-16  2386.13  2766.726004\n",
       "3   2020-03-17  2529.19  2771.295251\n",
       "4   2020-03-18  2398.10  2775.864498\n",
       "..         ...      ...          ...\n",
       "452 2021-12-27  4791.19  4822.887056\n",
       "453 2021-12-28  4786.35  4827.456302\n",
       "454 2021-12-29  4793.06  4832.025549\n",
       "455 2021-12-30  4778.73  4836.594796\n",
       "456 2021-12-31  4766.18  4841.164043\n",
       "\n",
       "[457 rows x 3 columns]"
      ]
     },
     "execution_count": 13,
     "metadata": {},
     "output_type": "execute_result"
    }
   ],
   "source": [
    "spy_df"
   ]
  },
  {
   "cell_type": "code",
   "execution_count": 14,
   "id": "07643df0",
   "metadata": {},
   "outputs": [
    {
     "data": {
      "text/plain": [
       "0.968659686018521"
      ]
     },
     "execution_count": 14,
     "metadata": {},
     "output_type": "execute_result"
    }
   ],
   "source": [
    "r2_score(y, y_pred)"
   ]
  },
  {
   "cell_type": "code",
   "execution_count": 15,
   "id": "2f104a25",
   "metadata": {},
   "outputs": [
    {
     "data": {
      "text/html": [
       "<div>\n",
       "<style scoped>\n",
       "    .dataframe tbody tr th:only-of-type {\n",
       "        vertical-align: middle;\n",
       "    }\n",
       "\n",
       "    .dataframe tbody tr th {\n",
       "        vertical-align: top;\n",
       "    }\n",
       "\n",
       "    .dataframe thead th {\n",
       "        text-align: right;\n",
       "    }\n",
       "</style>\n",
       "<table border=\"1\" class=\"dataframe\">\n",
       "  <thead>\n",
       "    <tr style=\"text-align: right;\">\n",
       "      <th></th>\n",
       "      <th>Close</th>\n",
       "      <th>Pred_Price</th>\n",
       "    </tr>\n",
       "  </thead>\n",
       "  <tbody>\n",
       "    <tr>\n",
       "      <th>count</th>\n",
       "      <td>457.000000</td>\n",
       "      <td>457.000000</td>\n",
       "    </tr>\n",
       "    <tr>\n",
       "      <th>mean</th>\n",
       "      <td>3799.375777</td>\n",
       "      <td>3799.375777</td>\n",
       "    </tr>\n",
       "    <tr>\n",
       "      <th>std</th>\n",
       "      <td>613.139390</td>\n",
       "      <td>603.454917</td>\n",
       "    </tr>\n",
       "    <tr>\n",
       "      <th>min</th>\n",
       "      <td>2237.400000</td>\n",
       "      <td>2757.587511</td>\n",
       "    </tr>\n",
       "    <tr>\n",
       "      <th>25%</th>\n",
       "      <td>3335.470000</td>\n",
       "      <td>3278.481644</td>\n",
       "    </tr>\n",
       "    <tr>\n",
       "      <th>50%</th>\n",
       "      <td>3841.940000</td>\n",
       "      <td>3799.375777</td>\n",
       "    </tr>\n",
       "    <tr>\n",
       "      <th>75%</th>\n",
       "      <td>4357.040000</td>\n",
       "      <td>4320.269910</td>\n",
       "    </tr>\n",
       "    <tr>\n",
       "      <th>max</th>\n",
       "      <td>4793.060000</td>\n",
       "      <td>4841.164043</td>\n",
       "    </tr>\n",
       "  </tbody>\n",
       "</table>\n",
       "</div>"
      ],
      "text/plain": [
       "             Close   Pred_Price\n",
       "count   457.000000   457.000000\n",
       "mean   3799.375777  3799.375777\n",
       "std     613.139390   603.454917\n",
       "min    2237.400000  2757.587511\n",
       "25%    3335.470000  3278.481644\n",
       "50%    3841.940000  3799.375777\n",
       "75%    4357.040000  4320.269910\n",
       "max    4793.060000  4841.164043"
      ]
     },
     "execution_count": 15,
     "metadata": {},
     "output_type": "execute_result"
    }
   ],
   "source": [
    "spy_df.describe()"
   ]
  },
  {
   "cell_type": "code",
   "execution_count": 76,
   "id": "241df849",
   "metadata": {},
   "outputs": [],
   "source": [
    "spy_df.to_csv(\"Prediction data (SPY and Covid companies)/SPY.csv\")"
   ]
  },
  {
   "cell_type": "code",
   "execution_count": 11,
   "id": "bfb00f5a",
   "metadata": {},
   "outputs": [],
   "source": [
    "covid = pd.read_csv(\"datasets/Covid_Companies_Stocks.csv\")"
   ]
  },
  {
   "cell_type": "code",
   "execution_count": 12,
   "id": "7f6921eb",
   "metadata": {},
   "outputs": [
    {
     "data": {
      "text/html": [
       "<div>\n",
       "<style scoped>\n",
       "    .dataframe tbody tr th:only-of-type {\n",
       "        vertical-align: middle;\n",
       "    }\n",
       "\n",
       "    .dataframe tbody tr th {\n",
       "        vertical-align: top;\n",
       "    }\n",
       "\n",
       "    .dataframe thead th {\n",
       "        text-align: right;\n",
       "    }\n",
       "</style>\n",
       "<table border=\"1\" class=\"dataframe\">\n",
       "  <thead>\n",
       "    <tr style=\"text-align: right;\">\n",
       "      <th></th>\n",
       "      <th>Ticker</th>\n",
       "      <th>Date</th>\n",
       "      <th>Open</th>\n",
       "      <th>High</th>\n",
       "      <th>Low</th>\n",
       "      <th>Close</th>\n",
       "      <th>Trading Volume</th>\n",
       "      <th>Volume Weighted Average Price</th>\n",
       "      <th>Number of Transactions</th>\n",
       "    </tr>\n",
       "  </thead>\n",
       "  <tbody>\n",
       "    <tr>\n",
       "      <th>0</th>\n",
       "      <td>PFE</td>\n",
       "      <td>2020-03-11</td>\n",
       "      <td>30.480</td>\n",
       "      <td>32.000</td>\n",
       "      <td>30.00</td>\n",
       "      <td>30.02</td>\n",
       "      <td>60585686.0</td>\n",
       "      <td>30.6586</td>\n",
       "      <td>307447</td>\n",
       "    </tr>\n",
       "    <tr>\n",
       "      <th>1</th>\n",
       "      <td>PFE</td>\n",
       "      <td>2020-03-12</td>\n",
       "      <td>31.270</td>\n",
       "      <td>32.880</td>\n",
       "      <td>30.23</td>\n",
       "      <td>32.71</td>\n",
       "      <td>58156515.0</td>\n",
       "      <td>31.4335</td>\n",
       "      <td>313654</td>\n",
       "    </tr>\n",
       "    <tr>\n",
       "      <th>2</th>\n",
       "      <td>PFE</td>\n",
       "      <td>2020-03-15</td>\n",
       "      <td>29.940</td>\n",
       "      <td>32.285</td>\n",
       "      <td>29.65</td>\n",
       "      <td>30.18</td>\n",
       "      <td>48333517.0</td>\n",
       "      <td>30.9841</td>\n",
       "      <td>270185</td>\n",
       "    </tr>\n",
       "    <tr>\n",
       "      <th>3</th>\n",
       "      <td>PFE</td>\n",
       "      <td>2020-03-16</td>\n",
       "      <td>31.640</td>\n",
       "      <td>32.650</td>\n",
       "      <td>30.59</td>\n",
       "      <td>32.16</td>\n",
       "      <td>52139745.0</td>\n",
       "      <td>31.6114</td>\n",
       "      <td>317412</td>\n",
       "    </tr>\n",
       "    <tr>\n",
       "      <th>4</th>\n",
       "      <td>PFE</td>\n",
       "      <td>2020-03-17</td>\n",
       "      <td>30.770</td>\n",
       "      <td>32.610</td>\n",
       "      <td>30.31</td>\n",
       "      <td>32.36</td>\n",
       "      <td>42228311.0</td>\n",
       "      <td>31.6159</td>\n",
       "      <td>249462</td>\n",
       "    </tr>\n",
       "    <tr>\n",
       "      <th>...</th>\n",
       "      <td>...</td>\n",
       "      <td>...</td>\n",
       "      <td>...</td>\n",
       "      <td>...</td>\n",
       "      <td>...</td>\n",
       "      <td>...</td>\n",
       "      <td>...</td>\n",
       "      <td>...</td>\n",
       "      <td>...</td>\n",
       "    </tr>\n",
       "    <tr>\n",
       "      <th>2737</th>\n",
       "      <td>NVAX</td>\n",
       "      <td>2021-12-26</td>\n",
       "      <td>168.555</td>\n",
       "      <td>169.390</td>\n",
       "      <td>155.11</td>\n",
       "      <td>157.80</td>\n",
       "      <td>8934203.0</td>\n",
       "      <td>160.0433</td>\n",
       "      <td>159765</td>\n",
       "    </tr>\n",
       "    <tr>\n",
       "      <th>2738</th>\n",
       "      <td>NVAX</td>\n",
       "      <td>2021-12-27</td>\n",
       "      <td>153.160</td>\n",
       "      <td>175.990</td>\n",
       "      <td>153.10</td>\n",
       "      <td>155.84</td>\n",
       "      <td>12384643.0</td>\n",
       "      <td>162.9178</td>\n",
       "      <td>185409</td>\n",
       "    </tr>\n",
       "    <tr>\n",
       "      <th>2739</th>\n",
       "      <td>NVAX</td>\n",
       "      <td>2021-12-28</td>\n",
       "      <td>153.280</td>\n",
       "      <td>155.280</td>\n",
       "      <td>144.56</td>\n",
       "      <td>153.25</td>\n",
       "      <td>7511780.0</td>\n",
       "      <td>150.6786</td>\n",
       "      <td>111874</td>\n",
       "    </tr>\n",
       "    <tr>\n",
       "      <th>2740</th>\n",
       "      <td>NVAX</td>\n",
       "      <td>2021-12-29</td>\n",
       "      <td>152.780</td>\n",
       "      <td>159.000</td>\n",
       "      <td>148.86</td>\n",
       "      <td>154.83</td>\n",
       "      <td>5093321.0</td>\n",
       "      <td>154.1007</td>\n",
       "      <td>82034</td>\n",
       "    </tr>\n",
       "    <tr>\n",
       "      <th>2741</th>\n",
       "      <td>NVAX</td>\n",
       "      <td>2021-12-30</td>\n",
       "      <td>151.470</td>\n",
       "      <td>156.810</td>\n",
       "      <td>141.51</td>\n",
       "      <td>143.07</td>\n",
       "      <td>9096268.0</td>\n",
       "      <td>147.5569</td>\n",
       "      <td>136453</td>\n",
       "    </tr>\n",
       "  </tbody>\n",
       "</table>\n",
       "<p>2742 rows × 9 columns</p>\n",
       "</div>"
      ],
      "text/plain": [
       "     Ticker        Date     Open     High     Low   Close  Trading Volume  \\\n",
       "0       PFE  2020-03-11   30.480   32.000   30.00   30.02      60585686.0   \n",
       "1       PFE  2020-03-12   31.270   32.880   30.23   32.71      58156515.0   \n",
       "2       PFE  2020-03-15   29.940   32.285   29.65   30.18      48333517.0   \n",
       "3       PFE  2020-03-16   31.640   32.650   30.59   32.16      52139745.0   \n",
       "4       PFE  2020-03-17   30.770   32.610   30.31   32.36      42228311.0   \n",
       "...     ...         ...      ...      ...     ...     ...             ...   \n",
       "2737   NVAX  2021-12-26  168.555  169.390  155.11  157.80       8934203.0   \n",
       "2738   NVAX  2021-12-27  153.160  175.990  153.10  155.84      12384643.0   \n",
       "2739   NVAX  2021-12-28  153.280  155.280  144.56  153.25       7511780.0   \n",
       "2740   NVAX  2021-12-29  152.780  159.000  148.86  154.83       5093321.0   \n",
       "2741   NVAX  2021-12-30  151.470  156.810  141.51  143.07       9096268.0   \n",
       "\n",
       "      Volume Weighted Average Price  Number of Transactions  \n",
       "0                           30.6586                  307447  \n",
       "1                           31.4335                  313654  \n",
       "2                           30.9841                  270185  \n",
       "3                           31.6114                  317412  \n",
       "4                           31.6159                  249462  \n",
       "...                             ...                     ...  \n",
       "2737                       160.0433                  159765  \n",
       "2738                       162.9178                  185409  \n",
       "2739                       150.6786                  111874  \n",
       "2740                       154.1007                   82034  \n",
       "2741                       147.5569                  136453  \n",
       "\n",
       "[2742 rows x 9 columns]"
      ]
     },
     "execution_count": 12,
     "metadata": {},
     "output_type": "execute_result"
    }
   ],
   "source": [
    "covid"
   ]
  },
  {
   "cell_type": "code",
   "execution_count": 13,
   "id": "3fbaad18",
   "metadata": {},
   "outputs": [],
   "source": [
    "covid_df=covid.drop(columns=['Open','High','Low','Trading Volume','Volume Weighted Average Price','Number of Transactions'])"
   ]
  },
  {
   "cell_type": "code",
   "execution_count": 14,
   "id": "1d1c8625",
   "metadata": {},
   "outputs": [
    {
     "data": {
      "text/html": [
       "<div>\n",
       "<style scoped>\n",
       "    .dataframe tbody tr th:only-of-type {\n",
       "        vertical-align: middle;\n",
       "    }\n",
       "\n",
       "    .dataframe tbody tr th {\n",
       "        vertical-align: top;\n",
       "    }\n",
       "\n",
       "    .dataframe thead th {\n",
       "        text-align: right;\n",
       "    }\n",
       "</style>\n",
       "<table border=\"1\" class=\"dataframe\">\n",
       "  <thead>\n",
       "    <tr style=\"text-align: right;\">\n",
       "      <th></th>\n",
       "      <th>Ticker</th>\n",
       "      <th>Date</th>\n",
       "      <th>Close</th>\n",
       "    </tr>\n",
       "  </thead>\n",
       "  <tbody>\n",
       "    <tr>\n",
       "      <th>0</th>\n",
       "      <td>PFE</td>\n",
       "      <td>2020-03-11</td>\n",
       "      <td>30.02</td>\n",
       "    </tr>\n",
       "    <tr>\n",
       "      <th>1</th>\n",
       "      <td>PFE</td>\n",
       "      <td>2020-03-12</td>\n",
       "      <td>32.71</td>\n",
       "    </tr>\n",
       "    <tr>\n",
       "      <th>2</th>\n",
       "      <td>PFE</td>\n",
       "      <td>2020-03-15</td>\n",
       "      <td>30.18</td>\n",
       "    </tr>\n",
       "    <tr>\n",
       "      <th>3</th>\n",
       "      <td>PFE</td>\n",
       "      <td>2020-03-16</td>\n",
       "      <td>32.16</td>\n",
       "    </tr>\n",
       "    <tr>\n",
       "      <th>4</th>\n",
       "      <td>PFE</td>\n",
       "      <td>2020-03-17</td>\n",
       "      <td>32.36</td>\n",
       "    </tr>\n",
       "    <tr>\n",
       "      <th>...</th>\n",
       "      <td>...</td>\n",
       "      <td>...</td>\n",
       "      <td>...</td>\n",
       "    </tr>\n",
       "    <tr>\n",
       "      <th>2737</th>\n",
       "      <td>NVAX</td>\n",
       "      <td>2021-12-26</td>\n",
       "      <td>157.80</td>\n",
       "    </tr>\n",
       "    <tr>\n",
       "      <th>2738</th>\n",
       "      <td>NVAX</td>\n",
       "      <td>2021-12-27</td>\n",
       "      <td>155.84</td>\n",
       "    </tr>\n",
       "    <tr>\n",
       "      <th>2739</th>\n",
       "      <td>NVAX</td>\n",
       "      <td>2021-12-28</td>\n",
       "      <td>153.25</td>\n",
       "    </tr>\n",
       "    <tr>\n",
       "      <th>2740</th>\n",
       "      <td>NVAX</td>\n",
       "      <td>2021-12-29</td>\n",
       "      <td>154.83</td>\n",
       "    </tr>\n",
       "    <tr>\n",
       "      <th>2741</th>\n",
       "      <td>NVAX</td>\n",
       "      <td>2021-12-30</td>\n",
       "      <td>143.07</td>\n",
       "    </tr>\n",
       "  </tbody>\n",
       "</table>\n",
       "<p>2742 rows × 3 columns</p>\n",
       "</div>"
      ],
      "text/plain": [
       "     Ticker        Date   Close\n",
       "0       PFE  2020-03-11   30.02\n",
       "1       PFE  2020-03-12   32.71\n",
       "2       PFE  2020-03-15   30.18\n",
       "3       PFE  2020-03-16   32.16\n",
       "4       PFE  2020-03-17   32.36\n",
       "...     ...         ...     ...\n",
       "2737   NVAX  2021-12-26  157.80\n",
       "2738   NVAX  2021-12-27  155.84\n",
       "2739   NVAX  2021-12-28  153.25\n",
       "2740   NVAX  2021-12-29  154.83\n",
       "2741   NVAX  2021-12-30  143.07\n",
       "\n",
       "[2742 rows x 3 columns]"
      ]
     },
     "execution_count": 14,
     "metadata": {},
     "output_type": "execute_result"
    }
   ],
   "source": [
    "covid_df"
   ]
  },
  {
   "cell_type": "code",
   "execution_count": 15,
   "id": "ea34de3e",
   "metadata": {},
   "outputs": [],
   "source": [
    "PFE_df=covid.loc[covid_df['Ticker']=='PFE']"
   ]
  },
  {
   "cell_type": "code",
   "execution_count": 16,
   "id": "8546b742",
   "metadata": {},
   "outputs": [
    {
     "data": {
      "text/html": [
       "<div>\n",
       "<style scoped>\n",
       "    .dataframe tbody tr th:only-of-type {\n",
       "        vertical-align: middle;\n",
       "    }\n",
       "\n",
       "    .dataframe tbody tr th {\n",
       "        vertical-align: top;\n",
       "    }\n",
       "\n",
       "    .dataframe thead th {\n",
       "        text-align: right;\n",
       "    }\n",
       "</style>\n",
       "<table border=\"1\" class=\"dataframe\">\n",
       "  <thead>\n",
       "    <tr style=\"text-align: right;\">\n",
       "      <th></th>\n",
       "      <th>Ticker</th>\n",
       "      <th>Date</th>\n",
       "      <th>Open</th>\n",
       "      <th>High</th>\n",
       "      <th>Low</th>\n",
       "      <th>Close</th>\n",
       "      <th>Trading Volume</th>\n",
       "      <th>Volume Weighted Average Price</th>\n",
       "      <th>Number of Transactions</th>\n",
       "    </tr>\n",
       "  </thead>\n",
       "  <tbody>\n",
       "    <tr>\n",
       "      <th>0</th>\n",
       "      <td>PFE</td>\n",
       "      <td>2020-03-11</td>\n",
       "      <td>30.48</td>\n",
       "      <td>32.000</td>\n",
       "      <td>30.000</td>\n",
       "      <td>30.02</td>\n",
       "      <td>60585686.0</td>\n",
       "      <td>30.6586</td>\n",
       "      <td>307447</td>\n",
       "    </tr>\n",
       "    <tr>\n",
       "      <th>1</th>\n",
       "      <td>PFE</td>\n",
       "      <td>2020-03-12</td>\n",
       "      <td>31.27</td>\n",
       "      <td>32.880</td>\n",
       "      <td>30.230</td>\n",
       "      <td>32.71</td>\n",
       "      <td>58156515.0</td>\n",
       "      <td>31.4335</td>\n",
       "      <td>313654</td>\n",
       "    </tr>\n",
       "    <tr>\n",
       "      <th>2</th>\n",
       "      <td>PFE</td>\n",
       "      <td>2020-03-15</td>\n",
       "      <td>29.94</td>\n",
       "      <td>32.285</td>\n",
       "      <td>29.650</td>\n",
       "      <td>30.18</td>\n",
       "      <td>48333517.0</td>\n",
       "      <td>30.9841</td>\n",
       "      <td>270185</td>\n",
       "    </tr>\n",
       "    <tr>\n",
       "      <th>3</th>\n",
       "      <td>PFE</td>\n",
       "      <td>2020-03-16</td>\n",
       "      <td>31.64</td>\n",
       "      <td>32.650</td>\n",
       "      <td>30.590</td>\n",
       "      <td>32.16</td>\n",
       "      <td>52139745.0</td>\n",
       "      <td>31.6114</td>\n",
       "      <td>317412</td>\n",
       "    </tr>\n",
       "    <tr>\n",
       "      <th>4</th>\n",
       "      <td>PFE</td>\n",
       "      <td>2020-03-17</td>\n",
       "      <td>30.77</td>\n",
       "      <td>32.610</td>\n",
       "      <td>30.310</td>\n",
       "      <td>32.36</td>\n",
       "      <td>42228311.0</td>\n",
       "      <td>31.6159</td>\n",
       "      <td>249462</td>\n",
       "    </tr>\n",
       "    <tr>\n",
       "      <th>...</th>\n",
       "      <td>...</td>\n",
       "      <td>...</td>\n",
       "      <td>...</td>\n",
       "      <td>...</td>\n",
       "      <td>...</td>\n",
       "      <td>...</td>\n",
       "      <td>...</td>\n",
       "      <td>...</td>\n",
       "      <td>...</td>\n",
       "    </tr>\n",
       "    <tr>\n",
       "      <th>452</th>\n",
       "      <td>PFE</td>\n",
       "      <td>2021-12-26</td>\n",
       "      <td>58.85</td>\n",
       "      <td>59.380</td>\n",
       "      <td>58.231</td>\n",
       "      <td>59.20</td>\n",
       "      <td>27362581.0</td>\n",
       "      <td>59.0122</td>\n",
       "      <td>203587</td>\n",
       "    </tr>\n",
       "    <tr>\n",
       "      <th>453</th>\n",
       "      <td>PFE</td>\n",
       "      <td>2021-12-27</td>\n",
       "      <td>59.05</td>\n",
       "      <td>59.450</td>\n",
       "      <td>57.080</td>\n",
       "      <td>58.01</td>\n",
       "      <td>36901704.0</td>\n",
       "      <td>57.8947</td>\n",
       "      <td>237418</td>\n",
       "    </tr>\n",
       "    <tr>\n",
       "      <th>454</th>\n",
       "      <td>PFE</td>\n",
       "      <td>2021-12-28</td>\n",
       "      <td>57.31</td>\n",
       "      <td>58.030</td>\n",
       "      <td>57.070</td>\n",
       "      <td>57.58</td>\n",
       "      <td>26170224.0</td>\n",
       "      <td>57.6581</td>\n",
       "      <td>177306</td>\n",
       "    </tr>\n",
       "    <tr>\n",
       "      <th>455</th>\n",
       "      <td>PFE</td>\n",
       "      <td>2021-12-29</td>\n",
       "      <td>57.75</td>\n",
       "      <td>58.740</td>\n",
       "      <td>57.530</td>\n",
       "      <td>58.40</td>\n",
       "      <td>24559004.0</td>\n",
       "      <td>58.2467</td>\n",
       "      <td>151720</td>\n",
       "    </tr>\n",
       "    <tr>\n",
       "      <th>456</th>\n",
       "      <td>PFE</td>\n",
       "      <td>2021-12-30</td>\n",
       "      <td>58.53</td>\n",
       "      <td>59.800</td>\n",
       "      <td>58.440</td>\n",
       "      <td>59.05</td>\n",
       "      <td>28579620.0</td>\n",
       "      <td>59.2532</td>\n",
       "      <td>166300</td>\n",
       "    </tr>\n",
       "  </tbody>\n",
       "</table>\n",
       "<p>457 rows × 9 columns</p>\n",
       "</div>"
      ],
      "text/plain": [
       "    Ticker        Date   Open    High     Low  Close  Trading Volume  \\\n",
       "0      PFE  2020-03-11  30.48  32.000  30.000  30.02      60585686.0   \n",
       "1      PFE  2020-03-12  31.27  32.880  30.230  32.71      58156515.0   \n",
       "2      PFE  2020-03-15  29.94  32.285  29.650  30.18      48333517.0   \n",
       "3      PFE  2020-03-16  31.64  32.650  30.590  32.16      52139745.0   \n",
       "4      PFE  2020-03-17  30.77  32.610  30.310  32.36      42228311.0   \n",
       "..     ...         ...    ...     ...     ...    ...             ...   \n",
       "452    PFE  2021-12-26  58.85  59.380  58.231  59.20      27362581.0   \n",
       "453    PFE  2021-12-27  59.05  59.450  57.080  58.01      36901704.0   \n",
       "454    PFE  2021-12-28  57.31  58.030  57.070  57.58      26170224.0   \n",
       "455    PFE  2021-12-29  57.75  58.740  57.530  58.40      24559004.0   \n",
       "456    PFE  2021-12-30  58.53  59.800  58.440  59.05      28579620.0   \n",
       "\n",
       "     Volume Weighted Average Price  Number of Transactions  \n",
       "0                          30.6586                  307447  \n",
       "1                          31.4335                  313654  \n",
       "2                          30.9841                  270185  \n",
       "3                          31.6114                  317412  \n",
       "4                          31.6159                  249462  \n",
       "..                             ...                     ...  \n",
       "452                        59.0122                  203587  \n",
       "453                        57.8947                  237418  \n",
       "454                        57.6581                  177306  \n",
       "455                        58.2467                  151720  \n",
       "456                        59.2532                  166300  \n",
       "\n",
       "[457 rows x 9 columns]"
      ]
     },
     "execution_count": 16,
     "metadata": {},
     "output_type": "execute_result"
    }
   ],
   "source": [
    "PFE_df"
   ]
  },
  {
   "cell_type": "code",
   "execution_count": 17,
   "id": "7234b7e4",
   "metadata": {},
   "outputs": [],
   "source": [
    "x=np.arange(PFE_df['Date'].size).reshape(-1,1)"
   ]
  },
  {
   "cell_type": "code",
   "execution_count": 18,
   "id": "fbb10efe",
   "metadata": {},
   "outputs": [
    {
     "data": {
      "text/plain": [
       "(457, 1)"
      ]
     },
     "execution_count": 18,
     "metadata": {},
     "output_type": "execute_result"
    }
   ],
   "source": [
    "x.shape"
   ]
  },
  {
   "cell_type": "code",
   "execution_count": 19,
   "id": "62e3ecb8",
   "metadata": {},
   "outputs": [],
   "source": [
    "y=PFE_df.Close"
   ]
  },
  {
   "cell_type": "code",
   "execution_count": 20,
   "id": "a2599b9a",
   "metadata": {},
   "outputs": [],
   "source": [
    "model=LinearRegression()"
   ]
  },
  {
   "cell_type": "code",
   "execution_count": 21,
   "id": "903a8442",
   "metadata": {},
   "outputs": [
    {
     "data": {
      "text/plain": [
       "LinearRegression()"
      ]
     },
     "execution_count": 21,
     "metadata": {},
     "output_type": "execute_result"
    }
   ],
   "source": [
    "model.fit(x,y)"
   ]
  },
  {
   "cell_type": "code",
   "execution_count": 22,
   "id": "e09e3219",
   "metadata": {},
   "outputs": [],
   "source": [
    "y_pred = model.predict(x)"
   ]
  },
  {
   "cell_type": "code",
   "execution_count": 23,
   "id": "50a13ede",
   "metadata": {},
   "outputs": [
    {
     "name": "stderr",
     "output_type": "stream",
     "text": [
      "/var/folders/mx/ddl26rl54v52bn8d6n665nl00000gn/T/ipykernel_44099/3136643248.py:2: SettingWithCopyWarning: \n",
      "A value is trying to be set on a copy of a slice from a DataFrame.\n",
      "Try using .loc[row_indexer,col_indexer] = value instead\n",
      "\n",
      "See the caveats in the documentation: https://pandas.pydata.org/pandas-docs/stable/user_guide/indexing.html#returning-a-view-versus-a-copy\n",
      "  PFE_df['Date'] = pd.to_datetime(PFE_df['Date'])\n"
     ]
    },
    {
     "data": {
      "image/png": "[encoded data removed]",
      "text/plain": [
       "<Figure size 1440x432 with 1 Axes>"
      ]
     },
     "metadata": {
      "needs_background": "light"
     },
     "output_type": "display_data"
    }
   ],
   "source": [
    "plt.rcParams[\"figure.figsize\"] = (20,6)\n",
    "PFE_df['Date'] = pd.to_datetime(PFE_df['Date'])   \n",
    "plt.scatter(PFE_df.Date,y)\n",
    "plt.plot(PFE_df.Date,y_pred,color='red')\n",
    "plt.title(\"Linear Regression model on PFE\")\n",
    "plt.show()"
   ]
  },
  {
   "cell_type": "code",
   "execution_count": 24,
   "id": "7becee9d",
   "metadata": {},
   "outputs": [
    {
     "name": "stderr",
     "output_type": "stream",
     "text": [
      "/var/folders/mx/ddl26rl54v52bn8d6n665nl00000gn/T/ipykernel_44099/627509719.py:1: SettingWithCopyWarning: \n",
      "A value is trying to be set on a copy of a slice from a DataFrame.\n",
      "Try using .loc[row_indexer,col_indexer] = value instead\n",
      "\n",
      "See the caveats in the documentation: https://pandas.pydata.org/pandas-docs/stable/user_guide/indexing.html#returning-a-view-versus-a-copy\n",
      "  PFE_df[\"Pred_Price\"]=y_pred\n"
     ]
    }
   ],
   "source": [
    "PFE_df[\"Pred_Price\"]=y_pred"
   ]
  },
  {
   "cell_type": "code",
   "execution_count": 25,
   "id": "53ddaea7",
   "metadata": {},
   "outputs": [],
   "source": [
    "PFE_df=PFE_df.drop(columns=['Open','High','Low','Trading Volume','Volume Weighted Average Price','Number of Transactions'])"
   ]
  },
  {
   "cell_type": "code",
   "execution_count": 26,
   "id": "1e0f6f76",
   "metadata": {},
   "outputs": [
    {
     "data": {
      "text/html": [
       "<div>\n",
       "<style scoped>\n",
       "    .dataframe tbody tr th:only-of-type {\n",
       "        vertical-align: middle;\n",
       "    }\n",
       "\n",
       "    .dataframe tbody tr th {\n",
       "        vertical-align: top;\n",
       "    }\n",
       "\n",
       "    .dataframe thead th {\n",
       "        text-align: right;\n",
       "    }\n",
       "</style>\n",
       "<table border=\"1\" class=\"dataframe\">\n",
       "  <thead>\n",
       "    <tr style=\"text-align: right;\">\n",
       "      <th></th>\n",
       "      <th>Ticker</th>\n",
       "      <th>Date</th>\n",
       "      <th>Close</th>\n",
       "      <th>Pred_Price</th>\n",
       "    </tr>\n",
       "  </thead>\n",
       "  <tbody>\n",
       "    <tr>\n",
       "      <th>0</th>\n",
       "      <td>PFE</td>\n",
       "      <td>2020-03-11</td>\n",
       "      <td>30.02</td>\n",
       "      <td>31.906148</td>\n",
       "    </tr>\n",
       "    <tr>\n",
       "      <th>1</th>\n",
       "      <td>PFE</td>\n",
       "      <td>2020-03-12</td>\n",
       "      <td>32.71</td>\n",
       "      <td>31.939783</td>\n",
       "    </tr>\n",
       "    <tr>\n",
       "      <th>2</th>\n",
       "      <td>PFE</td>\n",
       "      <td>2020-03-15</td>\n",
       "      <td>30.18</td>\n",
       "      <td>31.973418</td>\n",
       "    </tr>\n",
       "    <tr>\n",
       "      <th>3</th>\n",
       "      <td>PFE</td>\n",
       "      <td>2020-03-16</td>\n",
       "      <td>32.16</td>\n",
       "      <td>32.007053</td>\n",
       "    </tr>\n",
       "    <tr>\n",
       "      <th>4</th>\n",
       "      <td>PFE</td>\n",
       "      <td>2020-03-17</td>\n",
       "      <td>32.36</td>\n",
       "      <td>32.040688</td>\n",
       "    </tr>\n",
       "    <tr>\n",
       "      <th>...</th>\n",
       "      <td>...</td>\n",
       "      <td>...</td>\n",
       "      <td>...</td>\n",
       "      <td>...</td>\n",
       "    </tr>\n",
       "    <tr>\n",
       "      <th>452</th>\n",
       "      <td>PFE</td>\n",
       "      <td>2021-12-26</td>\n",
       "      <td>59.20</td>\n",
       "      <td>47.109159</td>\n",
       "    </tr>\n",
       "    <tr>\n",
       "      <th>453</th>\n",
       "      <td>PFE</td>\n",
       "      <td>2021-12-27</td>\n",
       "      <td>58.01</td>\n",
       "      <td>47.142794</td>\n",
       "    </tr>\n",
       "    <tr>\n",
       "      <th>454</th>\n",
       "      <td>PFE</td>\n",
       "      <td>2021-12-28</td>\n",
       "      <td>57.58</td>\n",
       "      <td>47.176429</td>\n",
       "    </tr>\n",
       "    <tr>\n",
       "      <th>455</th>\n",
       "      <td>PFE</td>\n",
       "      <td>2021-12-29</td>\n",
       "      <td>58.40</td>\n",
       "      <td>47.210064</td>\n",
       "    </tr>\n",
       "    <tr>\n",
       "      <th>456</th>\n",
       "      <td>PFE</td>\n",
       "      <td>2021-12-30</td>\n",
       "      <td>59.05</td>\n",
       "      <td>47.243699</td>\n",
       "    </tr>\n",
       "  </tbody>\n",
       "</table>\n",
       "<p>457 rows × 4 columns</p>\n",
       "</div>"
      ],
      "text/plain": [
       "    Ticker       Date  Close  Pred_Price\n",
       "0      PFE 2020-03-11  30.02   31.906148\n",
       "1      PFE 2020-03-12  32.71   31.939783\n",
       "2      PFE 2020-03-15  30.18   31.973418\n",
       "3      PFE 2020-03-16  32.16   32.007053\n",
       "4      PFE 2020-03-17  32.36   32.040688\n",
       "..     ...        ...    ...         ...\n",
       "452    PFE 2021-12-26  59.20   47.109159\n",
       "453    PFE 2021-12-27  58.01   47.142794\n",
       "454    PFE 2021-12-28  57.58   47.176429\n",
       "455    PFE 2021-12-29  58.40   47.210064\n",
       "456    PFE 2021-12-30  59.05   47.243699\n",
       "\n",
       "[457 rows x 4 columns]"
      ]
     },
     "execution_count": 26,
     "metadata": {},
     "output_type": "execute_result"
    }
   ],
   "source": [
    "PFE_df"
   ]
  },
  {
   "cell_type": "code",
   "execution_count": 35,
   "id": "a6662f74",
   "metadata": {},
   "outputs": [],
   "source": [
    "see=mean_squared_error(y,y_pred)**(1/2)"
   ]
  },
  {
   "cell_type": "code",
   "execution_count": 32,
   "id": "726b25a6",
   "metadata": {},
   "outputs": [
    {
     "data": {
      "text/plain": [
       "0.5873461231926973"
      ]
     },
     "execution_count": 32,
     "metadata": {},
     "output_type": "execute_result"
    }
   ],
   "source": [
    "r2_score(y, y_pred)"
   ]
  },
  {
   "cell_type": "code",
   "execution_count": 33,
   "id": "d765ff34",
   "metadata": {},
   "outputs": [
    {
     "name": "stdout",
     "output_type": "stream",
     "text": [
      "where m = 0.03 and b = 31.91\n"
     ]
    }
   ],
   "source": [
    "print(\"where m =\", round(model.coef_[0],2), \"and b =\", round(model.intercept_,2))"
   ]
  },
  {
   "cell_type": "code",
   "execution_count": 36,
   "id": "800730d8",
   "metadata": {},
   "outputs": [
    {
     "data": {
      "text/plain": [
       "0.008066026532217831"
      ]
     },
     "execution_count": 36,
     "metadata": {},
     "output_type": "execute_result"
    }
   ],
   "source": [
    "t_test=0.03/see\n",
    "t_test"
   ]
  },
  {
   "cell_type": "code",
   "execution_count": 69,
   "id": "7ac19932",
   "metadata": {},
   "outputs": [],
   "source": [
    "PFE_df.to_csv(\"Prediction data (SPY and Covid companies)/PFE.csv\")"
   ]
  },
  {
   "cell_type": "code",
   "execution_count": 37,
   "id": "aa7584ec",
   "metadata": {},
   "outputs": [],
   "source": [
    "NVAX_df=covid.loc[covid_df['Ticker']=='NVAX']"
   ]
  },
  {
   "cell_type": "code",
   "execution_count": 38,
   "id": "2d7ce5e8",
   "metadata": {},
   "outputs": [],
   "source": [
    "NVAX_df=NVAX_df.drop(columns=['Open','High','Low','Trading Volume','Volume Weighted Average Price','Number of Transactions'])\n"
   ]
  },
  {
   "cell_type": "code",
   "execution_count": 39,
   "id": "7af93740",
   "metadata": {},
   "outputs": [],
   "source": [
    "x=np.arange(NVAX_df['Date'].size).reshape(-1,1)"
   ]
  },
  {
   "cell_type": "code",
   "execution_count": 40,
   "id": "1ff989cf",
   "metadata": {},
   "outputs": [
    {
     "data": {
      "text/plain": [
       "(457, 1)"
      ]
     },
     "execution_count": 40,
     "metadata": {},
     "output_type": "execute_result"
    }
   ],
   "source": [
    "x.shape"
   ]
  },
  {
   "cell_type": "code",
   "execution_count": 41,
   "id": "3e756e9a",
   "metadata": {},
   "outputs": [],
   "source": [
    "y=NVAX_df.Close"
   ]
  },
  {
   "cell_type": "code",
   "execution_count": 42,
   "id": "625520d4",
   "metadata": {},
   "outputs": [],
   "source": [
    "model=LinearRegression()"
   ]
  },
  {
   "cell_type": "code",
   "execution_count": 43,
   "id": "4be391da",
   "metadata": {},
   "outputs": [
    {
     "data": {
      "text/plain": [
       "LinearRegression()"
      ]
     },
     "execution_count": 43,
     "metadata": {},
     "output_type": "execute_result"
    }
   ],
   "source": [
    "model.fit(x,y)"
   ]
  },
  {
   "cell_type": "code",
   "execution_count": 44,
   "id": "c8f9ae74",
   "metadata": {},
   "outputs": [],
   "source": [
    "y_pred = model.predict(x)"
   ]
  },
  {
   "cell_type": "code",
   "execution_count": 45,
   "id": "d8c2e22e",
   "metadata": {},
   "outputs": [
    {
     "data": {
      "image/png": "[encoded data removed]",
      "text/plain": [
       "<Figure size 1440x432 with 1 Axes>"
      ]
     },
     "metadata": {
      "needs_background": "light"
     },
     "output_type": "display_data"
    }
   ],
   "source": [
    "plt.rcParams[\"figure.figsize\"] = (20,6)\n",
    "NVAX_df['Date'] = pd.to_datetime(NVAX_df['Date'])   \n",
    "plt.scatter(NVAX_df.Date,y)\n",
    "plt.plot(NVAX_df.Date,y_pred,color='red')\n",
    "plt.title(\"Linear Regression model on NVAX\")\n",
    "plt.show()"
   ]
  },
  {
   "cell_type": "code",
   "execution_count": 46,
   "id": "2eb2371d",
   "metadata": {},
   "outputs": [],
   "source": [
    "NVAX_df[\"Pred_Price\"]=y_pred"
   ]
  },
  {
   "cell_type": "code",
   "execution_count": 47,
   "id": "15b4bfa1",
   "metadata": {},
   "outputs": [
    {
     "data": {
      "text/html": [
       "<div>\n",
       "<style scoped>\n",
       "    .dataframe tbody tr th:only-of-type {\n",
       "        vertical-align: middle;\n",
       "    }\n",
       "\n",
       "    .dataframe tbody tr th {\n",
       "        vertical-align: top;\n",
       "    }\n",
       "\n",
       "    .dataframe thead th {\n",
       "        text-align: right;\n",
       "    }\n",
       "</style>\n",
       "<table border=\"1\" class=\"dataframe\">\n",
       "  <thead>\n",
       "    <tr style=\"text-align: right;\">\n",
       "      <th></th>\n",
       "      <th>Ticker</th>\n",
       "      <th>Date</th>\n",
       "      <th>Close</th>\n",
       "      <th>Pred_Price</th>\n",
       "    </tr>\n",
       "  </thead>\n",
       "  <tbody>\n",
       "    <tr>\n",
       "      <th>2285</th>\n",
       "      <td>NVAX</td>\n",
       "      <td>2020-03-11</td>\n",
       "      <td>9.29</td>\n",
       "      <td>52.709790</td>\n",
       "    </tr>\n",
       "    <tr>\n",
       "      <th>2286</th>\n",
       "      <td>NVAX</td>\n",
       "      <td>2020-03-12</td>\n",
       "      <td>8.41</td>\n",
       "      <td>53.111686</td>\n",
       "    </tr>\n",
       "    <tr>\n",
       "      <th>2287</th>\n",
       "      <td>NVAX</td>\n",
       "      <td>2020-03-15</td>\n",
       "      <td>6.91</td>\n",
       "      <td>53.513581</td>\n",
       "    </tr>\n",
       "    <tr>\n",
       "      <th>2288</th>\n",
       "      <td>NVAX</td>\n",
       "      <td>2020-03-16</td>\n",
       "      <td>9.50</td>\n",
       "      <td>53.915477</td>\n",
       "    </tr>\n",
       "    <tr>\n",
       "      <th>2289</th>\n",
       "      <td>NVAX</td>\n",
       "      <td>2020-03-17</td>\n",
       "      <td>10.65</td>\n",
       "      <td>54.317372</td>\n",
       "    </tr>\n",
       "    <tr>\n",
       "      <th>...</th>\n",
       "      <td>...</td>\n",
       "      <td>...</td>\n",
       "      <td>...</td>\n",
       "      <td>...</td>\n",
       "    </tr>\n",
       "    <tr>\n",
       "      <th>2737</th>\n",
       "      <td>NVAX</td>\n",
       "      <td>2021-12-26</td>\n",
       "      <td>157.80</td>\n",
       "      <td>234.366545</td>\n",
       "    </tr>\n",
       "    <tr>\n",
       "      <th>2738</th>\n",
       "      <td>NVAX</td>\n",
       "      <td>2021-12-27</td>\n",
       "      <td>155.84</td>\n",
       "      <td>234.768440</td>\n",
       "    </tr>\n",
       "    <tr>\n",
       "      <th>2739</th>\n",
       "      <td>NVAX</td>\n",
       "      <td>2021-12-28</td>\n",
       "      <td>153.25</td>\n",
       "      <td>235.170336</td>\n",
       "    </tr>\n",
       "    <tr>\n",
       "      <th>2740</th>\n",
       "      <td>NVAX</td>\n",
       "      <td>2021-12-29</td>\n",
       "      <td>154.83</td>\n",
       "      <td>235.572231</td>\n",
       "    </tr>\n",
       "    <tr>\n",
       "      <th>2741</th>\n",
       "      <td>NVAX</td>\n",
       "      <td>2021-12-30</td>\n",
       "      <td>143.07</td>\n",
       "      <td>235.974126</td>\n",
       "    </tr>\n",
       "  </tbody>\n",
       "</table>\n",
       "<p>457 rows × 4 columns</p>\n",
       "</div>"
      ],
      "text/plain": [
       "     Ticker       Date   Close  Pred_Price\n",
       "2285   NVAX 2020-03-11    9.29   52.709790\n",
       "2286   NVAX 2020-03-12    8.41   53.111686\n",
       "2287   NVAX 2020-03-15    6.91   53.513581\n",
       "2288   NVAX 2020-03-16    9.50   53.915477\n",
       "2289   NVAX 2020-03-17   10.65   54.317372\n",
       "...     ...        ...     ...         ...\n",
       "2737   NVAX 2021-12-26  157.80  234.366545\n",
       "2738   NVAX 2021-12-27  155.84  234.768440\n",
       "2739   NVAX 2021-12-28  153.25  235.170336\n",
       "2740   NVAX 2021-12-29  154.83  235.572231\n",
       "2741   NVAX 2021-12-30  143.07  235.974126\n",
       "\n",
       "[457 rows x 4 columns]"
      ]
     },
     "execution_count": 47,
     "metadata": {},
     "output_type": "execute_result"
    }
   ],
   "source": [
    "NVAX_df"
   ]
  },
  {
   "cell_type": "code",
   "execution_count": 48,
   "id": "fca490e1",
   "metadata": {},
   "outputs": [
    {
     "data": {
      "text/plain": [
       "0.5801860876010085"
      ]
     },
     "execution_count": 48,
     "metadata": {},
     "output_type": "execute_result"
    }
   ],
   "source": [
    "r2_score(y, y_pred)"
   ]
  },
  {
   "cell_type": "code",
   "execution_count": 49,
   "id": "d9913d5e",
   "metadata": {},
   "outputs": [
    {
     "name": "stdout",
     "output_type": "stream",
     "text": [
      "where m = 0.4 and b = 52.71\n"
     ]
    }
   ],
   "source": [
    "print(\"where m =\", round(model.coef_[0],2), \"and b =\", round(model.intercept_,2))"
   ]
  },
  {
   "cell_type": "code",
   "execution_count": 50,
   "id": "0c704138",
   "metadata": {},
   "outputs": [],
   "source": [
    "see=mean_squared_error(y,y_pred)**(1/2)"
   ]
  },
  {
   "cell_type": "code",
   "execution_count": 51,
   "id": "cc0ff238",
   "metadata": {},
   "outputs": [
    {
     "data": {
      "text/plain": [
       "0.0006651794810424616"
      ]
     },
     "execution_count": 51,
     "metadata": {},
     "output_type": "execute_result"
    }
   ],
   "source": [
    "t_test=0.03/see\n",
    "t_test"
   ]
  },
  {
   "cell_type": "code",
   "execution_count": 70,
   "id": "ad73e523",
   "metadata": {},
   "outputs": [],
   "source": [
    "NVAX_df.to_csv(\"Prediction data (SPY and Covid companies)/NVAX.csv\")"
   ]
  },
  {
   "cell_type": "code",
   "execution_count": 52,
   "id": "e888b071",
   "metadata": {},
   "outputs": [],
   "source": [
    "MRNA_df=covid.loc[covid_df['Ticker']=='MRNA']\n",
    "MRNA_df=MRNA_df.drop(columns=['Open','High','Low','Trading Volume','Volume Weighted Average Price','Number of Transactions'])"
   ]
  },
  {
   "cell_type": "code",
   "execution_count": 53,
   "id": "81e8ce58",
   "metadata": {},
   "outputs": [
    {
     "data": {
      "text/plain": [
       "(457, 1)"
      ]
     },
     "execution_count": 53,
     "metadata": {},
     "output_type": "execute_result"
    }
   ],
   "source": [
    "x=np.arange(MRNA_df['Date'].size).reshape(-1,1)\n",
    "x.shape"
   ]
  },
  {
   "cell_type": "code",
   "execution_count": 54,
   "id": "4a1d8bff",
   "metadata": {},
   "outputs": [
    {
     "data": {
      "text/plain": [
       "LinearRegression()"
      ]
     },
     "execution_count": 54,
     "metadata": {},
     "output_type": "execute_result"
    }
   ],
   "source": [
    "y=MRNA_df.Close\n",
    "model=LinearRegression()\n",
    "model.fit(x,y)"
   ]
  },
  {
   "cell_type": "code",
   "execution_count": 55,
   "id": "d83ee9c6",
   "metadata": {},
   "outputs": [],
   "source": [
    "y_pred = model.predict(x)"
   ]
  },
  {
   "cell_type": "code",
   "execution_count": 56,
   "id": "e6a26ff3",
   "metadata": {},
   "outputs": [
    {
     "data": {
      "image/png": "[encoded data removed]",
      "text/plain": [
       "<Figure size 1440x432 with 1 Axes>"
      ]
     },
     "metadata": {
      "needs_background": "light"
     },
     "output_type": "display_data"
    }
   ],
   "source": [
    "plt.rcParams[\"figure.figsize\"] = (20,6)\n",
    "MRNA_df['Date'] = pd.to_datetime(MRNA_df['Date'])   \n",
    "plt.scatter(MRNA_df.Date,y)\n",
    "plt.plot(MRNA_df.Date,y_pred,color='red')\n",
    "plt.title(\"Linear Regression model on MRNA\")\n",
    "plt.show()"
   ]
  },
  {
   "cell_type": "code",
   "execution_count": 57,
   "id": "550fefdf",
   "metadata": {},
   "outputs": [
    {
     "data": {
      "text/html": [
       "<div>\n",
       "<style scoped>\n",
       "    .dataframe tbody tr th:only-of-type {\n",
       "        vertical-align: middle;\n",
       "    }\n",
       "\n",
       "    .dataframe tbody tr th {\n",
       "        vertical-align: top;\n",
       "    }\n",
       "\n",
       "    .dataframe thead th {\n",
       "        text-align: right;\n",
       "    }\n",
       "</style>\n",
       "<table border=\"1\" class=\"dataframe\">\n",
       "  <thead>\n",
       "    <tr style=\"text-align: right;\">\n",
       "      <th></th>\n",
       "      <th>Ticker</th>\n",
       "      <th>Date</th>\n",
       "      <th>Close</th>\n",
       "      <th>Pred_Price</th>\n",
       "    </tr>\n",
       "  </thead>\n",
       "  <tbody>\n",
       "    <tr>\n",
       "      <th>1371</th>\n",
       "      <td>MRNA</td>\n",
       "      <td>2020-03-11</td>\n",
       "      <td>22.30</td>\n",
       "      <td>-7.197935</td>\n",
       "    </tr>\n",
       "    <tr>\n",
       "      <th>1372</th>\n",
       "      <td>MRNA</td>\n",
       "      <td>2020-03-12</td>\n",
       "      <td>21.30</td>\n",
       "      <td>-6.425592</td>\n",
       "    </tr>\n",
       "    <tr>\n",
       "      <th>1373</th>\n",
       "      <td>MRNA</td>\n",
       "      <td>2020-03-15</td>\n",
       "      <td>26.49</td>\n",
       "      <td>-5.653249</td>\n",
       "    </tr>\n",
       "    <tr>\n",
       "      <th>1374</th>\n",
       "      <td>MRNA</td>\n",
       "      <td>2020-03-16</td>\n",
       "      <td>28.18</td>\n",
       "      <td>-4.880907</td>\n",
       "    </tr>\n",
       "    <tr>\n",
       "      <th>1375</th>\n",
       "      <td>MRNA</td>\n",
       "      <td>2020-03-17</td>\n",
       "      <td>31.58</td>\n",
       "      <td>-4.108564</td>\n",
       "    </tr>\n",
       "    <tr>\n",
       "      <th>...</th>\n",
       "      <td>...</td>\n",
       "      <td>...</td>\n",
       "      <td>...</td>\n",
       "      <td>...</td>\n",
       "    </tr>\n",
       "    <tr>\n",
       "      <th>1823</th>\n",
       "      <td>MRNA</td>\n",
       "      <td>2021-12-26</td>\n",
       "      <td>246.88</td>\n",
       "      <td>341.901036</td>\n",
       "    </tr>\n",
       "    <tr>\n",
       "      <th>1824</th>\n",
       "      <td>MRNA</td>\n",
       "      <td>2021-12-27</td>\n",
       "      <td>241.44</td>\n",
       "      <td>342.673379</td>\n",
       "    </tr>\n",
       "    <tr>\n",
       "      <th>1825</th>\n",
       "      <td>MRNA</td>\n",
       "      <td>2021-12-28</td>\n",
       "      <td>247.88</td>\n",
       "      <td>343.445722</td>\n",
       "    </tr>\n",
       "    <tr>\n",
       "      <th>1826</th>\n",
       "      <td>MRNA</td>\n",
       "      <td>2021-12-29</td>\n",
       "      <td>251.60</td>\n",
       "      <td>344.218065</td>\n",
       "    </tr>\n",
       "    <tr>\n",
       "      <th>1827</th>\n",
       "      <td>MRNA</td>\n",
       "      <td>2021-12-30</td>\n",
       "      <td>253.98</td>\n",
       "      <td>344.990408</td>\n",
       "    </tr>\n",
       "  </tbody>\n",
       "</table>\n",
       "<p>457 rows × 4 columns</p>\n",
       "</div>"
      ],
      "text/plain": [
       "     Ticker       Date   Close  Pred_Price\n",
       "1371   MRNA 2020-03-11   22.30   -7.197935\n",
       "1372   MRNA 2020-03-12   21.30   -6.425592\n",
       "1373   MRNA 2020-03-15   26.49   -5.653249\n",
       "1374   MRNA 2020-03-16   28.18   -4.880907\n",
       "1375   MRNA 2020-03-17   31.58   -4.108564\n",
       "...     ...        ...     ...         ...\n",
       "1823   MRNA 2021-12-26  246.88  341.901036\n",
       "1824   MRNA 2021-12-27  241.44  342.673379\n",
       "1825   MRNA 2021-12-28  247.88  343.445722\n",
       "1826   MRNA 2021-12-29  251.60  344.218065\n",
       "1827   MRNA 2021-12-30  253.98  344.990408\n",
       "\n",
       "[457 rows x 4 columns]"
      ]
     },
     "execution_count": 57,
     "metadata": {},
     "output_type": "execute_result"
    }
   ],
   "source": [
    "MRNA_df[\"Pred_Price\"]=y_pred\n",
    "MRNA_df"
   ]
  },
  {
   "cell_type": "code",
   "execution_count": 58,
   "id": "522ab642",
   "metadata": {},
   "outputs": [
    {
     "data": {
      "text/plain": [
       "0.7699330613888375"
      ]
     },
     "execution_count": 58,
     "metadata": {},
     "output_type": "execute_result"
    }
   ],
   "source": [
    "r2_score(y, y_pred)"
   ]
  },
  {
   "cell_type": "code",
   "execution_count": 59,
   "id": "1e88c9cc",
   "metadata": {},
   "outputs": [
    {
     "name": "stdout",
     "output_type": "stream",
     "text": [
      "where m = 0.77 and b = -7.2\n"
     ]
    }
   ],
   "source": [
    "print(\"where m =\", round(model.coef_[0],2), \"and b =\", round(model.intercept_,2))"
   ]
  },
  {
   "cell_type": "code",
   "execution_count": 60,
   "id": "b621793a",
   "metadata": {},
   "outputs": [],
   "source": [
    "see=mean_squared_error(y,y_pred)**(1/2)"
   ]
  },
  {
   "cell_type": "code",
   "execution_count": 61,
   "id": "9b7a8ef7",
   "metadata": {},
   "outputs": [
    {
     "data": {
      "text/plain": [
       "0.0005386243222078712"
      ]
     },
     "execution_count": 61,
     "metadata": {},
     "output_type": "execute_result"
    }
   ],
   "source": [
    "t_test=0.03/see\n",
    "t_test"
   ]
  },
  {
   "cell_type": "code",
   "execution_count": 66,
   "id": "73230bed",
   "metadata": {},
   "outputs": [],
   "source": [
    "MRNA_df.to_csv(\"Prediction data (SPY and Covid companies)/MRNA.csv\")"
   ]
  },
  {
   "cell_type": "code",
   "execution_count": 62,
   "id": "af7de31c",
   "metadata": {},
   "outputs": [
    {
     "data": {
      "text/plain": [
       "(457, 1)"
      ]
     },
     "execution_count": 62,
     "metadata": {},
     "output_type": "execute_result"
    }
   ],
   "source": [
    "JNJ_df=covid.loc[covid_df['Ticker']=='JNJ']\n",
    "JNJ_df=JNJ_df.drop(columns=['Open','High','Low','Trading Volume','Volume Weighted Average Price','Number of Transactions'])\n",
    "x=np.arange(JNJ_df['Date'].size).reshape(-1,1)\n",
    "x.shape"
   ]
  },
  {
   "cell_type": "code",
   "execution_count": 63,
   "id": "48fe35fd",
   "metadata": {},
   "outputs": [],
   "source": [
    "y=JNJ_df.Close\n",
    "model=LinearRegression()\n",
    "model.fit(x,y)\n",
    "y_pred = model.predict(x)"
   ]
  },
  {
   "cell_type": "code",
   "execution_count": 64,
   "id": "986d5823",
   "metadata": {},
   "outputs": [
    {
     "data": {
      "image/png": "[encoded data removed]",
      "text/plain": [
       "<Figure size 1440x432 with 1 Axes>"
      ]
     },
     "metadata": {
      "needs_background": "light"
     },
     "output_type": "display_data"
    }
   ],
   "source": [
    "plt.rcParams[\"figure.figsize\"] = (20,6)\n",
    "JNJ_df['Date'] = pd.to_datetime(JNJ_df['Date'])   \n",
    "plt.scatter(JNJ_df.Date,y)\n",
    "plt.plot(MRNA_df.Date,y_pred,color='red')\n",
    "plt.title(\"Linear Regression model on JNJ\")\n",
    "plt.show()"
   ]
  },
  {
   "cell_type": "code",
   "execution_count": 65,
   "id": "f6fe59cc",
   "metadata": {},
   "outputs": [
    {
     "data": {
      "text/html": [
       "<div>\n",
       "<style scoped>\n",
       "    .dataframe tbody tr th:only-of-type {\n",
       "        vertical-align: middle;\n",
       "    }\n",
       "\n",
       "    .dataframe tbody tr th {\n",
       "        vertical-align: top;\n",
       "    }\n",
       "\n",
       "    .dataframe thead th {\n",
       "        text-align: right;\n",
       "    }\n",
       "</style>\n",
       "<table border=\"1\" class=\"dataframe\">\n",
       "  <thead>\n",
       "    <tr style=\"text-align: right;\">\n",
       "      <th></th>\n",
       "      <th>Ticker</th>\n",
       "      <th>Date</th>\n",
       "      <th>Close</th>\n",
       "      <th>Pred_Price</th>\n",
       "    </tr>\n",
       "  </thead>\n",
       "  <tbody>\n",
       "    <tr>\n",
       "      <th>1828</th>\n",
       "      <td>JNJ</td>\n",
       "      <td>2020-03-11</td>\n",
       "      <td>125.41</td>\n",
       "      <td>140.192700</td>\n",
       "    </tr>\n",
       "    <tr>\n",
       "      <th>1829</th>\n",
       "      <td>JNJ</td>\n",
       "      <td>2020-03-12</td>\n",
       "      <td>134.29</td>\n",
       "      <td>140.264612</td>\n",
       "    </tr>\n",
       "    <tr>\n",
       "      <th>1830</th>\n",
       "      <td>JNJ</td>\n",
       "      <td>2020-03-15</td>\n",
       "      <td>127.13</td>\n",
       "      <td>140.336524</td>\n",
       "    </tr>\n",
       "    <tr>\n",
       "      <th>1831</th>\n",
       "      <td>JNJ</td>\n",
       "      <td>2020-03-16</td>\n",
       "      <td>136.59</td>\n",
       "      <td>140.408435</td>\n",
       "    </tr>\n",
       "    <tr>\n",
       "      <th>1832</th>\n",
       "      <td>JNJ</td>\n",
       "      <td>2020-03-17</td>\n",
       "      <td>134.96</td>\n",
       "      <td>140.480347</td>\n",
       "    </tr>\n",
       "    <tr>\n",
       "      <th>...</th>\n",
       "      <td>...</td>\n",
       "      <td>...</td>\n",
       "      <td>...</td>\n",
       "      <td>...</td>\n",
       "    </tr>\n",
       "    <tr>\n",
       "      <th>2280</th>\n",
       "      <td>JNJ</td>\n",
       "      <td>2021-12-26</td>\n",
       "      <td>169.67</td>\n",
       "      <td>172.696895</td>\n",
       "    </tr>\n",
       "    <tr>\n",
       "      <th>2281</th>\n",
       "      <td>JNJ</td>\n",
       "      <td>2021-12-27</td>\n",
       "      <td>170.35</td>\n",
       "      <td>172.768807</td>\n",
       "    </tr>\n",
       "    <tr>\n",
       "      <th>2282</th>\n",
       "      <td>JNJ</td>\n",
       "      <td>2021-12-28</td>\n",
       "      <td>171.55</td>\n",
       "      <td>172.840719</td>\n",
       "    </tr>\n",
       "    <tr>\n",
       "      <th>2283</th>\n",
       "      <td>JNJ</td>\n",
       "      <td>2021-12-29</td>\n",
       "      <td>172.31</td>\n",
       "      <td>172.912631</td>\n",
       "    </tr>\n",
       "    <tr>\n",
       "      <th>2284</th>\n",
       "      <td>JNJ</td>\n",
       "      <td>2021-12-30</td>\n",
       "      <td>171.07</td>\n",
       "      <td>172.984543</td>\n",
       "    </tr>\n",
       "  </tbody>\n",
       "</table>\n",
       "<p>457 rows × 4 columns</p>\n",
       "</div>"
      ],
      "text/plain": [
       "     Ticker       Date   Close  Pred_Price\n",
       "1828    JNJ 2020-03-11  125.41  140.192700\n",
       "1829    JNJ 2020-03-12  134.29  140.264612\n",
       "1830    JNJ 2020-03-15  127.13  140.336524\n",
       "1831    JNJ 2020-03-16  136.59  140.408435\n",
       "1832    JNJ 2020-03-17  134.96  140.480347\n",
       "...     ...        ...     ...         ...\n",
       "2280    JNJ 2021-12-26  169.67  172.696895\n",
       "2281    JNJ 2021-12-27  170.35  172.768807\n",
       "2282    JNJ 2021-12-28  171.55  172.840719\n",
       "2283    JNJ 2021-12-29  172.31  172.912631\n",
       "2284    JNJ 2021-12-30  171.07  172.984543\n",
       "\n",
       "[457 rows x 4 columns]"
      ]
     },
     "execution_count": 65,
     "metadata": {},
     "output_type": "execute_result"
    }
   ],
   "source": [
    "JNJ_df[\"Pred_Price\"]=y_pred\n",
    "JNJ_df"
   ]
  },
  {
   "cell_type": "code",
   "execution_count": 66,
   "id": "0d8873d9",
   "metadata": {},
   "outputs": [
    {
     "data": {
      "text/plain": [
       "0.6782375616206711"
      ]
     },
     "execution_count": 66,
     "metadata": {},
     "output_type": "execute_result"
    }
   ],
   "source": [
    "r2_score(y, y_pred)"
   ]
  },
  {
   "cell_type": "code",
   "execution_count": 67,
   "id": "9e66d58a",
   "metadata": {},
   "outputs": [
    {
     "name": "stdout",
     "output_type": "stream",
     "text": [
      "where m = 0.07 and b = 140.19\n"
     ]
    }
   ],
   "source": [
    "print(\"where m =\", round(model.coef_[0],2), \"and b =\", round(model.intercept_,2))"
   ]
  },
  {
   "cell_type": "code",
   "execution_count": 68,
   "id": "76bdd7b0",
   "metadata": {},
   "outputs": [],
   "source": [
    "see=mean_squared_error(y,y_pred)**(1/2)"
   ]
  },
  {
   "cell_type": "code",
   "execution_count": 69,
   "id": "73d210d2",
   "metadata": {},
   "outputs": [
    {
     "data": {
      "text/plain": [
       "0.004591123484684124"
      ]
     },
     "execution_count": 69,
     "metadata": {},
     "output_type": "execute_result"
    }
   ],
   "source": [
    "t_test=0.03/see\n",
    "t_test"
   ]
  },
  {
   "cell_type": "code",
   "execution_count": 72,
   "id": "4c454c58",
   "metadata": {},
   "outputs": [],
   "source": [
    "JNJ_df.to_csv(\"Prediction data (SPY and Covid companies)/JNJ.csv\")"
   ]
  },
  {
   "cell_type": "code",
   "execution_count": 70,
   "id": "f72ed748",
   "metadata": {},
   "outputs": [
    {
     "data": {
      "text/plain": [
       "(457, 1)"
      ]
     },
     "execution_count": 70,
     "metadata": {},
     "output_type": "execute_result"
    }
   ],
   "source": [
    "BNTX_df=covid.loc[covid_df['Ticker']=='BNTX']\n",
    "BNTX_df=BNTX_df.drop(columns=['Open','High','Low','Trading Volume','Volume Weighted Average Price','Number of Transactions'])\n",
    "x=np.arange(BNTX_df['Date'].size).reshape(-1,1)\n",
    "x.shape"
   ]
  },
  {
   "cell_type": "code",
   "execution_count": 71,
   "id": "a44f455d",
   "metadata": {},
   "outputs": [],
   "source": [
    "y=BNTX_df.Close\n",
    "model=LinearRegression()\n",
    "model.fit(x,y)\n",
    "y_pred = model.predict(x)"
   ]
  },
  {
   "cell_type": "code",
   "execution_count": 72,
   "id": "f8c16223",
   "metadata": {},
   "outputs": [
    {
     "data": {
      "image/png": "[encoded data removed]",
      "text/plain": [
       "<Figure size 1440x432 with 1 Axes>"
      ]
     },
     "metadata": {
      "needs_background": "light"
     },
     "output_type": "display_data"
    }
   ],
   "source": [
    "plt.rcParams[\"figure.figsize\"] = (20,6)\n",
    "BNTX_df['Date'] = pd.to_datetime(BNTX_df['Date'])   \n",
    "plt.scatter(BNTX_df.Date,y)\n",
    "plt.plot(BNTX_df.Date,y_pred,color='red')\n",
    "plt.title(\"Linear Regression model on BNTX\")\n",
    "plt.show()"
   ]
  },
  {
   "cell_type": "code",
   "execution_count": 73,
   "id": "ee30c932",
   "metadata": {},
   "outputs": [
    {
     "data": {
      "text/html": [
       "<div>\n",
       "<style scoped>\n",
       "    .dataframe tbody tr th:only-of-type {\n",
       "        vertical-align: middle;\n",
       "    }\n",
       "\n",
       "    .dataframe tbody tr th {\n",
       "        vertical-align: top;\n",
       "    }\n",
       "\n",
       "    .dataframe thead th {\n",
       "        text-align: right;\n",
       "    }\n",
       "</style>\n",
       "<table border=\"1\" class=\"dataframe\">\n",
       "  <thead>\n",
       "    <tr style=\"text-align: right;\">\n",
       "      <th></th>\n",
       "      <th>Ticker</th>\n",
       "      <th>Date</th>\n",
       "      <th>Close</th>\n",
       "      <th>Pred_Price</th>\n",
       "    </tr>\n",
       "  </thead>\n",
       "  <tbody>\n",
       "    <tr>\n",
       "      <th>914</th>\n",
       "      <td>BNTX</td>\n",
       "      <td>2020-03-11</td>\n",
       "      <td>28.55</td>\n",
       "      <td>-1.180158</td>\n",
       "    </tr>\n",
       "    <tr>\n",
       "      <th>915</th>\n",
       "      <td>BNTX</td>\n",
       "      <td>2020-03-12</td>\n",
       "      <td>30.93</td>\n",
       "      <td>-0.493619</td>\n",
       "    </tr>\n",
       "    <tr>\n",
       "      <th>916</th>\n",
       "      <td>BNTX</td>\n",
       "      <td>2020-03-15</td>\n",
       "      <td>40.00</td>\n",
       "      <td>0.192920</td>\n",
       "    </tr>\n",
       "    <tr>\n",
       "      <th>917</th>\n",
       "      <td>BNTX</td>\n",
       "      <td>2020-03-16</td>\n",
       "      <td>66.60</td>\n",
       "      <td>0.879458</td>\n",
       "    </tr>\n",
       "    <tr>\n",
       "      <th>918</th>\n",
       "      <td>BNTX</td>\n",
       "      <td>2020-03-17</td>\n",
       "      <td>92.00</td>\n",
       "      <td>1.565997</td>\n",
       "    </tr>\n",
       "    <tr>\n",
       "      <th>...</th>\n",
       "      <td>...</td>\n",
       "      <td>...</td>\n",
       "      <td>...</td>\n",
       "      <td>...</td>\n",
       "    </tr>\n",
       "    <tr>\n",
       "      <th>1366</th>\n",
       "      <td>BNTX</td>\n",
       "      <td>2021-12-26</td>\n",
       "      <td>254.84</td>\n",
       "      <td>309.135360</td>\n",
       "    </tr>\n",
       "    <tr>\n",
       "      <th>1367</th>\n",
       "      <td>BNTX</td>\n",
       "      <td>2021-12-27</td>\n",
       "      <td>241.40</td>\n",
       "      <td>309.821898</td>\n",
       "    </tr>\n",
       "    <tr>\n",
       "      <th>1368</th>\n",
       "      <td>BNTX</td>\n",
       "      <td>2021-12-28</td>\n",
       "      <td>240.61</td>\n",
       "      <td>310.508437</td>\n",
       "    </tr>\n",
       "    <tr>\n",
       "      <th>1369</th>\n",
       "      <td>BNTX</td>\n",
       "      <td>2021-12-29</td>\n",
       "      <td>256.81</td>\n",
       "      <td>311.194976</td>\n",
       "    </tr>\n",
       "    <tr>\n",
       "      <th>1370</th>\n",
       "      <td>BNTX</td>\n",
       "      <td>2021-12-30</td>\n",
       "      <td>257.80</td>\n",
       "      <td>311.881515</td>\n",
       "    </tr>\n",
       "  </tbody>\n",
       "</table>\n",
       "<p>457 rows × 4 columns</p>\n",
       "</div>"
      ],
      "text/plain": [
       "     Ticker       Date   Close  Pred_Price\n",
       "914    BNTX 2020-03-11   28.55   -1.180158\n",
       "915    BNTX 2020-03-12   30.93   -0.493619\n",
       "916    BNTX 2020-03-15   40.00    0.192920\n",
       "917    BNTX 2020-03-16   66.60    0.879458\n",
       "918    BNTX 2020-03-17   92.00    1.565997\n",
       "...     ...        ...     ...         ...\n",
       "1366   BNTX 2021-12-26  254.84  309.135360\n",
       "1367   BNTX 2021-12-27  241.40  309.821898\n",
       "1368   BNTX 2021-12-28  240.61  310.508437\n",
       "1369   BNTX 2021-12-29  256.81  311.194976\n",
       "1370   BNTX 2021-12-30  257.80  311.881515\n",
       "\n",
       "[457 rows x 4 columns]"
      ]
     },
     "execution_count": 73,
     "metadata": {},
     "output_type": "execute_result"
    }
   ],
   "source": [
    "BNTX_df[\"Pred_Price\"]=y_pred\n",
    "BNTX_df"
   ]
  },
  {
   "cell_type": "code",
   "execution_count": 74,
   "id": "8c405ab3",
   "metadata": {},
   "outputs": [
    {
     "data": {
      "text/plain": [
       "0.7946278496901718"
      ]
     },
     "execution_count": 74,
     "metadata": {},
     "output_type": "execute_result"
    }
   ],
   "source": [
    "r2_score(y, y_pred)"
   ]
  },
  {
   "cell_type": "code",
   "execution_count": 75,
   "id": "60f81078",
   "metadata": {},
   "outputs": [
    {
     "name": "stdout",
     "output_type": "stream",
     "text": [
      "where m = 0.69 and b = -1.18\n"
     ]
    }
   ],
   "source": [
    "print(\"where m =\", round(model.coef_[0],2), \"and b =\", round(model.intercept_,2))"
   ]
  },
  {
   "cell_type": "code",
   "execution_count": 76,
   "id": "529f74fa",
   "metadata": {},
   "outputs": [],
   "source": [
    "see=mean_squared_error(y,y_pred)**(1/2)"
   ]
  },
  {
   "cell_type": "code",
   "execution_count": 77,
   "id": "07bac844",
   "metadata": {},
   "outputs": [
    {
     "data": {
      "text/plain": [
       "0.0006515425371281319"
      ]
     },
     "execution_count": 77,
     "metadata": {},
     "output_type": "execute_result"
    }
   ],
   "source": [
    "t_test=0.03/see\n",
    "t_test"
   ]
  },
  {
   "cell_type": "code",
   "execution_count": 73,
   "id": "3da93e45",
   "metadata": {},
   "outputs": [],
   "source": [
    "BNTX_df.to_csv(\"Prediction data (SPY and Covid companies)/BNTX.csv\")"
   ]
  },
  {
   "cell_type": "code",
   "execution_count": 78,
   "id": "4573d52e",
   "metadata": {},
   "outputs": [
    {
     "data": {
      "text/plain": [
       "(457, 1)"
      ]
     },
     "execution_count": 78,
     "metadata": {},
     "output_type": "execute_result"
    }
   ],
   "source": [
    "AZN_df=covid.loc[covid_df['Ticker']=='AZN']\n",
    "AZN_df=AZN_df.drop(columns=['Open','High','Low','Trading Volume','Volume Weighted Average Price','Number of Transactions'])\n",
    "x=np.arange(AZN_df['Date'].size).reshape(-1,1)\n",
    "x.shape"
   ]
  },
  {
   "cell_type": "code",
   "execution_count": 79,
   "id": "e0ae880c",
   "metadata": {},
   "outputs": [],
   "source": [
    "y=AZN_df.Close\n",
    "model=LinearRegression()\n",
    "model.fit(x,y)\n",
    "y_pred = model.predict(x)"
   ]
  },
  {
   "cell_type": "code",
   "execution_count": 80,
   "id": "e86370f2",
   "metadata": {},
   "outputs": [
    {
     "data": {
      "image/png": "[encoded data removed]",
      "text/plain": [
       "<Figure size 1440x432 with 1 Axes>"
      ]
     },
     "metadata": {
      "needs_background": "light"
     },
     "output_type": "display_data"
    }
   ],
   "source": [
    "plt.rcParams[\"figure.figsize\"] = (20,6)\n",
    "AZN_df['Date'] = pd.to_datetime(AZN_df['Date'])   \n",
    "plt.scatter(AZN_df.Date,y)\n",
    "plt.plot(AZN_df.Date,y_pred,color='red')\n",
    "plt.title(\"Linear Regression model on AZN\")\n",
    "plt.show()"
   ]
  },
  {
   "cell_type": "code",
   "execution_count": 81,
   "id": "654591b9",
   "metadata": {},
   "outputs": [
    {
     "data": {
      "text/html": [
       "<div>\n",
       "<style scoped>\n",
       "    .dataframe tbody tr th:only-of-type {\n",
       "        vertical-align: middle;\n",
       "    }\n",
       "\n",
       "    .dataframe tbody tr th {\n",
       "        vertical-align: top;\n",
       "    }\n",
       "\n",
       "    .dataframe thead th {\n",
       "        text-align: right;\n",
       "    }\n",
       "</style>\n",
       "<table border=\"1\" class=\"dataframe\">\n",
       "  <thead>\n",
       "    <tr style=\"text-align: right;\">\n",
       "      <th></th>\n",
       "      <th>Ticker</th>\n",
       "      <th>Date</th>\n",
       "      <th>Close</th>\n",
       "      <th>Pred_Price</th>\n",
       "    </tr>\n",
       "  </thead>\n",
       "  <tbody>\n",
       "    <tr>\n",
       "      <th>457</th>\n",
       "      <td>AZN</td>\n",
       "      <td>2020-03-11</td>\n",
       "      <td>40.76</td>\n",
       "      <td>49.682219</td>\n",
       "    </tr>\n",
       "    <tr>\n",
       "      <th>458</th>\n",
       "      <td>AZN</td>\n",
       "      <td>2020-03-12</td>\n",
       "      <td>42.28</td>\n",
       "      <td>49.702222</td>\n",
       "    </tr>\n",
       "    <tr>\n",
       "      <th>459</th>\n",
       "      <td>AZN</td>\n",
       "      <td>2020-03-15</td>\n",
       "      <td>37.79</td>\n",
       "      <td>49.722224</td>\n",
       "    </tr>\n",
       "    <tr>\n",
       "      <th>460</th>\n",
       "      <td>AZN</td>\n",
       "      <td>2020-03-16</td>\n",
       "      <td>40.93</td>\n",
       "      <td>49.742226</td>\n",
       "    </tr>\n",
       "    <tr>\n",
       "      <th>461</th>\n",
       "      <td>AZN</td>\n",
       "      <td>2020-03-17</td>\n",
       "      <td>39.36</td>\n",
       "      <td>49.762228</td>\n",
       "    </tr>\n",
       "    <tr>\n",
       "      <th>...</th>\n",
       "      <td>...</td>\n",
       "      <td>...</td>\n",
       "      <td>...</td>\n",
       "      <td>...</td>\n",
       "    </tr>\n",
       "    <tr>\n",
       "      <th>909</th>\n",
       "      <td>AZN</td>\n",
       "      <td>2021-12-26</td>\n",
       "      <td>58.06</td>\n",
       "      <td>58.723242</td>\n",
       "    </tr>\n",
       "    <tr>\n",
       "      <th>910</th>\n",
       "      <td>AZN</td>\n",
       "      <td>2021-12-27</td>\n",
       "      <td>58.32</td>\n",
       "      <td>58.743244</td>\n",
       "    </tr>\n",
       "    <tr>\n",
       "      <th>911</th>\n",
       "      <td>AZN</td>\n",
       "      <td>2021-12-28</td>\n",
       "      <td>58.65</td>\n",
       "      <td>58.763247</td>\n",
       "    </tr>\n",
       "    <tr>\n",
       "      <th>912</th>\n",
       "      <td>AZN</td>\n",
       "      <td>2021-12-29</td>\n",
       "      <td>58.47</td>\n",
       "      <td>58.783249</td>\n",
       "    </tr>\n",
       "    <tr>\n",
       "      <th>913</th>\n",
       "      <td>AZN</td>\n",
       "      <td>2021-12-30</td>\n",
       "      <td>58.25</td>\n",
       "      <td>58.803251</td>\n",
       "    </tr>\n",
       "  </tbody>\n",
       "</table>\n",
       "<p>457 rows × 4 columns</p>\n",
       "</div>"
      ],
      "text/plain": [
       "    Ticker       Date  Close  Pred_Price\n",
       "457    AZN 2020-03-11  40.76   49.682219\n",
       "458    AZN 2020-03-12  42.28   49.702222\n",
       "459    AZN 2020-03-15  37.79   49.722224\n",
       "460    AZN 2020-03-16  40.93   49.742226\n",
       "461    AZN 2020-03-17  39.36   49.762228\n",
       "..     ...        ...    ...         ...\n",
       "909    AZN 2021-12-26  58.06   58.723242\n",
       "910    AZN 2021-12-27  58.32   58.743244\n",
       "911    AZN 2021-12-28  58.65   58.763247\n",
       "912    AZN 2021-12-29  58.47   58.783249\n",
       "913    AZN 2021-12-30  58.25   58.803251\n",
       "\n",
       "[457 rows x 4 columns]"
      ]
     },
     "execution_count": 81,
     "metadata": {},
     "output_type": "execute_result"
    }
   ],
   "source": [
    "AZN_df[\"Pred_Price\"]=y_pred\n",
    "AZN_df"
   ]
  },
  {
   "cell_type": "code",
   "execution_count": 82,
   "id": "5780a9ac",
   "metadata": {},
   "outputs": [
    {
     "data": {
      "text/plain": [
       "0.35192099622252915"
      ]
     },
     "execution_count": 82,
     "metadata": {},
     "output_type": "execute_result"
    }
   ],
   "source": [
    "r2_score(y, y_pred)"
   ]
  },
  {
   "cell_type": "code",
   "execution_count": 83,
   "id": "96a05501",
   "metadata": {},
   "outputs": [
    {
     "name": "stdout",
     "output_type": "stream",
     "text": [
      "where m = 0.02 and b = 49.68\n"
     ]
    }
   ],
   "source": [
    "print(\"where m =\", round(model.coef_[0],2), \"and b =\", round(model.intercept_,2))"
   ]
  },
  {
   "cell_type": "code",
   "execution_count": 84,
   "id": "daaa1969",
   "metadata": {},
   "outputs": [],
   "source": [
    "see=mean_squared_error(y,y_pred)**(1/2)"
   ]
  },
  {
   "cell_type": "code",
   "execution_count": 85,
   "id": "e7246db4",
   "metadata": {},
   "outputs": [
    {
     "data": {
      "text/plain": [
       "0.008377726822187905"
      ]
     },
     "execution_count": 85,
     "metadata": {},
     "output_type": "execute_result"
    }
   ],
   "source": [
    "t_test=0.03/see\n",
    "t_test"
   ]
  },
  {
   "cell_type": "code",
   "execution_count": 74,
   "id": "ebe47db3",
   "metadata": {},
   "outputs": [],
   "source": [
    "AZN_df.to_csv(\"Prediction data (SPY and Covid companies)/AZN.csv\")"
   ]
  },
  {
   "cell_type": "code",
   "execution_count": null,
   "id": "f9451e95",
   "metadata": {},
   "outputs": [],
   "source": []
  }
 ],
 "metadata": {
  "kernelspec": {
   "display_name": "PythonData",
   "language": "python",
   "name": "pythondata"
  },
  "language_info": {
   "codemirror_mode": {
    "name": "ipython",
    "version": 3
   },
   "file_extension": ".py",
   "mimetype": "text/x-python",
   "name": "python",
   "nbconvert_exporter": "python",
   "pygments_lexer": "ipython3",
   "version": "3.8.8"
  }
 },
 "nbformat": 4,
 "nbformat_minor": 5
}
