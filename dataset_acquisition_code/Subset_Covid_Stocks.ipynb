{
 "cells": [
  {
   "cell_type": "code",
   "execution_count": 27,
   "id": "390f7c71-a798-43bb-be00-8cb7ad995e03",
   "metadata": {},
   "outputs": [],
   "source": [
    "import os\n",
    "import pandas as pd"
   ]
  },
  {
   "cell_type": "code",
   "execution_count": 28,
   "id": "4327ac26-66f4-4792-9900-de080a80ea3f",
   "metadata": {},
   "outputs": [],
   "source": [
    "# Path\n",
    "path = \"/Users/swang/UCB/Final_Project/Datasets/Health_Sector_stocks_API\""
   ]
  },
  {
   "cell_type": "code",
   "execution_count": 29,
   "id": "a544c852-0a9e-4a10-8192-b6d05e813edc",
   "metadata": {},
   "outputs": [
    {
     "name": "stdout",
     "output_type": "stream",
     "text": [
      "/Users/swang/UCB/Final_Project/Health_Sector_stocks_API/SPX_Health_Sector_stocks_all.csv\n"
     ]
    }
   ],
   "source": [
    "# Join various path components\n",
    "csv=os.path.join(path, \"SPX_Health_Sector_stocks_all.csv\")\n",
    "print(csv)"
   ]
  },
  {
   "cell_type": "code",
   "execution_count": 30,
   "id": "fe8202b2-e063-459a-8f6b-926d7b1d49cc",
   "metadata": {},
   "outputs": [],
   "source": [
    "SPX_Health_Sector_stocks = pd.read_csv(csv)"
   ]
  },
  {
   "cell_type": "code",
   "execution_count": 31,
   "id": "e73b28c0-9fb1-423a-810a-bbd62104abea",
   "metadata": {},
   "outputs": [
    {
     "data": {
      "text/html": [
       "<div>\n",
       "<style scoped>\n",
       "    .dataframe tbody tr th:only-of-type {\n",
       "        vertical-align: middle;\n",
       "    }\n",
       "\n",
       "    .dataframe tbody tr th {\n",
       "        vertical-align: top;\n",
       "    }\n",
       "\n",
       "    .dataframe thead th {\n",
       "        text-align: right;\n",
       "    }\n",
       "</style>\n",
       "<table border=\"1\" class=\"dataframe\">\n",
       "  <thead>\n",
       "    <tr style=\"text-align: right;\">\n",
       "      <th></th>\n",
       "      <th>Ticker</th>\n",
       "      <th>Date</th>\n",
       "      <th>Open</th>\n",
       "      <th>High</th>\n",
       "      <th>Low</th>\n",
       "      <th>Close</th>\n",
       "      <th>Trading Volume</th>\n",
       "      <th>Volume Weighted Average Price</th>\n",
       "      <th>Number of Transactions</th>\n",
       "    </tr>\n",
       "  </thead>\n",
       "  <tbody>\n",
       "    <tr>\n",
       "      <th>0</th>\n",
       "      <td>ABT</td>\n",
       "      <td>2020-03-11</td>\n",
       "      <td>73.28</td>\n",
       "      <td>78.15</td>\n",
       "      <td>72.01</td>\n",
       "      <td>74.74</td>\n",
       "      <td>14123240.0</td>\n",
       "      <td>74.9395</td>\n",
       "      <td>113015</td>\n",
       "    </tr>\n",
       "    <tr>\n",
       "      <th>1</th>\n",
       "      <td>ABT</td>\n",
       "      <td>2020-03-12</td>\n",
       "      <td>77.91</td>\n",
       "      <td>82.67</td>\n",
       "      <td>74.83</td>\n",
       "      <td>81.65</td>\n",
       "      <td>18521541.0</td>\n",
       "      <td>77.7958</td>\n",
       "      <td>160884</td>\n",
       "    </tr>\n",
       "    <tr>\n",
       "      <th>2</th>\n",
       "      <td>ABT</td>\n",
       "      <td>2020-03-15</td>\n",
       "      <td>70.65</td>\n",
       "      <td>79.25</td>\n",
       "      <td>70.00</td>\n",
       "      <td>73.66</td>\n",
       "      <td>14358978.0</td>\n",
       "      <td>75.4936</td>\n",
       "      <td>113523</td>\n",
       "    </tr>\n",
       "    <tr>\n",
       "      <th>3</th>\n",
       "      <td>ABT</td>\n",
       "      <td>2020-03-16</td>\n",
       "      <td>75.52</td>\n",
       "      <td>79.79</td>\n",
       "      <td>73.34</td>\n",
       "      <td>79.49</td>\n",
       "      <td>13441141.0</td>\n",
       "      <td>77.9694</td>\n",
       "      <td>124950</td>\n",
       "    </tr>\n",
       "    <tr>\n",
       "      <th>4</th>\n",
       "      <td>ABT</td>\n",
       "      <td>2020-03-17</td>\n",
       "      <td>74.98</td>\n",
       "      <td>81.99</td>\n",
       "      <td>74.39</td>\n",
       "      <td>79.26</td>\n",
       "      <td>17680823.0</td>\n",
       "      <td>78.7228</td>\n",
       "      <td>141919</td>\n",
       "    </tr>\n",
       "  </tbody>\n",
       "</table>\n",
       "</div>"
      ],
      "text/plain": [
       "  Ticker        Date   Open   High    Low  Close  Trading Volume  \\\n",
       "0    ABT  2020-03-11  73.28  78.15  72.01  74.74      14123240.0   \n",
       "1    ABT  2020-03-12  77.91  82.67  74.83  81.65      18521541.0   \n",
       "2    ABT  2020-03-15  70.65  79.25  70.00  73.66      14358978.0   \n",
       "3    ABT  2020-03-16  75.52  79.79  73.34  79.49      13441141.0   \n",
       "4    ABT  2020-03-17  74.98  81.99  74.39  79.26      17680823.0   \n",
       "\n",
       "   Volume Weighted Average Price  Number of Transactions  \n",
       "0                        74.9395                  113015  \n",
       "1                        77.7958                  160884  \n",
       "2                        75.4936                  113523  \n",
       "3                        77.9694                  124950  \n",
       "4                        78.7228                  141919  "
      ]
     },
     "execution_count": 31,
     "metadata": {},
     "output_type": "execute_result"
    }
   ],
   "source": [
    "SPX_Health_Sector_stocks.head()"
   ]
  },
  {
   "cell_type": "code",
   "execution_count": 33,
   "id": "359031d3-7abd-457f-8107-3fd01993d2ea",
   "metadata": {},
   "outputs": [],
   "source": [
    "covid_vaccine_companies=[\"PFE\",\"AZN\",\"BNTX\",\"MRNA\",\"JNJ\",\"NVAX\"]"
   ]
  },
  {
   "cell_type": "code",
   "execution_count": 34,
   "id": "53850792-cd4e-4ab3-b20c-81e3ea5dc7ca",
   "metadata": {},
   "outputs": [],
   "source": [
    "covid_companies_df=pd.DataFrame()"
   ]
  },
  {
   "cell_type": "code",
   "execution_count": 35,
   "id": "234611ca-f948-45be-945c-01bec430f94f",
   "metadata": {},
   "outputs": [],
   "source": [
    "for ticker in covid_vaccine_companies:\n",
    "    df=SPX_Health_Sector_stocks[SPX_Health_Sector_stocks['Ticker']==ticker]\n",
    "    covid_companies_df=covid_companies_df.append(df)\n",
    "    next"
   ]
  },
  {
   "cell_type": "code",
   "execution_count": 36,
   "id": "77d6fad0-a1a8-4839-a396-76a64b83a286",
   "metadata": {},
   "outputs": [
    {
     "data": {
      "text/html": [
       "<div>\n",
       "<style scoped>\n",
       "    .dataframe tbody tr th:only-of-type {\n",
       "        vertical-align: middle;\n",
       "    }\n",
       "\n",
       "    .dataframe tbody tr th {\n",
       "        vertical-align: top;\n",
       "    }\n",
       "\n",
       "    .dataframe thead th {\n",
       "        text-align: right;\n",
       "    }\n",
       "</style>\n",
       "<table border=\"1\" class=\"dataframe\">\n",
       "  <thead>\n",
       "    <tr style=\"text-align: right;\">\n",
       "      <th></th>\n",
       "      <th>Date</th>\n",
       "      <th>Open</th>\n",
       "      <th>High</th>\n",
       "      <th>Low</th>\n",
       "      <th>Close</th>\n",
       "      <th>Trading Volume</th>\n",
       "      <th>Volume Weighted Average Price</th>\n",
       "      <th>Number of Transactions</th>\n",
       "    </tr>\n",
       "    <tr>\n",
       "      <th>Ticker</th>\n",
       "      <th></th>\n",
       "      <th></th>\n",
       "      <th></th>\n",
       "      <th></th>\n",
       "      <th></th>\n",
       "      <th></th>\n",
       "      <th></th>\n",
       "      <th></th>\n",
       "    </tr>\n",
       "  </thead>\n",
       "  <tbody>\n",
       "    <tr>\n",
       "      <th>AZN</th>\n",
       "      <td>457</td>\n",
       "      <td>457</td>\n",
       "      <td>457</td>\n",
       "      <td>457</td>\n",
       "      <td>457</td>\n",
       "      <td>457</td>\n",
       "      <td>457</td>\n",
       "      <td>457</td>\n",
       "    </tr>\n",
       "    <tr>\n",
       "      <th>BNTX</th>\n",
       "      <td>457</td>\n",
       "      <td>457</td>\n",
       "      <td>457</td>\n",
       "      <td>457</td>\n",
       "      <td>457</td>\n",
       "      <td>457</td>\n",
       "      <td>457</td>\n",
       "      <td>457</td>\n",
       "    </tr>\n",
       "    <tr>\n",
       "      <th>JNJ</th>\n",
       "      <td>457</td>\n",
       "      <td>457</td>\n",
       "      <td>457</td>\n",
       "      <td>457</td>\n",
       "      <td>457</td>\n",
       "      <td>457</td>\n",
       "      <td>457</td>\n",
       "      <td>457</td>\n",
       "    </tr>\n",
       "    <tr>\n",
       "      <th>MRNA</th>\n",
       "      <td>457</td>\n",
       "      <td>457</td>\n",
       "      <td>457</td>\n",
       "      <td>457</td>\n",
       "      <td>457</td>\n",
       "      <td>457</td>\n",
       "      <td>457</td>\n",
       "      <td>457</td>\n",
       "    </tr>\n",
       "    <tr>\n",
       "      <th>NVAX</th>\n",
       "      <td>457</td>\n",
       "      <td>457</td>\n",
       "      <td>457</td>\n",
       "      <td>457</td>\n",
       "      <td>457</td>\n",
       "      <td>457</td>\n",
       "      <td>457</td>\n",
       "      <td>457</td>\n",
       "    </tr>\n",
       "    <tr>\n",
       "      <th>PFE</th>\n",
       "      <td>457</td>\n",
       "      <td>457</td>\n",
       "      <td>457</td>\n",
       "      <td>457</td>\n",
       "      <td>457</td>\n",
       "      <td>457</td>\n",
       "      <td>457</td>\n",
       "      <td>457</td>\n",
       "    </tr>\n",
       "  </tbody>\n",
       "</table>\n",
       "</div>"
      ],
      "text/plain": [
       "        Date  Open  High  Low  Close  Trading Volume  \\\n",
       "Ticker                                                 \n",
       "AZN      457   457   457  457    457             457   \n",
       "BNTX     457   457   457  457    457             457   \n",
       "JNJ      457   457   457  457    457             457   \n",
       "MRNA     457   457   457  457    457             457   \n",
       "NVAX     457   457   457  457    457             457   \n",
       "PFE      457   457   457  457    457             457   \n",
       "\n",
       "        Volume Weighted Average Price  Number of Transactions  \n",
       "Ticker                                                         \n",
       "AZN                               457                     457  \n",
       "BNTX                              457                     457  \n",
       "JNJ                               457                     457  \n",
       "MRNA                              457                     457  \n",
       "NVAX                              457                     457  \n",
       "PFE                               457                     457  "
      ]
     },
     "execution_count": 36,
     "metadata": {},
     "output_type": "execute_result"
    }
   ],
   "source": [
    "covid_companies_df.head()\n",
    "covid_companies_df.groupby('Ticker').count()"
   ]
  },
  {
   "cell_type": "code",
   "execution_count": 38,
   "id": "41c39836-0b80-4ff3-83d7-3b074a53b154",
   "metadata": {},
   "outputs": [],
   "source": [
    "covid_companies_df.to_csv('../Datasets/Covid_Companies_Stocks.csv',index=False)"
   ]
  },
  {
   "cell_type": "code",
   "execution_count": null,
   "id": "f45d8fb0-7390-4bb9-9588-dcad76114d50",
   "metadata": {},
   "outputs": [],
   "source": []
  }
 ],
 "metadata": {
  "kernelspec": {
   "display_name": "PythonData",
   "language": "python",
   "name": "pythondata"
  },
  "language_info": {
   "codemirror_mode": {
    "name": "ipython",
    "version": 3
   },
   "file_extension": ".py",
   "mimetype": "text/x-python",
   "name": "python",
   "nbconvert_exporter": "python",
   "pygments_lexer": "ipython3",
   "version": "3.7.11"
  }
 },
 "nbformat": 4,
 "nbformat_minor": 5
}
