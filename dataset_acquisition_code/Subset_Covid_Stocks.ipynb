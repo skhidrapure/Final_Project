{
 "cells": [
  {
   "cell_type": "code",
   "execution_count": 1,
   "id": "390f7c71-a798-43bb-be00-8cb7ad995e03",
   "metadata": {},
   "outputs": [],
   "source": [
    "import os\n",
    "import pandas as pd"
   ]
  },
  {
   "cell_type": "code",
   "execution_count": 28,
   "id": "4327ac26-66f4-4792-9900-de080a80ea3f",
   "metadata": {},
   "outputs": [],
   "source": [
    "# Path\n",
    "path = \"/Users/swang/UCB/Final_Project/Datasets/Health_Sector_stocks_API\""
   ]
  },
  {
   "cell_type": "code",
   "execution_count": 29,
   "id": "a544c852-0a9e-4a10-8192-b6d05e813edc",
   "metadata": {},
   "outputs": [
    {
     "name": "stdout",
     "output_type": "stream",
     "text": [
      "/Users/swang/UCB/Final_Project/Health_Sector_stocks_API/SPX_Health_Sector_stocks_all.csv\n"
     ]
    }
   ],
   "source": [
    "# Join various path components\n",
    "csv=os.path.join(path, \"SPX_Health_Sector_stocks_all.csv\")\n",
    "print(csv)"
   ]
  },
  {
   "cell_type": "code",
   "execution_count": 30,
   "id": "fe8202b2-e063-459a-8f6b-926d7b1d49cc",
   "metadata": {},
   "outputs": [],
   "source": [
    "SPX_Health_Sector_stocks = pd.read_csv(csv)"
   ]
  },
  {
   "cell_type": "code",
   "execution_count": 31,
   "id": "e73b28c0-9fb1-423a-810a-bbd62104abea",
   "metadata": {},
   "outputs": [
    {
     "data": {
      "text/html": [
       "<div>\n",
       "<style scoped>\n",
       "    .dataframe tbody tr th:only-of-type {\n",
       "        vertical-align: middle;\n",
       "    }\n",
       "\n",
       "    .dataframe tbody tr th {\n",
       "        vertical-align: top;\n",
       "    }\n",
       "\n",
       "    .dataframe thead th {\n",
       "        text-align: right;\n",
       "    }\n",
       "</style>\n",
       "<table border=\"1\" class=\"dataframe\">\n",
       "  <thead>\n",
       "    <tr style=\"text-align: right;\">\n",
       "      <th></th>\n",
       "      <th>Ticker</th>\n",
       "      <th>Date</th>\n",
       "      <th>Open</th>\n",
       "      <th>High</th>\n",
       "      <th>Low</th>\n",
       "      <th>Close</th>\n",
       "      <th>Trading Volume</th>\n",
       "      <th>Volume Weighted Average Price</th>\n",
       "      <th>Number of Transactions</th>\n",
       "    </tr>\n",
       "  </thead>\n",
       "  <tbody>\n",
       "    <tr>\n",
       "      <th>0</th>\n",
       "      <td>ABT</td>\n",
       "      <td>2020-03-11</td>\n",
       "      <td>73.28</td>\n",
       "      <td>78.15</td>\n",
       "      <td>72.01</td>\n",
       "      <td>74.74</td>\n",
       "      <td>14123240.0</td>\n",
       "      <td>74.9395</td>\n",
       "      <td>113015</td>\n",
       "    </tr>\n",
       "    <tr>\n",
       "      <th>1</th>\n",
       "      <td>ABT</td>\n",
       "      <td>2020-03-12</td>\n",
       "      <td>77.91</td>\n",
       "      <td>82.67</td>\n",
       "      <td>74.83</td>\n",
       "      <td>81.65</td>\n",
       "      <td>18521541.0</td>\n",
       "      <td>77.7958</td>\n",
       "      <td>160884</td>\n",
       "    </tr>\n",
       "    <tr>\n",
       "      <th>2</th>\n",
       "      <td>ABT</td>\n",
       "      <td>2020-03-15</td>\n",
       "      <td>70.65</td>\n",
       "      <td>79.25</td>\n",
       "      <td>70.00</td>\n",
       "      <td>73.66</td>\n",
       "      <td>14358978.0</td>\n",
       "      <td>75.4936</td>\n",
       "      <td>113523</td>\n",
       "    </tr>\n",
       "    <tr>\n",
       "      <th>3</th>\n",
       "      <td>ABT</td>\n",
       "      <td>2020-03-16</td>\n",
       "      <td>75.52</td>\n",
       "      <td>79.79</td>\n",
       "      <td>73.34</td>\n",
       "      <td>79.49</td>\n",
       "      <td>13441141.0</td>\n",
       "      <td>77.9694</td>\n",
       "      <td>124950</td>\n",
       "    </tr>\n",
       "    <tr>\n",
       "      <th>4</th>\n",
       "      <td>ABT</td>\n",
       "      <td>2020-03-17</td>\n",
       "      <td>74.98</td>\n",
       "      <td>81.99</td>\n",
       "      <td>74.39</td>\n",
       "      <td>79.26</td>\n",
       "      <td>17680823.0</td>\n",
       "      <td>78.7228</td>\n",
       "      <td>141919</td>\n",
       "    </tr>\n",
       "  </tbody>\n",
       "</table>\n",
       "</div>"
      ],
      "text/plain": [
       "  Ticker        Date   Open   High    Low  Close  Trading Volume  \\\n",
       "0    ABT  2020-03-11  73.28  78.15  72.01  74.74      14123240.0   \n",
       "1    ABT  2020-03-12  77.91  82.67  74.83  81.65      18521541.0   \n",
       "2    ABT  2020-03-15  70.65  79.25  70.00  73.66      14358978.0   \n",
       "3    ABT  2020-03-16  75.52  79.79  73.34  79.49      13441141.0   \n",
       "4    ABT  2020-03-17  74.98  81.99  74.39  79.26      17680823.0   \n",
       "\n",
       "   Volume Weighted Average Price  Number of Transactions  \n",
       "0                        74.9395                  113015  \n",
       "1                        77.7958                  160884  \n",
       "2                        75.4936                  113523  \n",
       "3                        77.9694                  124950  \n",
       "4                        78.7228                  141919  "
      ]
     },
     "execution_count": 31,
     "metadata": {},
     "output_type": "execute_result"
    }
   ],
   "source": [
    "SPX_Health_Sector_stocks.head()"
   ]
  },
  {
   "cell_type": "code",
   "execution_count": 33,
   "id": "359031d3-7abd-457f-8107-3fd01993d2ea",
   "metadata": {},
   "outputs": [],
   "source": [
    "covid_vaccine_companies=[\"PFE\",\"AZN\",\"BNTX\",\"MRNA\",\"JNJ\",\"NVAX\"]"
   ]
  },
  {
   "cell_type": "code",
   "execution_count": 34,
   "id": "53850792-cd4e-4ab3-b20c-81e3ea5dc7ca",
   "metadata": {},
   "outputs": [],
   "source": [
    "covid_companies_df=pd.DataFrame()"
   ]
  },
  {
   "cell_type": "code",
   "execution_count": 35,
   "id": "234611ca-f948-45be-945c-01bec430f94f",
   "metadata": {},
   "outputs": [],
   "source": [
    "for ticker in covid_vaccine_companies:\n",
    "    df=SPX_Health_Sector_stocks[SPX_Health_Sector_stocks['Ticker']==ticker]\n",
    "    covid_companies_df=covid_companies_df.append(df)\n",
    "    next"
   ]
  },
  {
   "cell_type": "code",
   "execution_count": 36,
   "id": "77d6fad0-a1a8-4839-a396-76a64b83a286",
   "metadata": {},
   "outputs": [
    {
     "data": {
      "text/html": [
       "<div>\n",
       "<style scoped>\n",
       "    .dataframe tbody tr th:only-of-type {\n",
       "        vertical-align: middle;\n",
       "    }\n",
       "\n",
       "    .dataframe tbody tr th {\n",
       "        vertical-align: top;\n",
       "    }\n",
       "\n",
       "    .dataframe thead th {\n",
       "        text-align: right;\n",
       "    }\n",
       "</style>\n",
       "<table border=\"1\" class=\"dataframe\">\n",
       "  <thead>\n",
       "    <tr style=\"text-align: right;\">\n",
       "      <th></th>\n",
       "      <th>Date</th>\n",
       "      <th>Open</th>\n",
       "      <th>High</th>\n",
       "      <th>Low</th>\n",
       "      <th>Close</th>\n",
       "      <th>Trading Volume</th>\n",
       "      <th>Volume Weighted Average Price</th>\n",
       "      <th>Number of Transactions</th>\n",
       "    </tr>\n",
       "    <tr>\n",
       "      <th>Ticker</th>\n",
       "      <th></th>\n",
       "      <th></th>\n",
       "      <th></th>\n",
       "      <th></th>\n",
       "      <th></th>\n",
       "      <th></th>\n",
       "      <th></th>\n",
       "      <th></th>\n",
       "    </tr>\n",
       "  </thead>\n",
       "  <tbody>\n",
       "    <tr>\n",
       "      <th>AZN</th>\n",
       "      <td>457</td>\n",
       "      <td>457</td>\n",
       "      <td>457</td>\n",
       "      <td>457</td>\n",
       "      <td>457</td>\n",
       "      <td>457</td>\n",
       "      <td>457</td>\n",
       "      <td>457</td>\n",
       "    </tr>\n",
       "    <tr>\n",
       "      <th>BNTX</th>\n",
       "      <td>457</td>\n",
       "      <td>457</td>\n",
       "      <td>457</td>\n",
       "      <td>457</td>\n",
       "      <td>457</td>\n",
       "      <td>457</td>\n",
       "      <td>457</td>\n",
       "      <td>457</td>\n",
       "    </tr>\n",
       "    <tr>\n",
       "      <th>JNJ</th>\n",
       "      <td>457</td>\n",
       "      <td>457</td>\n",
       "      <td>457</td>\n",
       "      <td>457</td>\n",
       "      <td>457</td>\n",
       "      <td>457</td>\n",
       "      <td>457</td>\n",
       "      <td>457</td>\n",
       "    </tr>\n",
       "    <tr>\n",
       "      <th>MRNA</th>\n",
       "      <td>457</td>\n",
       "      <td>457</td>\n",
       "      <td>457</td>\n",
       "      <td>457</td>\n",
       "      <td>457</td>\n",
       "      <td>457</td>\n",
       "      <td>457</td>\n",
       "      <td>457</td>\n",
       "    </tr>\n",
       "    <tr>\n",
       "      <th>NVAX</th>\n",
       "      <td>457</td>\n",
       "      <td>457</td>\n",
       "      <td>457</td>\n",
       "      <td>457</td>\n",
       "      <td>457</td>\n",
       "      <td>457</td>\n",
       "      <td>457</td>\n",
       "      <td>457</td>\n",
       "    </tr>\n",
       "    <tr>\n",
       "      <th>PFE</th>\n",
       "      <td>457</td>\n",
       "      <td>457</td>\n",
       "      <td>457</td>\n",
       "      <td>457</td>\n",
       "      <td>457</td>\n",
       "      <td>457</td>\n",
       "      <td>457</td>\n",
       "      <td>457</td>\n",
       "    </tr>\n",
       "  </tbody>\n",
       "</table>\n",
       "</div>"
      ],
      "text/plain": [
       "        Date  Open  High  Low  Close  Trading Volume  \\\n",
       "Ticker                                                 \n",
       "AZN      457   457   457  457    457             457   \n",
       "BNTX     457   457   457  457    457             457   \n",
       "JNJ      457   457   457  457    457             457   \n",
       "MRNA     457   457   457  457    457             457   \n",
       "NVAX     457   457   457  457    457             457   \n",
       "PFE      457   457   457  457    457             457   \n",
       "\n",
       "        Volume Weighted Average Price  Number of Transactions  \n",
       "Ticker                                                         \n",
       "AZN                               457                     457  \n",
       "BNTX                              457                     457  \n",
       "JNJ                               457                     457  \n",
       "MRNA                              457                     457  \n",
       "NVAX                              457                     457  \n",
       "PFE                               457                     457  "
      ]
     },
     "execution_count": 36,
     "metadata": {},
     "output_type": "execute_result"
    }
   ],
   "source": [
    "covid_companies_df.head()\n",
    "covid_companies_df.groupby('Ticker').count()"
   ]
  },
  {
   "cell_type": "code",
   "execution_count": 38,
   "id": "41c39836-0b80-4ff3-83d7-3b074a53b154",
   "metadata": {},
   "outputs": [],
   "source": [
    "covid_companies_df.to_csv('../Datasets/Covid_Companies_Stocks.csv',index=False)"
   ]
  },
  {
   "cell_type": "markdown",
   "id": "2080efc0",
   "metadata": {},
   "source": [
    "### subset covid data"
   ]
  },
  {
   "cell_type": "code",
   "execution_count": 10,
   "id": "1b8da014",
   "metadata": {},
   "outputs": [],
   "source": [
    "# Path\n",
    "path = \"/Users/swang/UCB/Final_Project/Final_Project/Datasets\""
   ]
  },
  {
   "cell_type": "code",
   "execution_count": 11,
   "id": "581e7ce7",
   "metadata": {},
   "outputs": [
    {
     "name": "stdout",
     "output_type": "stream",
     "text": [
      "/Users/swang/UCB/Final_Project/Final_Project/Datasets/worldometer_coronavirus_daily_data.csv\n"
     ]
    }
   ],
   "source": [
    "# Join various path components\n",
    "csv=os.path.join(path, \"worldometer_coronavirus_daily_data.csv\")\n",
    "print(csv)"
   ]
  },
  {
   "cell_type": "code",
   "execution_count": 12,
   "id": "5d6c8689",
   "metadata": {},
   "outputs": [],
   "source": [
    "Covid_data = pd.read_csv(csv)"
   ]
  },
  {
   "cell_type": "code",
   "execution_count": 13,
   "id": "c9cfd772",
   "metadata": {},
   "outputs": [
    {
     "data": {
      "text/html": [
       "<div>\n",
       "<style scoped>\n",
       "    .dataframe tbody tr th:only-of-type {\n",
       "        vertical-align: middle;\n",
       "    }\n",
       "\n",
       "    .dataframe tbody tr th {\n",
       "        vertical-align: top;\n",
       "    }\n",
       "\n",
       "    .dataframe thead th {\n",
       "        text-align: right;\n",
       "    }\n",
       "</style>\n",
       "<table border=\"1\" class=\"dataframe\">\n",
       "  <thead>\n",
       "    <tr style=\"text-align: right;\">\n",
       "      <th></th>\n",
       "      <th>date</th>\n",
       "      <th>country</th>\n",
       "      <th>cumulative_total_cases</th>\n",
       "      <th>daily_new_cases</th>\n",
       "      <th>active_cases</th>\n",
       "      <th>cumulative_total_deaths</th>\n",
       "      <th>daily_new_deaths</th>\n",
       "    </tr>\n",
       "  </thead>\n",
       "  <tbody>\n",
       "    <tr>\n",
       "      <th>0</th>\n",
       "      <td>2020-2-15</td>\n",
       "      <td>Afghanistan</td>\n",
       "      <td>0.0</td>\n",
       "      <td>NaN</td>\n",
       "      <td>0.0</td>\n",
       "      <td>0.0</td>\n",
       "      <td>NaN</td>\n",
       "    </tr>\n",
       "    <tr>\n",
       "      <th>1</th>\n",
       "      <td>2020-2-16</td>\n",
       "      <td>Afghanistan</td>\n",
       "      <td>0.0</td>\n",
       "      <td>NaN</td>\n",
       "      <td>0.0</td>\n",
       "      <td>0.0</td>\n",
       "      <td>NaN</td>\n",
       "    </tr>\n",
       "    <tr>\n",
       "      <th>2</th>\n",
       "      <td>2020-2-17</td>\n",
       "      <td>Afghanistan</td>\n",
       "      <td>0.0</td>\n",
       "      <td>NaN</td>\n",
       "      <td>0.0</td>\n",
       "      <td>0.0</td>\n",
       "      <td>NaN</td>\n",
       "    </tr>\n",
       "    <tr>\n",
       "      <th>3</th>\n",
       "      <td>2020-2-18</td>\n",
       "      <td>Afghanistan</td>\n",
       "      <td>0.0</td>\n",
       "      <td>NaN</td>\n",
       "      <td>0.0</td>\n",
       "      <td>0.0</td>\n",
       "      <td>NaN</td>\n",
       "    </tr>\n",
       "    <tr>\n",
       "      <th>4</th>\n",
       "      <td>2020-2-19</td>\n",
       "      <td>Afghanistan</td>\n",
       "      <td>0.0</td>\n",
       "      <td>NaN</td>\n",
       "      <td>0.0</td>\n",
       "      <td>0.0</td>\n",
       "      <td>NaN</td>\n",
       "    </tr>\n",
       "  </tbody>\n",
       "</table>\n",
       "</div>"
      ],
      "text/plain": [
       "        date      country  cumulative_total_cases  daily_new_cases  \\\n",
       "0  2020-2-15  Afghanistan                     0.0              NaN   \n",
       "1  2020-2-16  Afghanistan                     0.0              NaN   \n",
       "2  2020-2-17  Afghanistan                     0.0              NaN   \n",
       "3  2020-2-18  Afghanistan                     0.0              NaN   \n",
       "4  2020-2-19  Afghanistan                     0.0              NaN   \n",
       "\n",
       "   active_cases  cumulative_total_deaths  daily_new_deaths  \n",
       "0           0.0                      0.0               NaN  \n",
       "1           0.0                      0.0               NaN  \n",
       "2           0.0                      0.0               NaN  \n",
       "3           0.0                      0.0               NaN  \n",
       "4           0.0                      0.0               NaN  "
      ]
     },
     "execution_count": 13,
     "metadata": {},
     "output_type": "execute_result"
    }
   ],
   "source": [
    "Covid_data.head()"
   ]
  },
  {
   "cell_type": "code",
   "execution_count": 23,
   "id": "dbfd59f2",
   "metadata": {},
   "outputs": [
    {
     "data": {
      "text/plain": [
       "array(['Afghanistan', 'Albania', 'Algeria', 'Andorra', 'Angola',\n",
       "       'Anguilla', 'Antigua And Barbuda', 'Argentina', 'Armenia', 'Aruba',\n",
       "       'Australia', 'Austria', 'Azerbaijan', 'Bahamas', 'Bahrain',\n",
       "       'Bangladesh', 'Barbados', 'Belarus', 'Belgium', 'Belize', 'Benin',\n",
       "       'Bermuda', 'Bhutan', 'Bolivia', 'Bosnia And Herzegovina',\n",
       "       'Botswana', 'Brazil', 'British Virgin Islands',\n",
       "       'Brunei Darussalam', 'Bulgaria', 'Burkina Faso', 'Burundi',\n",
       "       'Cabo Verde', 'Cambodia', 'Cameroon', 'Canada',\n",
       "       'Caribbean Netherlands', 'Cayman Islands',\n",
       "       'Central African Republic', 'Chad', 'Channel Islands', 'Chile',\n",
       "       'China Hong Kong Sar', 'China Macao Sar', 'China', 'Colombia',\n",
       "       'Comoros', 'Congo', 'Costa Rica', 'Cote D Ivoire', 'Croatia',\n",
       "       'Cuba', 'Curacao', 'Cyprus', 'Czech Republic',\n",
       "       'Democratic Republic Of The Congo', 'Denmark', 'Djibouti',\n",
       "       'Dominica', 'Dominican Republic', 'Ecuador', 'Egypt',\n",
       "       'El Salvador', 'Equatorial Guinea', 'Eritrea', 'Estonia',\n",
       "       'Ethiopia', 'Faeroe Islands', 'Falkland Islands Malvinas', 'Fiji',\n",
       "       'Finland', 'France', 'French Guiana', 'French Polynesia', 'Gabon',\n",
       "       'Gambia', 'Georgia', 'Germany', 'Ghana', 'Gibraltar', 'Greece',\n",
       "       'Greenland', 'Grenada', 'Guadeloupe', 'Guatemala', 'Guinea Bissau',\n",
       "       'Guinea', 'Guyana', 'Haiti', 'Holy See', 'Honduras', 'Hungary',\n",
       "       'Iceland', 'India', 'Indonesia', 'Iran', 'Iraq', 'Ireland',\n",
       "       'Isle Of Man', 'Israel', 'Italy', 'Jamaica', 'Japan', 'Jordan',\n",
       "       'Kazakhstan', 'Kenya', 'Kuwait', 'Kyrgyzstan', 'Laos', 'Latvia',\n",
       "       'Lebanon', 'Lesotho', 'Liberia', 'Libya', 'Liechtenstein',\n",
       "       'Lithuania', 'Luxembourg', 'Macedonia', 'Madagascar', 'Malawi',\n",
       "       'Malaysia', 'Maldives', 'Mali', 'Malta', 'Marshall Islands',\n",
       "       'Martinique', 'Mauritania', 'Mauritius', 'Mayotte', 'Mexico',\n",
       "       'Micronesia', 'Moldova', 'Monaco', 'Mongolia', 'Montenegro',\n",
       "       'Montserrat', 'Morocco', 'Mozambique', 'Myanmar', 'Namibia',\n",
       "       'Nepal', 'Netherlands', 'New Caledonia', 'New Zealand',\n",
       "       'Nicaragua', 'Niger', 'Nigeria', 'Norway', 'Oman', 'Pakistan',\n",
       "       'Panama', 'Papua New Guinea', 'Paraguay', 'Peru', 'Philippines',\n",
       "       'Poland', 'Portugal', 'Qatar', 'Reunion', 'Romania', 'Russia',\n",
       "       'Rwanda', 'Saint Barthelemy', 'Saint Helena',\n",
       "       'Saint Kitts And Nevis', 'Saint Lucia', 'Saint Martin',\n",
       "       'Saint Pierre And Miquelon', 'Saint Vincent And The Grenadines',\n",
       "       'Samoa', 'San Marino', 'Sao Tome And Principe', 'Saudi Arabia',\n",
       "       'Senegal', 'Serbia', 'Seychelles', 'Sierra Leone', 'Singapore',\n",
       "       'Sint Maarten', 'Slovakia', 'Slovenia', 'Solomon Islands',\n",
       "       'Somalia', 'South Africa', 'South Korea', 'South Sudan', 'Spain',\n",
       "       'Sri Lanka', 'State Of Palestine', 'Sudan', 'Suriname',\n",
       "       'Swaziland', 'Sweden', 'Switzerland', 'Syria', 'Taiwan',\n",
       "       'Tajikistan', 'Tanzania', 'Thailand', 'Timor Leste', 'Togo',\n",
       "       'Tonga', 'Trinidad And Tobago', 'Tunisia', 'Turkey',\n",
       "       'Turks And Caicos Islands', 'Uganda', 'UK', 'Ukraine',\n",
       "       'United Arab Emirates', 'Uruguay', 'USA', 'Uzbekistan', 'Vanuatu',\n",
       "       'Venezuela', 'Viet Nam', 'Wallis And Futuna Islands',\n",
       "       'Western Sahara', 'Yemen', 'Zambia', 'Zimbabwe'], dtype=object)"
      ]
     },
     "execution_count": 23,
     "metadata": {},
     "output_type": "execute_result"
    }
   ],
   "source": [
    "Covid_data['country'].unique()"
   ]
  },
  {
   "cell_type": "code",
   "execution_count": 25,
   "id": "d064365a",
   "metadata": {},
   "outputs": [],
   "source": [
    "Covid_data_US=Covid_data[Covid_data['country']=='USA']"
   ]
  },
  {
   "cell_type": "code",
   "execution_count": 34,
   "id": "bafe516f",
   "metadata": {},
   "outputs": [
    {
     "data": {
      "text/html": [
       "<div>\n",
       "<style scoped>\n",
       "    .dataframe tbody tr th:only-of-type {\n",
       "        vertical-align: middle;\n",
       "    }\n",
       "\n",
       "    .dataframe tbody tr th {\n",
       "        vertical-align: top;\n",
       "    }\n",
       "\n",
       "    .dataframe thead th {\n",
       "        text-align: right;\n",
       "    }\n",
       "</style>\n",
       "<table border=\"1\" class=\"dataframe\">\n",
       "  <thead>\n",
       "    <tr style=\"text-align: right;\">\n",
       "      <th></th>\n",
       "      <th>date</th>\n",
       "      <th>country</th>\n",
       "      <th>cumulative_total_cases</th>\n",
       "      <th>daily_new_cases</th>\n",
       "      <th>active_cases</th>\n",
       "      <th>cumulative_total_deaths</th>\n",
       "      <th>daily_new_deaths</th>\n",
       "    </tr>\n",
       "  </thead>\n",
       "  <tbody>\n",
       "    <tr>\n",
       "      <th>145825</th>\n",
       "      <td>2020-2-15</td>\n",
       "      <td>USA</td>\n",
       "      <td>15.0</td>\n",
       "      <td>NaN</td>\n",
       "      <td>12.0</td>\n",
       "      <td>0.0</td>\n",
       "      <td>NaN</td>\n",
       "    </tr>\n",
       "    <tr>\n",
       "      <th>145826</th>\n",
       "      <td>2020-2-16</td>\n",
       "      <td>USA</td>\n",
       "      <td>15.0</td>\n",
       "      <td>0.0</td>\n",
       "      <td>12.0</td>\n",
       "      <td>0.0</td>\n",
       "      <td>NaN</td>\n",
       "    </tr>\n",
       "    <tr>\n",
       "      <th>145827</th>\n",
       "      <td>2020-2-17</td>\n",
       "      <td>USA</td>\n",
       "      <td>15.0</td>\n",
       "      <td>0.0</td>\n",
       "      <td>12.0</td>\n",
       "      <td>0.0</td>\n",
       "      <td>NaN</td>\n",
       "    </tr>\n",
       "    <tr>\n",
       "      <th>145828</th>\n",
       "      <td>2020-2-18</td>\n",
       "      <td>USA</td>\n",
       "      <td>15.0</td>\n",
       "      <td>0.0</td>\n",
       "      <td>12.0</td>\n",
       "      <td>0.0</td>\n",
       "      <td>NaN</td>\n",
       "    </tr>\n",
       "    <tr>\n",
       "      <th>145829</th>\n",
       "      <td>2020-2-19</td>\n",
       "      <td>USA</td>\n",
       "      <td>15.0</td>\n",
       "      <td>0.0</td>\n",
       "      <td>12.0</td>\n",
       "      <td>0.0</td>\n",
       "      <td>NaN</td>\n",
       "    </tr>\n",
       "  </tbody>\n",
       "</table>\n",
       "</div>"
      ],
      "text/plain": [
       "             date country  cumulative_total_cases  daily_new_cases  \\\n",
       "145825  2020-2-15     USA                    15.0              NaN   \n",
       "145826  2020-2-16     USA                    15.0              0.0   \n",
       "145827  2020-2-17     USA                    15.0              0.0   \n",
       "145828  2020-2-18     USA                    15.0              0.0   \n",
       "145829  2020-2-19     USA                    15.0              0.0   \n",
       "\n",
       "        active_cases  cumulative_total_deaths  daily_new_deaths  \n",
       "145825          12.0                      0.0               NaN  \n",
       "145826          12.0                      0.0               NaN  \n",
       "145827          12.0                      0.0               NaN  \n",
       "145828          12.0                      0.0               NaN  \n",
       "145829          12.0                      0.0               NaN  "
      ]
     },
     "execution_count": 34,
     "metadata": {},
     "output_type": "execute_result"
    }
   ],
   "source": [
    "Covid_data_US.head()"
   ]
  },
  {
   "cell_type": "code",
   "execution_count": 37,
   "id": "ddceba00",
   "metadata": {},
   "outputs": [
    {
     "data": {
      "text/plain": [
       "date                        object\n",
       "country                     object\n",
       "cumulative_total_cases     float64\n",
       "daily_new_cases            float64\n",
       "active_cases               float64\n",
       "cumulative_total_deaths    float64\n",
       "daily_new_deaths           float64\n",
       "dtype: object"
      ]
     },
     "execution_count": 37,
     "metadata": {},
     "output_type": "execute_result"
    }
   ],
   "source": [
    "Covid_data_US.dtypes"
   ]
  },
  {
   "cell_type": "code",
   "execution_count": 35,
   "id": "e8fed9ed",
   "metadata": {},
   "outputs": [],
   "source": [
    "Covid_data_US.to_csv('../Datasets/Covid_data_US.csv',index=False)"
   ]
  },
  {
   "cell_type": "code",
   "execution_count": null,
   "id": "d49f1469",
   "metadata": {},
   "outputs": [],
   "source": []
  }
 ],
 "metadata": {
  "kernelspec": {
   "display_name": "PythonData",
   "language": "python",
   "name": "pythondata"
  },
  "language_info": {
   "codemirror_mode": {
    "name": "ipython",
    "version": 3
   },
   "file_extension": ".py",
   "mimetype": "text/x-python",
   "name": "python",
   "nbconvert_exporter": "python",
   "pygments_lexer": "ipython3",
   "version": "3.7.11"
  }
 },
 "nbformat": 4,
 "nbformat_minor": 5
}
