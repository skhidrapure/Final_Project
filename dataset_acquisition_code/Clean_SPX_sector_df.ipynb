{
 "cells": [
  {
   "cell_type": "code",
   "execution_count": 1,
   "id": "21cf7370-9dda-4fcc-9500-dda0f654399b",
   "metadata": {},
   "outputs": [],
   "source": [
    "import pandas as pd\n",
    "from datetime import datetime\n",
    "import time\n",
    "import os\n",
    "import glob\n",
    "from dateutil.parser import parse"
   ]
  },
  {
   "cell_type": "code",
   "execution_count": 2,
   "id": "985e85e3-9ff7-4882-81be-f78c79261132",
   "metadata": {},
   "outputs": [],
   "source": [
    "folder = '../Datasets/sp500indexand11sectors/'\n",
    "files = [i for i in glob.glob(folder + '*.csv')]"
   ]
  },
  {
   "cell_type": "code",
   "execution_count": 3,
   "id": "9a072d71-1940-40e6-ad53-c3b8eca61ec6",
   "metadata": {},
   "outputs": [],
   "source": [
    "# list=[pd.read_csv(filename, header=None, usecols=[0,1,2,3,4]) for filename in files]"
   ]
  },
  {
   "cell_type": "code",
   "execution_count": 11,
   "id": "6924847e-8ffe-4fed-9f15-c15e006d907c",
   "metadata": {},
   "outputs": [],
   "source": [
    "for fp in files:\n",
    "    #df=pd.read_csv(fp, header=None, usecols=[0,1,2,3,4])\n",
    "    df=pd.read_csv(fp, usecols=[0,1,2,3,4])\n",
    "    #df.columns = ['Date','Open', 'High', 'Low', 'Close']\n",
    "    for i in df['Date']:\n",
    "        df['Date'] = parse(i).strftime(\"%Y-%m-%d\")\n",
    "    #there are some errors returning df for certain dates, need to fix later\n",
    "    #pd.to_datetime(df['Date'])\n",
    "    #df = df.loc[(df['Date'] >= '2020-03-12') & (df['Date'] <= '2021-12-31')]\n",
    "    #df.to_csv(fp,index=False)\n",
    "    "
   ]
  },
  {
   "cell_type": "code",
   "execution_count": 12,
   "id": "7114446f-6932-4e7b-a0d1-bed4bd4ed9a8",
   "metadata": {},
   "outputs": [
    {
     "data": {
      "text/html": [
       "<div>\n",
       "<style scoped>\n",
       "    .dataframe tbody tr th:only-of-type {\n",
       "        vertical-align: middle;\n",
       "    }\n",
       "\n",
       "    .dataframe tbody tr th {\n",
       "        vertical-align: top;\n",
       "    }\n",
       "\n",
       "    .dataframe thead th {\n",
       "        text-align: right;\n",
       "    }\n",
       "</style>\n",
       "<table border=\"1\" class=\"dataframe\">\n",
       "  <thead>\n",
       "    <tr style=\"text-align: right;\">\n",
       "      <th></th>\n",
       "      <th>Date</th>\n",
       "      <th>Open</th>\n",
       "      <th>High</th>\n",
       "      <th>Low</th>\n",
       "      <th>Close</th>\n",
       "    </tr>\n",
       "  </thead>\n",
       "  <tbody>\n",
       "    <tr>\n",
       "      <th>0</th>\n",
       "      <td>1989-09-11</td>\n",
       "      <td>80.46</td>\n",
       "      <td>80.46</td>\n",
       "      <td>80.46</td>\n",
       "      <td>80.46</td>\n",
       "    </tr>\n",
       "    <tr>\n",
       "      <th>1</th>\n",
       "      <td>1989-09-11</td>\n",
       "      <td>80.60</td>\n",
       "      <td>80.60</td>\n",
       "      <td>80.60</td>\n",
       "      <td>80.60</td>\n",
       "    </tr>\n",
       "    <tr>\n",
       "      <th>2</th>\n",
       "      <td>1989-09-11</td>\n",
       "      <td>79.77</td>\n",
       "      <td>79.77</td>\n",
       "      <td>79.77</td>\n",
       "      <td>79.77</td>\n",
       "    </tr>\n",
       "    <tr>\n",
       "      <th>3</th>\n",
       "      <td>1989-09-11</td>\n",
       "      <td>79.05</td>\n",
       "      <td>79.05</td>\n",
       "      <td>79.05</td>\n",
       "      <td>79.05</td>\n",
       "    </tr>\n",
       "    <tr>\n",
       "      <th>4</th>\n",
       "      <td>1989-09-11</td>\n",
       "      <td>79.69</td>\n",
       "      <td>79.69</td>\n",
       "      <td>79.69</td>\n",
       "      <td>79.69</td>\n",
       "    </tr>\n",
       "  </tbody>\n",
       "</table>\n",
       "</div>"
      ],
      "text/plain": [
       "         Date   Open   High    Low  Close\n",
       "0  1989-09-11  80.46  80.46  80.46  80.46\n",
       "1  1989-09-11  80.60  80.60  80.60  80.60\n",
       "2  1989-09-11  79.77  79.77  79.77  79.77\n",
       "3  1989-09-11  79.05  79.05  79.05  79.05\n",
       "4  1989-09-11  79.69  79.69  79.69  79.69"
      ]
     },
     "execution_count": 12,
     "metadata": {},
     "output_type": "execute_result"
    }
   ],
   "source": [
    "df.head()"
   ]
  },
  {
   "cell_type": "code",
   "execution_count": 26,
   "id": "224439d5-8596-4143-8f29-2aee76e8f859",
   "metadata": {},
   "outputs": [
    {
     "data": {
      "text/html": [
       "<div>\n",
       "<style scoped>\n",
       "    .dataframe tbody tr th:only-of-type {\n",
       "        vertical-align: middle;\n",
       "    }\n",
       "\n",
       "    .dataframe tbody tr th {\n",
       "        vertical-align: top;\n",
       "    }\n",
       "\n",
       "    .dataframe thead th {\n",
       "        text-align: right;\n",
       "    }\n",
       "</style>\n",
       "<table border=\"1\" class=\"dataframe\">\n",
       "  <thead>\n",
       "    <tr style=\"text-align: right;\">\n",
       "      <th></th>\n",
       "      <th>Date</th>\n",
       "      <th>Open</th>\n",
       "      <th>High</th>\n",
       "      <th>Low</th>\n",
       "      <th>Close</th>\n",
       "    </tr>\n",
       "  </thead>\n",
       "  <tbody>\n",
       "  </tbody>\n",
       "</table>\n",
       "</div>"
      ],
      "text/plain": [
       "Empty DataFrame\n",
       "Columns: [Date, Open, High, Low, Close]\n",
       "Index: []"
      ]
     },
     "execution_count": 26,
     "metadata": {},
     "output_type": "execute_result"
    }
   ],
   "source": [
    "df = df.loc[(df['Date'] >= '2020-03-12') & (df['Date'] <= '2021-12-31')]\n",
    "df"
   ]
  },
  {
   "cell_type": "code",
   "execution_count": 19,
   "id": "d0758d7b-0738-417a-8ada-6a3f145545a1",
   "metadata": {},
   "outputs": [
    {
     "data": {
      "text/plain": [
       "Date      object\n",
       "Open     float64\n",
       "High     float64\n",
       "Low      float64\n",
       "Close    float64\n",
       "dtype: object"
      ]
     },
     "execution_count": 19,
     "metadata": {},
     "output_type": "execute_result"
    }
   ],
   "source": [
    "df.dtypes"
   ]
  },
  {
   "cell_type": "markdown",
   "id": "da906ef8-222e-40d9-bd45-5ca5a843eb35",
   "metadata": {},
   "source": [
    "### Test codes"
   ]
  },
  {
   "cell_type": "code",
   "execution_count": 27,
   "id": "2f90db64-cf04-43bc-9125-828e0ace0f49",
   "metadata": {},
   "outputs": [
    {
     "data": {
      "text/plain": [
       "Date      object\n",
       "Open     float64\n",
       "High     float64\n",
       "Low      float64\n",
       "Close    float64\n",
       "dtype: object"
      ]
     },
     "execution_count": 27,
     "metadata": {},
     "output_type": "execute_result"
    }
   ],
   "source": [
    "df.dtypes"
   ]
  },
  {
   "cell_type": "code",
   "execution_count": 64,
   "id": "f1e1102d-6f31-44dd-a791-2a3eeed04f8c",
   "metadata": {},
   "outputs": [
    {
     "data": {
      "text/plain": [
       "datetime.datetime(1989, 9, 11, 0, 0)"
      ]
     },
     "execution_count": 64,
     "metadata": {},
     "output_type": "execute_result"
    }
   ],
   "source": [
    "# Test convert time\n",
    "parse(\"9/11/89 0:00\")"
   ]
  },
  {
   "cell_type": "code",
   "execution_count": 65,
   "id": "55801854-d73d-4f0a-81c8-9afac598c6c5",
   "metadata": {},
   "outputs": [
    {
     "data": {
      "text/plain": [
       "'1989-09-11'"
      ]
     },
     "execution_count": 65,
     "metadata": {},
     "output_type": "execute_result"
    }
   ],
   "source": [
    "test = parse(str(\"9/11/89 0:00\")).strftime(\"%Y-%m-%d\")\n",
    "test"
   ]
  },
  {
   "cell_type": "code",
   "execution_count": 69,
   "id": "e8c9414e-157e-4d20-9861-3796401d1bf8",
   "metadata": {},
   "outputs": [
    {
     "data": {
      "text/plain": [
       "'SPX INDEX.csv'"
      ]
     },
     "execution_count": 69,
     "metadata": {},
     "output_type": "execute_result"
    }
   ],
   "source": [
    "filename = os.path.basename('../Datasets/sp500indexand11sectors/SPX INDEX.csv')\n",
    "filename"
   ]
  },
  {
   "cell_type": "code",
   "execution_count": null,
   "id": "6ff11f1b-5017-4cbf-a798-7ca01eedf0f1",
   "metadata": {},
   "outputs": [],
   "source": []
  }
 ],
 "metadata": {
  "kernelspec": {
   "display_name": "PythonData",
   "language": "python",
   "name": "pythondata"
  },
  "language_info": {
   "codemirror_mode": {
    "name": "ipython",
    "version": 3
   },
   "file_extension": ".py",
   "mimetype": "text/x-python",
   "name": "python",
   "nbconvert_exporter": "python",
   "pygments_lexer": "ipython3",
   "version": "3.7.11"
  }
 },
 "nbformat": 4,
 "nbformat_minor": 5
}
