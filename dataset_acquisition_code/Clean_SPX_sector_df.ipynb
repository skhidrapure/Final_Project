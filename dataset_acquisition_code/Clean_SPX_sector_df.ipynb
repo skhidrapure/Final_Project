{
 "cells": [
  {
   "cell_type": "code",
   "execution_count": 27,
   "id": "21cf7370-9dda-4fcc-9500-dda0f654399b",
   "metadata": {},
   "outputs": [],
   "source": [
    "import pandas as pd\n",
    "from datetime import datetime\n",
    "import time\n",
    "import os\n",
    "import glob\n",
    "# from dateutil.parser import parse (pandas build-in)"
   ]
  },
  {
   "cell_type": "code",
   "execution_count": 28,
   "id": "985e85e3-9ff7-4882-81be-f78c79261132",
   "metadata": {},
   "outputs": [],
   "source": [
    "folder = '../Datasets/sp500indexand11sectors/'\n",
    "files = [i for i in glob.glob(folder + '*.csv')]"
   ]
  },
  {
   "cell_type": "code",
   "execution_count": 29,
   "id": "6002a495-bb6a-44c8-8cb0-bede5586c02d",
   "metadata": {},
   "outputs": [
    {
     "name": "stdout",
     "output_type": "stream",
     "text": [
      "['../Datasets/sp500indexand11sectors/S5UTIL INDEX.csv', '../Datasets/sp500indexand11sectors/SPX INDEX.csv', '../Datasets/sp500indexand11sectors/S5CONS INDEX.csv', '../Datasets/sp500indexand11sectors/S5HLTH INDEX.csv', '../Datasets/sp500indexand11sectors/S5RLST Index.csv', '../Datasets/sp500indexand11sectors/S5TELS INDEX.csv', '../Datasets/sp500indexand11sectors/S5INDU INDEX.csv', '../Datasets/sp500indexand11sectors/S5COND INDEX.csv', '../Datasets/sp500indexand11sectors/S5INFT INDEX.csv', '../Datasets/sp500indexand11sectors/S5MATR INDEX.csv', '../Datasets/sp500indexand11sectors/S5ENRS INDEX.csv', '../Datasets/sp500indexand11sectors/S5FINL INDEX.csv']\n"
     ]
    }
   ],
   "source": [
    "print(files)"
   ]
  },
  {
   "cell_type": "code",
   "execution_count": 3,
   "id": "9a072d71-1940-40e6-ad53-c3b8eca61ec6",
   "metadata": {},
   "outputs": [],
   "source": [
    "# list=[pd.read_csv(filename, header=None, usecols=[0,1,2,3,4]) for filename in files]"
   ]
  },
  {
   "cell_type": "code",
   "execution_count": 31,
   "id": "6924847e-8ffe-4fed-9f15-c15e006d907c",
   "metadata": {},
   "outputs": [],
   "source": [
    "for fp in files:\n",
    "    df=pd.read_csv(fp, header=None, usecols=[0,1,2,3,4])\n",
    "    #df=pd.read_csv(fp, usecols=[0,1,2,3,4])\n",
    "    df.columns = ['Date','Open', 'High', 'Low', 'Close']\n",
    "    df['Date']=pd.to_datetime(df['Date'])\n",
    "    df['Date']=df['Date'].dt.strftime(\"%Y-%m-%d\")\n",
    "    #for i in df['Date']: (don't use for loop, too slow)\n",
    "        #df['Date'] = parse(i).strftime(\"%Y-%m-%d\")\n",
    "    #there are some errors returning df for certain dates, need to fix later\n",
    "    #pd.to_datetime(df['Date'])\n",
    "    df = df.loc[(df['Date'] >= '2020-03-12') & (df['Date'] <= '2021-12-31')]\n",
    "    df.to_csv(fp,index=False)\n",
    "    "
   ]
  },
  {
   "cell_type": "code",
   "execution_count": 32,
   "id": "7114446f-6932-4e7b-a0d1-bed4bd4ed9a8",
   "metadata": {},
   "outputs": [
    {
     "data": {
      "text/html": [
       "<div>\n",
       "<style scoped>\n",
       "    .dataframe tbody tr th:only-of-type {\n",
       "        vertical-align: middle;\n",
       "    }\n",
       "\n",
       "    .dataframe tbody tr th {\n",
       "        vertical-align: top;\n",
       "    }\n",
       "\n",
       "    .dataframe thead th {\n",
       "        text-align: right;\n",
       "    }\n",
       "</style>\n",
       "<table border=\"1\" class=\"dataframe\">\n",
       "  <thead>\n",
       "    <tr style=\"text-align: right;\">\n",
       "      <th></th>\n",
       "      <th>Date</th>\n",
       "      <th>Open</th>\n",
       "      <th>High</th>\n",
       "      <th>Low</th>\n",
       "      <th>Close</th>\n",
       "    </tr>\n",
       "  </thead>\n",
       "  <tbody>\n",
       "  </tbody>\n",
       "</table>\n",
       "</div>"
      ],
      "text/plain": [
       "Empty DataFrame\n",
       "Columns: [Date, Open, High, Low, Close]\n",
       "Index: []"
      ]
     },
     "execution_count": 32,
     "metadata": {},
     "output_type": "execute_result"
    }
   ],
   "source": [
    "df.head()"
   ]
  },
  {
   "cell_type": "markdown",
   "id": "da906ef8-222e-40d9-bd45-5ca5a843eb35",
   "metadata": {},
   "source": [
    "### Test codes"
   ]
  },
  {
   "cell_type": "code",
   "execution_count": 27,
   "id": "2f90db64-cf04-43bc-9125-828e0ace0f49",
   "metadata": {},
   "outputs": [
    {
     "data": {
      "text/plain": [
       "Date      object\n",
       "Open     float64\n",
       "High     float64\n",
       "Low      float64\n",
       "Close    float64\n",
       "dtype: object"
      ]
     },
     "execution_count": 27,
     "metadata": {},
     "output_type": "execute_result"
    }
   ],
   "source": [
    "df.dtypes"
   ]
  },
  {
   "cell_type": "code",
   "execution_count": 64,
   "id": "f1e1102d-6f31-44dd-a791-2a3eeed04f8c",
   "metadata": {},
   "outputs": [
    {
     "data": {
      "text/plain": [
       "datetime.datetime(1989, 9, 11, 0, 0)"
      ]
     },
     "execution_count": 64,
     "metadata": {},
     "output_type": "execute_result"
    }
   ],
   "source": [
    "# Test convert time\n",
    "parse(\"9/11/89 0:00\")"
   ]
  },
  {
   "cell_type": "code",
   "execution_count": 65,
   "id": "55801854-d73d-4f0a-81c8-9afac598c6c5",
   "metadata": {},
   "outputs": [
    {
     "data": {
      "text/plain": [
       "'1989-09-11'"
      ]
     },
     "execution_count": 65,
     "metadata": {},
     "output_type": "execute_result"
    }
   ],
   "source": [
    "test = parse(str(\"9/11/89 0:00\")).strftime(\"%Y-%m-%d\")\n",
    "test"
   ]
  },
  {
   "cell_type": "code",
   "execution_count": 69,
   "id": "e8c9414e-157e-4d20-9861-3796401d1bf8",
   "metadata": {},
   "outputs": [
    {
     "data": {
      "text/plain": [
       "'SPX INDEX.csv'"
      ]
     },
     "execution_count": 69,
     "metadata": {},
     "output_type": "execute_result"
    }
   ],
   "source": [
    "filename = os.path.basename('../Datasets/sp500indexand11sectors/SPX INDEX.csv')\n",
    "filename"
   ]
  },
  {
   "cell_type": "code",
   "execution_count": null,
   "id": "6ff11f1b-5017-4cbf-a798-7ca01eedf0f1",
   "metadata": {},
   "outputs": [],
   "source": []
  }
 ],
 "metadata": {
  "kernelspec": {
   "display_name": "PythonData",
   "language": "python",
   "name": "pythondata"
  },
  "language_info": {
   "codemirror_mode": {
    "name": "ipython",
    "version": 3
   },
   "file_extension": ".py",
   "mimetype": "text/x-python",
   "name": "python",
   "nbconvert_exporter": "python",
   "pygments_lexer": "ipython3",
   "version": "3.7.11"
  }
 },
 "nbformat": 4,
 "nbformat_minor": 5
}
