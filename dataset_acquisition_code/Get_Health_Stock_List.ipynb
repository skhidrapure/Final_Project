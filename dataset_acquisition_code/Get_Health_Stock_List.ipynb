{
 "cells": [
  {
   "cell_type": "code",
<<<<<<< HEAD
   "execution_count": 5,
   "id": "23f49e0c-a6e0-4c7b-83fc-a1a1aac44f14",
   "metadata": {},
   "outputs": [
    {
     "name": "stdout",
     "output_type": "stream",
     "text": [
      "Collecting datapackage\n",
      "  Downloading datapackage-1.15.2-py2.py3-none-any.whl (85 kB)\n",
      "\u001b[K     |████████████████████████████████| 85 kB 2.9 MB/s eta 0:00:011\n",
      "\u001b[?25hRequirement already satisfied: jsonschema>=2.5 in /Users/jinike/opt/anaconda3/lib/python3.7/site-packages (from datapackage) (3.2.0)\n",
      "Requirement already satisfied: click>=6.7 in /Users/jinike/opt/anaconda3/lib/python3.7/site-packages (from datapackage) (8.0.3)\n",
      "Collecting tabulator>=1.29\n",
      "  Downloading tabulator-1.53.5-py2.py3-none-any.whl (72 kB)\n",
      "\u001b[K     |████████████████████████████████| 72 kB 1.3 MB/s eta 0:00:01\n",
      "\u001b[?25hCollecting jsonpointer>=1.10\n",
      "  Downloading jsonpointer-2.2-py2.py3-none-any.whl (7.5 kB)\n",
      "Requirement already satisfied: six>=1.10 in /Users/jinike/opt/anaconda3/lib/python3.7/site-packages (from datapackage) (1.16.0)\n",
      "Collecting tableschema>=1.12.1\n",
      "  Downloading tableschema-1.20.2-py2.py3-none-any.whl (68 kB)\n",
      "\u001b[K     |████████████████████████████████| 68 kB 7.6 MB/s  eta 0:00:01\n",
      "\u001b[?25hRequirement already satisfied: requests>=2.8 in /Users/jinike/opt/anaconda3/lib/python3.7/site-packages (from datapackage) (2.26.0)\n",
      "Requirement already satisfied: chardet>=3.0 in /Users/jinike/opt/anaconda3/lib/python3.7/site-packages (from datapackage) (4.0.0)\n",
      "Requirement already satisfied: unicodecsv>=0.14 in /Users/jinike/opt/anaconda3/lib/python3.7/site-packages (from datapackage) (0.14.1)\n",
      "Requirement already satisfied: importlib-metadata in /Users/jinike/opt/anaconda3/lib/python3.7/site-packages (from click>=6.7->datapackage) (4.8.1)\n",
      "Requirement already satisfied: attrs>=17.4.0 in /Users/jinike/opt/anaconda3/lib/python3.7/site-packages (from jsonschema>=2.5->datapackage) (21.2.0)\n",
      "Requirement already satisfied: setuptools in /Users/jinike/opt/anaconda3/lib/python3.7/site-packages (from jsonschema>=2.5->datapackage) (58.0.4)\n",
      "Requirement already satisfied: pyrsistent>=0.14.0 in /Users/jinike/opt/anaconda3/lib/python3.7/site-packages (from jsonschema>=2.5->datapackage) (0.18.0)\n",
      "Requirement already satisfied: idna<4,>=2.5 in /Users/jinike/opt/anaconda3/lib/python3.7/site-packages (from requests>=2.8->datapackage) (3.3)\n",
      "Requirement already satisfied: charset-normalizer~=2.0.0 in /Users/jinike/opt/anaconda3/lib/python3.7/site-packages (from requests>=2.8->datapackage) (2.0.4)\n",
      "Requirement already satisfied: certifi>=2017.4.17 in /Users/jinike/opt/anaconda3/lib/python3.7/site-packages (from requests>=2.8->datapackage) (2021.10.8)\n",
      "Requirement already satisfied: urllib3<1.27,>=1.21.1 in /Users/jinike/opt/anaconda3/lib/python3.7/site-packages (from requests>=2.8->datapackage) (1.26.7)\n",
      "Collecting rfc3986>=1.1.0\n",
      "  Downloading rfc3986-2.0.0-py2.py3-none-any.whl (31 kB)\n",
      "Requirement already satisfied: python-dateutil>=2.4 in /Users/jinike/opt/anaconda3/lib/python3.7/site-packages (from tableschema>=1.12.1->datapackage) (2.8.2)\n",
      "Collecting isodate>=0.5.4\n",
      "  Downloading isodate-0.6.1-py2.py3-none-any.whl (41 kB)\n",
      "\u001b[K     |████████████████████████████████| 41 kB 1.6 MB/s  eta 0:00:01\n",
      "\u001b[?25hCollecting cached-property>=1.5\n",
      "  Downloading cached_property-1.5.2-py2.py3-none-any.whl (7.6 kB)\n",
      "Collecting linear-tsv>=1.0\n",
      "  Downloading linear-tsv-1.1.0.tar.gz (9.6 kB)\n",
      "Requirement already satisfied: openpyxl>=2.6 in /Users/jinike/opt/anaconda3/lib/python3.7/site-packages (from tabulator>=1.29->datapackage) (3.0.9)\n",
      "Collecting jsonlines>=1.1\n",
      "  Downloading jsonlines-3.0.0-py3-none-any.whl (8.5 kB)\n",
      "Collecting ijson>=3.0.3\n",
      "  Downloading ijson-3.1.4-cp37-cp37m-macosx_10_9_x86_64.whl (52 kB)\n",
      "\u001b[K     |████████████████████████████████| 52 kB 2.4 MB/s  eta 0:00:01\n",
      "\u001b[?25hRequirement already satisfied: xlrd>=1.0 in /Users/jinike/opt/anaconda3/lib/python3.7/site-packages (from tabulator>=1.29->datapackage) (2.0.1)\n",
      "Requirement already satisfied: sqlalchemy>=0.9.6 in /Users/jinike/opt/anaconda3/lib/python3.7/site-packages (from tabulator>=1.29->datapackage) (1.4.27)\n",
      "Collecting boto3>=1.9\n",
      "  Downloading boto3-1.20.31-py3-none-any.whl (131 kB)\n",
      "\u001b[K     |████████████████████████████████| 131 kB 15.3 MB/s eta 0:00:01\n",
      "\u001b[?25hCollecting botocore<1.24.0,>=1.23.31\n",
      "  Downloading botocore-1.23.31-py3-none-any.whl (8.5 MB)\n",
      "\u001b[K     |████████████████████████████████| 8.5 MB 5.9 MB/s eta 0:00:011\n",
      "\u001b[?25hCollecting jmespath<1.0.0,>=0.7.1\n",
      "  Downloading jmespath-0.10.0-py2.py3-none-any.whl (24 kB)\n",
      "Collecting s3transfer<0.6.0,>=0.5.0\n",
      "  Downloading s3transfer-0.5.0-py3-none-any.whl (79 kB)\n",
      "\u001b[K     |████████████████████████████████| 79 kB 6.4 MB/s eta 0:00:01\n",
      "\u001b[?25hRequirement already satisfied: typing-extensions in /Users/jinike/opt/anaconda3/lib/python3.7/site-packages (from jsonlines>=1.1->tabulator>=1.29->datapackage) (3.10.0.2)\n",
      "Requirement already satisfied: et-xmlfile in /Users/jinike/opt/anaconda3/lib/python3.7/site-packages (from openpyxl>=2.6->tabulator>=1.29->datapackage) (1.1.0)\n",
      "Requirement already satisfied: greenlet!=0.4.17 in /Users/jinike/opt/anaconda3/lib/python3.7/site-packages (from sqlalchemy>=0.9.6->tabulator>=1.29->datapackage) (1.1.1)\n",
      "Requirement already satisfied: zipp>=0.5 in /Users/jinike/opt/anaconda3/lib/python3.7/site-packages (from importlib-metadata->click>=6.7->datapackage) (3.6.0)\n",
      "Building wheels for collected packages: linear-tsv\n",
      "  Building wheel for linear-tsv (setup.py) ... \u001b[?25ldone\n",
      "\u001b[?25h  Created wheel for linear-tsv: filename=linear_tsv-1.1.0-py3-none-any.whl size=7399 sha256=3cd984971826178e83ef6b502e2f84cfddfbd7ffd1a2b15efe26a51b116bd219\n",
      "  Stored in directory: /Users/jinike/Library/Caches/pip/wheels/dd/0a/62/49ee84fab92057fb3e303fb1a59e75ccac6899b417f441305a\n",
      "Successfully built linear-tsv\n",
      "Installing collected packages: jmespath, botocore, s3transfer, linear-tsv, jsonlines, ijson, boto3, tabulator, rfc3986, isodate, cached-property, tableschema, jsonpointer, datapackage\n",
      "Successfully installed boto3-1.20.31 botocore-1.23.31 cached-property-1.5.2 datapackage-1.15.2 ijson-3.1.4 isodate-0.6.1 jmespath-0.10.0 jsonlines-3.0.0 jsonpointer-2.2 linear-tsv-1.1.0 rfc3986-2.0.0 s3transfer-0.5.0 tableschema-1.20.2 tabulator-1.53.5\n",
      "Note: you may need to restart the kernel to use updated packages.\n"
     ]
    }
   ],
   "source": [
    "pip install datapackage"
   ]
  },
  {
   "cell_type": "code",
   "execution_count": 6,
=======
   "execution_count": 1,
>>>>>>> main
   "id": "59947d0f-7024-48a9-b498-ede33430aa3a",
   "metadata": {},
   "outputs": [],
   "source": [
    "# following code is acquired from: \n",
    "# https://datahub.io/core/s-and-p-500-companies#resource-s-and-p-500-companies_zip\n",
    "\n",
    "from datapackage import Package"
   ]
  },
  {
   "cell_type": "code",
<<<<<<< HEAD
   "execution_count": 7,
=======
   "execution_count": 2,
>>>>>>> main
   "id": "7b73e88e-1ca5-4ae9-8cca-a247b1f251e9",
   "metadata": {},
   "outputs": [],
   "source": [
    "package = Package('https://datahub.io/core/s-and-p-500-companies/datapackage.json')"
   ]
  },
  {
   "cell_type": "code",
<<<<<<< HEAD
   "execution_count": 8,
=======
   "execution_count": 3,
>>>>>>> main
   "id": "e65c683b-17c7-45c5-ae22-6df7bc72fbc9",
   "metadata": {},
   "outputs": [
    {
     "name": "stdout",
     "output_type": "stream",
     "text": [
      "['validation_report', 'constituents_csv', 'constituents_json', 's-and-p-500-companies_zip', 'constituents']\n"
     ]
    }
   ],
   "source": [
    "# print list of all resources:\n",
    "print(package.resource_names)"
   ]
  },
  {
   "cell_type": "code",
<<<<<<< HEAD
   "execution_count": 9,
=======
   "execution_count": 4,
>>>>>>> main
   "id": "96a0ae71-c509-43d8-bbf0-964e8a021c2e",
   "metadata": {},
   "outputs": [
    {
     "name": "stdout",
     "output_type": "stream",
     "text": [
      "[['MMM', '3M', 'Industrials'], ['AOS', 'A. O. Smith', 'Industrials'], ['ABT', 'Abbott Laboratories', 'Health Care'], ['ABBV', 'AbbVie', 'Health Care'], ['ABMD', 'Abiomed', 'Health Care'], ['ACN', 'Accenture', 'Information Technology'], ['ATVI', 'Activision Blizzard', 'Communication Services'], ['ADM', 'ADM', 'Consumer Staples'], ['ADBE', 'Adobe', 'Information Technology'], ['AAP', 'Advance Auto Parts', 'Consumer Discretionary'], ['AMD', 'Advanced Micro Devices', 'Information Technology'], ['AES', 'AES Corp', 'Utilities'], ['AFL', 'Aflac', 'Financials'], ['A', 'Agilent Technologies', 'Health Care'], ['APD', 'Air Products & Chemicals', 'Materials'], ['AKAM', 'Akamai Technologies', 'Information Technology'], ['ALK', 'Alaska Air Group', 'Industrials'], ['ALB', 'Albemarle Corporation', 'Materials'], ['ARE', 'Alexandria Real Estate Equities', 'Real Estate'], ['ALGN', 'Align Technology', 'Health Care'], ['ALLE', 'Allegion', 'Industrials'], ['LNT', 'Alliant Energy', 'Utilities'], ['ALL', 'Allstate Corp', 'Financials'], ['GOOGL', 'Alphabet (Class A)', 'Communication Services'], ['GOOG', 'Alphabet (Class C)', 'Communication Services'], ['MO', 'Altria Group', 'Consumer Staples'], ['AMZN', 'Amazon', 'Consumer Discretionary'], ['AMCR', 'Amcor', 'Materials'], ['AEE', 'Ameren Corp', 'Utilities'], ['AAL', 'American Airlines Group', 'Industrials'], ['AEP', 'American Electric Power', 'Utilities'], ['AXP', 'American Express', 'Financials'], ['AIG', 'American International Group', 'Financials'], ['AMT', 'American Tower', 'Real Estate'], ['AWK', 'American Water Works', 'Utilities'], ['AMP', 'Ameriprise Financial', 'Financials'], ['ABC', 'AmerisourceBergen', 'Health Care'], ['AME', 'Ametek', 'Industrials'], ['AMGN', 'Amgen', 'Health Care'], ['APH', 'Amphenol', 'Information Technology'], ['ADI', 'Analog Devices', 'Information Technology'], ['ANSS', 'Ansys', 'Information Technology'], ['ANTM', 'Anthem', 'Health Care'], ['AON', 'Aon', 'Financials'], ['APA', 'APA Corporation', 'Energy'], ['AAPL', 'Apple', 'Information Technology'], ['AMAT', 'Applied Materials', 'Information Technology'], ['APTV', 'Aptiv', 'Consumer Discretionary'], ['ANET', 'Arista Networks', 'Information Technology'], ['AJG', 'Arthur J. Gallagher & Co.', 'Financials'], ['AIZ', 'Assurant', 'Financials'], ['T', 'AT&T', 'Communication Services'], ['ATO', 'Atmos Energy', 'Utilities'], ['ADSK', 'Autodesk', 'Information Technology'], ['ADP', 'Automatic Data Processing', 'Information Technology'], ['AZO', 'AutoZone', 'Consumer Discretionary'], ['AVB', 'AvalonBay Communities', 'Real Estate'], ['AVY', 'Avery Dennison', 'Materials'], ['BKR', 'Baker Hughes', 'Energy'], ['BLL', 'Ball Corp', 'Materials'], ['BAC', 'Bank of America', 'Financials'], ['BBWI', 'Bath & Body Works Inc.', 'Consumer Discretionary'], ['BAX', 'Baxter International', 'Health Care'], ['BDX', 'Becton Dickinson', 'Health Care'], ['BRK.B', 'Berkshire Hathaway', 'Financials'], ['BBY', 'Best Buy', 'Consumer Discretionary'], ['BIO', 'Bio-Rad Laboratories', 'Health Care'], ['TECH', 'Bio-Techne', 'Health Care'], ['BIIB', 'Biogen', 'Health Care'], ['BLK', 'BlackRock', 'Financials'], ['BK', 'BNY Mellon', 'Financials'], ['BA', 'Boeing', 'Industrials'], ['BKNG', 'Booking Holdings', 'Consumer Discretionary'], ['BWA', 'BorgWarner', 'Consumer Discretionary'], ['BXP', 'Boston Properties', 'Real Estate'], ['BSX', 'Boston Scientific', 'Health Care'], ['BMY', 'Bristol Myers Squibb', 'Health Care'], ['AVGO', 'Broadcom', 'Information Technology'], ['BR', 'Broadridge Financial Solutions', 'Information Technology'], ['BRO', 'Brown & Brown', 'Financials'], ['BF.B', 'Brown–Forman', 'Consumer Staples'], ['CHRW', 'C. H. Robinson', 'Industrials'], ['CDNS', 'Cadence Design Systems', 'Information Technology'], ['CZR', 'Caesars Entertainment', 'Consumer Discretionary'], ['CPB', 'Campbell Soup', 'Consumer Staples'], ['COF', 'Capital One Financial', 'Financials'], ['CAH', 'Cardinal Health', 'Health Care'], ['KMX', 'CarMax', 'Consumer Discretionary'], ['CCL', 'Carnival Corporation', 'Consumer Discretionary'], ['CARR', 'Carrier Global', 'Industrials'], ['CTLT', 'Catalent', 'Health Care'], ['CAT', 'Caterpillar', 'Industrials'], ['CBOE', 'Cboe Global Markets', 'Financials'], ['CBRE', 'CBRE', 'Real Estate'], ['CDW', 'CDW', 'Information Technology'], ['CE', 'Celanese', 'Materials'], ['CNC', 'Centene Corporation', 'Health Care'], ['CNP', 'CenterPoint Energy', 'Utilities'], ['CDAY', 'Ceridian', 'Information Technology'], ['CERN', 'Cerner', 'Health Care'], ['CF', 'CF Industries', 'Materials'], ['CRL', 'Charles River Laboratories', 'Health Care'], ['SCHW', 'Charles Schwab Corporation', 'Financials'], ['CHTR', 'Charter Communications', 'Communication Services'], ['CVX', 'Chevron Corporation', 'Energy'], ['CMG', 'Chipotle Mexican Grill', 'Consumer Discretionary'], ['CB', 'Chubb', 'Financials'], ['CHD', 'Church & Dwight', 'Consumer Staples'], ['CI', 'Cigna', 'Health Care'], ['CINF', 'Cincinnati Financial', 'Financials'], ['CTAS', 'Cintas Corporation', 'Industrials'], ['CSCO', 'Cisco Systems', 'Information Technology'], ['C', 'Citigroup', 'Financials'], ['CFG', 'Citizens Financial Group', 'Financials'], ['CTXS', 'Citrix Systems', 'Information Technology'], ['CLX', 'Clorox', 'Consumer Staples'], ['CME', 'CME Group', 'Financials'], ['CMS', 'CMS Energy', 'Utilities'], ['KO', 'Coca-Cola Company', 'Consumer Staples'], ['CTSH', 'Cognizant Technology Solutions', 'Information Technology'], ['CL', 'Colgate-Palmolive', 'Consumer Staples'], ['CMCSA', 'Comcast', 'Communication Services'], ['CMA', 'Comerica', 'Financials'], ['CAG', 'Conagra Brands', 'Consumer Staples'], ['COP', 'ConocoPhillips', 'Energy'], ['ED', 'Consolidated Edison', 'Utilities'], ['STZ', 'Constellation Brands', 'Consumer Staples'], ['CPRT', 'Copart', 'Industrials'], ['GLW', 'Corning', 'Information Technology'], ['CTVA', 'Corteva', 'Materials'], ['COST', 'Costco', 'Consumer Staples'], ['CTRA', 'Coterra', 'Energy'], ['CCI', 'Crown Castle', 'Real Estate'], ['CSX', 'CSX', 'Industrials'], ['CMI', 'Cummins', 'Industrials'], ['CVS', 'CVS Health', 'Health Care'], ['DHI', 'D. R. Horton', 'Consumer Discretionary'], ['DHR', 'Danaher Corporation', 'Health Care'], ['DRI', 'Darden Restaurants', 'Consumer Discretionary'], ['DVA', 'DaVita', 'Health Care'], ['DE', 'Deere & Co.', 'Industrials'], ['DAL', 'Delta Air Lines', 'Industrials'], ['XRAY', 'Dentsply Sirona', 'Health Care'], ['DVN', 'Devon Energy', 'Energy'], ['DXCM', 'DexCom', 'Health Care'], ['FANG', 'Diamondback Energy', 'Energy'], ['DLR', 'Digital Realty Trust', 'Real Estate'], ['DFS', 'Discover Financial Services', 'Financials'], ['DISCA', 'Discovery (Series A)', 'Communication Services'], ['DISCK', 'Discovery (Series C)', 'Communication Services'], ['DISH', 'Dish Network', 'Communication Services'], ['DG', 'Dollar General', 'Consumer Discretionary'], ['DLTR', 'Dollar Tree', 'Consumer Discretionary'], ['D', 'Dominion Energy', 'Utilities'], ['DPZ', \"Domino's Pizza\", 'Consumer Discretionary'], ['DOV', 'Dover Corporation', 'Industrials'], ['DOW', 'Dow', 'Materials'], ['DTE', 'DTE Energy', 'Utilities'], ['DUK', 'Duke Energy', 'Utilities'], ['DRE', 'Duke Realty Corp', 'Real Estate'], ['DD', 'DuPont', 'Materials'], ['DXC', 'DXC Technology', 'Information Technology'], ['EMN', 'Eastman Chemical', 'Materials'], ['ETN', 'Eaton Corporation', 'Industrials'], ['EBAY', 'eBay', 'Consumer Discretionary'], ['ECL', 'Ecolab', 'Materials'], ['EIX', 'Edison International', 'Utilities'], ['EW', 'Edwards Lifesciences', 'Health Care'], ['EA', 'Electronic Arts', 'Communication Services'], ['LLY', 'Eli Lilly & Co', 'Health Care'], ['EMR', 'Emerson Electric Company', 'Industrials'], ['ENPH', 'Enphase Energy', 'Information Technology'], ['ETR', 'Entergy', 'Utilities'], ['EOG', 'EOG Resources', 'Energy'], ['EFX', 'Equifax', 'Industrials'], ['EQIX', 'Equinix', 'Real Estate'], ['EQR', 'Equity Residential', 'Real Estate'], ['ESS', 'Essex Property Trust', 'Real Estate'], ['EL', 'Estée Lauder Companies', 'Consumer Staples'], ['ETSY', 'Etsy', 'Consumer Discretionary'], ['RE', 'Everest Re', 'Financials'], ['EVRG', 'Evergy', 'Utilities'], ['ES', 'Eversource Energy', 'Utilities'], ['EXC', 'Exelon', 'Utilities'], ['EXPE', 'Expedia Group', 'Consumer Discretionary'], ['EXPD', 'Expeditors', 'Industrials'], ['EXR', 'Extra Space Storage', 'Real Estate'], ['XOM', 'ExxonMobil', 'Energy'], ['FFIV', 'F5 Networks', 'Information Technology'], ['FB', 'Facebook', 'Communication Services'], ['FAST', 'Fastenal', 'Industrials'], ['FRT', 'Federal Realty Investment Trust', 'Real Estate'], ['FDX', 'FedEx', 'Industrials'], ['FIS', 'Fidelity National Information Services', 'Information Technology'], ['FITB', 'Fifth Third Bancorp', 'Financials'], ['FRC', 'First Republic Bank', 'Financials'], ['FE', 'FirstEnergy', 'Utilities'], ['FISV', 'Fiserv', 'Information Technology'], ['FLT', 'Fleetcor', 'Information Technology'], ['FMC', 'FMC Corporation', 'Materials'], ['F', 'Ford', 'Consumer Discretionary'], ['FTNT', 'Fortinet', 'Information Technology'], ['FTV', 'Fortive', 'Industrials'], ['FBHS', 'Fortune Brands Home & Security', 'Industrials'], ['FOXA', 'Fox Corporation (Class A)', 'Communication Services'], ['FOX', 'Fox Corporation (Class B)', 'Communication Services'], ['BEN', 'Franklin Resources', 'Financials'], ['FCX', 'Freeport-McMoRan', 'Materials'], ['GPS', 'Gap', 'Consumer Discretionary'], ['GRMN', 'Garmin', 'Consumer Discretionary'], ['IT', 'Gartner', 'Information Technology'], ['GNRC', 'Generac Holdings', 'Industrials'], ['GD', 'General Dynamics', 'Industrials'], ['GE', 'General Electric', 'Industrials'], ['GIS', 'General Mills', 'Consumer Staples'], ['GM', 'General Motors', 'Consumer Discretionary'], ['GPC', 'Genuine Parts', 'Consumer Discretionary'], ['GILD', 'Gilead Sciences', 'Health Care'], ['GPN', 'Global Payments', 'Information Technology'], ['GL', 'Globe Life', 'Financials'], ['GS', 'Goldman Sachs', 'Financials'], ['HAL', 'Halliburton', 'Energy'], ['HBI', 'Hanesbrands', 'Consumer Discretionary'], ['HAS', 'Hasbro', 'Consumer Discretionary'], ['HCA', 'HCA Healthcare', 'Health Care'], ['PEAK', 'Healthpeak Properties', 'Real Estate'], ['HSIC', 'Henry Schein', 'Health Care'], ['HES', 'Hess Corporation', 'Energy'], ['HPE', 'Hewlett Packard Enterprise', 'Information Technology'], ['HLT', 'Hilton Worldwide', 'Consumer Discretionary'], ['HOLX', 'Hologic', 'Health Care'], ['HD', 'Home Depot', 'Consumer Discretionary'], ['HON', 'Honeywell', 'Industrials'], ['HRL', 'Hormel', 'Consumer Staples'], ['HST', 'Host Hotels & Resorts', 'Real Estate'], ['HWM', 'Howmet Aerospace', 'Industrials'], ['HPQ', 'HP', 'Information Technology'], ['HUM', 'Humana', 'Health Care'], ['HBAN', 'Huntington Bancshares', 'Financials'], ['HII', 'Huntington Ingalls Industries', 'Industrials'], ['IBM', 'IBM', 'Information Technology'], ['IEX', 'IDEX Corporation', 'Industrials'], ['IDXX', 'Idexx Laboratories', 'Health Care'], ['INFO', 'IHS Markit', 'Industrials'], ['ITW', 'Illinois Tool Works', 'Industrials'], ['ILMN', 'Illumina', 'Health Care'], ['INCY', 'Incyte', 'Health Care'], ['IR', 'Ingersoll Rand', 'Industrials'], ['INTC', 'Intel', 'Information Technology'], ['ICE', 'Intercontinental Exchange', 'Financials'], ['IFF', 'International Flavors & Fragrances', 'Materials'], ['IP', 'International Paper', 'Materials'], ['IPG', 'Interpublic Group', 'Communication Services'], ['INTU', 'Intuit', 'Information Technology'], ['ISRG', 'Intuitive Surgical', 'Health Care'], ['IVZ', 'Invesco', 'Financials'], ['IPGP', 'IPG Photonics', 'Information Technology'], ['IQV', 'IQVIA', 'Health Care'], ['IRM', 'Iron Mountain', 'Real Estate'], ['JBHT', 'J. B. Hunt', 'Industrials'], ['JKHY', 'Jack Henry & Associates', 'Information Technology'], ['J', 'Jacobs Engineering Group', 'Industrials'], ['SJM', 'JM Smucker', 'Consumer Staples'], ['JNJ', 'Johnson & Johnson', 'Health Care'], ['JCI', 'Johnson Controls', 'Industrials'], ['JPM', 'JPMorgan Chase', 'Financials'], ['JNPR', 'Juniper Networks', 'Information Technology'], ['KSU', 'Kansas City Southern', 'Industrials'], ['K', \"Kellogg's\", 'Consumer Staples'], ['KEY', 'KeyCorp', 'Financials'], ['KEYS', 'Keysight Technologies', 'Information Technology'], ['KMB', 'Kimberly-Clark', 'Consumer Staples'], ['KIM', 'Kimco Realty', 'Real Estate'], ['KMI', 'Kinder Morgan', 'Energy'], ['KLAC', 'KLA Corporation', 'Information Technology'], ['KHC', 'Kraft Heinz', 'Consumer Staples'], ['KR', 'Kroger', 'Consumer Staples'], ['LHX', 'L3Harris Technologies', 'Industrials'], ['LH', 'LabCorp', 'Health Care'], ['LRCX', 'Lam Research', 'Information Technology'], ['LW', 'Lamb Weston', 'Consumer Staples'], ['LVS', 'Las Vegas Sands', 'Consumer Discretionary'], ['LEG', 'Leggett & Platt', 'Consumer Discretionary'], ['LDOS', 'Leidos', 'Industrials'], ['LEN', 'Lennar', 'Consumer Discretionary'], ['LNC', 'Lincoln National', 'Financials'], ['LIN', 'Linde', 'Materials'], ['LYV', 'Live Nation Entertainment', 'Communication Services'], ['LKQ', 'LKQ Corporation', 'Consumer Discretionary'], ['LMT', 'Lockheed Martin', 'Industrials'], ['L', 'Loews Corporation', 'Financials'], ['LOW', \"Lowe's\", 'Consumer Discretionary'], ['LUMN', 'Lumen Technologies', 'Communication Services'], ['LYB', 'LyondellBasell', 'Materials'], ['MTB', 'M&T Bank', 'Financials'], ['MRO', 'Marathon Oil', 'Energy'], ['MPC', 'Marathon Petroleum', 'Energy'], ['MKTX', 'MarketAxess', 'Financials'], ['MAR', 'Marriott International', 'Consumer Discretionary'], ['MMC', 'Marsh & McLennan', 'Financials'], ['MLM', 'Martin Marietta Materials', 'Materials'], ['MAS', 'Masco', 'Industrials'], ['MA', 'Mastercard', 'Information Technology'], ['MTCH', 'Match Group', 'Communication Services'], ['MKC', 'McCormick & Company', 'Consumer Staples'], ['MCD', \"McDonald's\", 'Consumer Discretionary'], ['MCK', 'McKesson Corporation', 'Health Care'], ['MDT', 'Medtronic', 'Health Care'], ['MRK', 'Merck & Co.', 'Health Care'], ['MET', 'MetLife', 'Financials'], ['MTD', 'Mettler Toledo', 'Health Care'], ['MGM', 'MGM Resorts International', 'Consumer Discretionary'], ['MCHP', 'Microchip Technology', 'Information Technology'], ['MU', 'Micron Technology', 'Information Technology'], ['MSFT', 'Microsoft', 'Information Technology'], ['MAA', 'Mid-America Apartments', 'Real Estate'], ['MRNA', 'Moderna', 'Health Care'], ['MHK', 'Mohawk Industries', 'Consumer Discretionary'], ['TAP', 'Molson Coors Beverage Company', 'Consumer Staples'], ['MDLZ', 'Mondelez International', 'Consumer Staples'], ['MPWR', 'Monolithic Power Systems', 'Information Technology'], ['MNST', 'Monster Beverage', 'Consumer Staples'], ['MCO', \"Moody's Corporation\", 'Financials'], ['MS', 'Morgan Stanley', 'Financials'], ['MSI', 'Motorola Solutions', 'Information Technology'], ['MSCI', 'MSCI', 'Financials'], ['NDAQ', 'Nasdaq', 'Financials'], ['NTAP', 'NetApp', 'Information Technology'], ['NFLX', 'Netflix', 'Communication Services'], ['NWL', 'Newell Brands', 'Consumer Discretionary'], ['NEM', 'Newmont', 'Materials'], ['NWSA', 'News Corp (Class A)', 'Communication Services'], ['NWS', 'News Corp (Class B)', 'Communication Services'], ['NEE', 'NextEra Energy', 'Utilities'], ['NLSN', 'Nielsen Holdings', 'Industrials'], ['NKE', 'Nike', 'Consumer Discretionary'], ['NI', 'NiSource', 'Utilities'], ['NSC', 'Norfolk Southern', 'Industrials'], ['NTRS', 'Northern Trust', 'Financials'], ['NOC', 'Northrop Grumman', 'Industrials'], ['NLOK', 'NortonLifeLock', 'Information Technology'], ['NCLH', 'Norwegian Cruise Line Holdings', 'Consumer Discretionary'], ['NRG', 'NRG Energy', 'Utilities'], ['NUE', 'Nucor', 'Materials'], ['NVDA', 'Nvidia', 'Information Technology'], ['NVR', 'NVR', 'Consumer Discretionary'], ['NXPI', 'NXP', 'Information Technology'], ['ORLY', \"O'Reilly Automotive\", 'Consumer Discretionary'], ['OXY', 'Occidental Petroleum', 'Energy'], ['ODFL', 'Old Dominion Freight Line', 'Industrials'], ['OMC', 'Omnicom Group', 'Communication Services'], ['OKE', 'Oneok', 'Energy'], ['ORCL', 'Oracle', 'Information Technology'], ['OGN', 'Organon & Co.', 'Health Care'], ['OTIS', 'Otis Worldwide', 'Industrials'], ['PCAR', 'Paccar', 'Industrials'], ['PKG', 'Packaging Corporation of America', 'Materials'], ['PH', 'Parker-Hannifin', 'Industrials'], ['PAYX', 'Paychex', 'Information Technology'], ['PAYC', 'Paycom', 'Information Technology'], ['PYPL', 'PayPal', 'Information Technology'], ['PENN', 'Penn National Gaming', 'Consumer Discretionary'], ['PNR', 'Pentair', 'Industrials'], ['PBCT', \"People's United Financial\", 'Financials'], ['PEP', 'PepsiCo', 'Consumer Staples'], ['PKI', 'PerkinElmer', 'Health Care'], ['PFE', 'Pfizer', 'Health Care'], ['PM', 'Philip Morris International', 'Consumer Staples'], ['PSX', 'Phillips 66', 'Energy'], ['PNW', 'Pinnacle West Capital', 'Utilities'], ['PXD', 'Pioneer Natural Resources', 'Energy'], ['PNC', 'PNC Financial Services', 'Financials'], ['POOL', 'Pool Corporation', 'Consumer Discretionary'], ['PPG', 'PPG Industries', 'Materials'], ['PPL', 'PPL', 'Utilities'], ['PFG', 'Principal Financial Group', 'Financials'], ['PG', 'Procter & Gamble', 'Consumer Staples'], ['PGR', 'Progressive Corporation', 'Financials'], ['PLD', 'Prologis', 'Real Estate'], ['PRU', 'Prudential Financial', 'Financials'], ['PTC', 'PTC', 'Information Technology'], ['PEG', 'Public Service Enterprise Group', 'Utilities'], ['PSA', 'Public Storage', 'Real Estate'], ['PHM', 'PulteGroup', 'Consumer Discretionary'], ['PVH', 'PVH', 'Consumer Discretionary'], ['QRVO', 'Qorvo', 'Information Technology'], ['QCOM', 'Qualcomm', 'Information Technology'], ['PWR', 'Quanta Services', 'Industrials'], ['DGX', 'Quest Diagnostics', 'Health Care'], ['RL', 'Ralph Lauren Corporation', 'Consumer Discretionary'], ['RJF', 'Raymond James Financial', 'Financials'], ['RTX', 'Raytheon Technologies', 'Industrials'], ['O', 'Realty Income Corporation', 'Real Estate'], ['REG', 'Regency Centers', 'Real Estate'], ['REGN', 'Regeneron Pharmaceuticals', 'Health Care'], ['RF', 'Regions Financial Corporation', 'Financials'], ['RSG', 'Republic Services', 'Industrials'], ['RMD', 'ResMed', 'Health Care'], ['RHI', 'Robert Half International', 'Industrials'], ['ROK', 'Rockwell Automation', 'Industrials'], ['ROL', 'Rollins', 'Industrials'], ['ROP', 'Roper Technologies', 'Industrials'], ['ROST', 'Ross Stores', 'Consumer Discretionary'], ['RCL', 'Royal Caribbean Group', 'Consumer Discretionary'], ['SPGI', 'S&P Global', 'Financials'], ['CRM', 'Salesforce', 'Information Technology'], ['SBAC', 'SBA Communications', 'Real Estate'], ['SLB', 'Schlumberger', 'Energy'], ['STX', 'Seagate Technology', 'Information Technology'], ['SEE', 'Sealed Air', 'Materials'], ['SRE', 'Sempra Energy', 'Utilities'], ['NOW', 'ServiceNow', 'Information Technology'], ['SHW', 'Sherwin-Williams', 'Materials'], ['SPG', 'Simon Property Group', 'Real Estate'], ['SWKS', 'Skyworks Solutions', 'Information Technology'], ['SNA', 'Snap-on', 'Industrials'], ['SO', 'Southern Company', 'Utilities'], ['LUV', 'Southwest Airlines', 'Industrials'], ['SWK', 'Stanley Black & Decker', 'Industrials'], ['SBUX', 'Starbucks', 'Consumer Discretionary'], ['STT', 'State Street Corporation', 'Financials'], ['STE', 'Steris', 'Health Care'], ['SYK', 'Stryker Corporation', 'Health Care'], ['SIVB', 'SVB Financial', 'Financials'], ['SYF', 'Synchrony Financial', 'Financials'], ['SNPS', 'Synopsys', 'Information Technology'], ['SYY', 'Sysco', 'Consumer Staples'], ['TMUS', 'T-Mobile US', 'Communication Services'], ['TROW', 'T. Rowe Price', 'Financials'], ['TTWO', 'Take-Two Interactive', 'Communication Services'], ['TPR', 'Tapestry', 'Consumer Discretionary'], ['TGT', 'Target Corporation', 'Consumer Discretionary'], ['TEL', 'TE Connectivity', 'Information Technology'], ['TDY', 'Teledyne Technologies', 'Industrials'], ['TFX', 'Teleflex', 'Health Care'], ['TER', 'Teradyne', 'Information Technology'], ['TSLA', 'Tesla', 'Consumer Discretionary'], ['TXN', 'Texas Instruments', 'Information Technology'], ['TXT', 'Textron', 'Industrials'], ['COO', 'The Cooper Companies', 'Health Care'], ['HIG', 'The Hartford', 'Financials'], ['HSY', 'The Hershey Company', 'Consumer Staples'], ['MOS', 'The Mosaic Company', 'Materials'], ['TRV', 'The Travelers Companies', 'Financials'], ['DIS', 'The Walt Disney Company', 'Communication Services'], ['TMO', 'Thermo Fisher Scientific', 'Health Care'], ['TJX', 'TJX Companies', 'Consumer Discretionary'], ['TSCO', 'Tractor Supply Company', 'Consumer Discretionary'], ['TT', 'Trane Technologies', 'Industrials'], ['TDG', 'TransDigm Group', 'Industrials'], ['TRMB', 'Trimble', 'Information Technology'], ['TFC', 'Truist Financial', 'Financials'], ['TWTR', 'Twitter', 'Communication Services'], ['TYL', 'Tyler Technologies', 'Information Technology'], ['TSN', 'Tyson Foods', 'Consumer Staples'], ['USB', 'U.S. Bancorp', 'Financials'], ['UDR', 'UDR', 'Real Estate'], ['ULTA', 'Ulta Beauty', 'Consumer Discretionary'], ['UAA', 'Under Armour (Class A)', 'Consumer Discretionary'], ['UA', 'Under Armour (Class C)', 'Consumer Discretionary'], ['UNP', 'Union Pacific', 'Industrials'], ['UAL', 'United Airlines', 'Industrials'], ['UPS', 'United Parcel Service', 'Industrials'], ['URI', 'United Rentals', 'Industrials'], ['UNH', 'UnitedHealth Group', 'Health Care'], ['UHS', 'Universal Health Services', 'Health Care'], ['VLO', 'Valero Energy', 'Energy'], ['VTR', 'Ventas', 'Real Estate'], ['VRSN', 'Verisign', 'Information Technology'], ['VRSK', 'Verisk Analytics', 'Industrials'], ['VZ', 'Verizon Communications', 'Communication Services'], ['VRTX', 'Vertex Pharmaceuticals', 'Health Care'], ['VFC', 'VF Corporation', 'Consumer Discretionary'], ['VIAC', 'ViacomCBS', 'Communication Services'], ['VTRS', 'Viatris', 'Health Care'], ['V', 'Visa', 'Information Technology'], ['VNO', 'Vornado Realty Trust', 'Real Estate'], ['VMC', 'Vulcan Materials', 'Materials'], ['WRB', 'W. R. Berkley Corporation', 'Financials'], ['GWW', 'W. W. Grainger', 'Industrials'], ['WAB', 'Wabtec', 'Industrials'], ['WBA', 'Walgreens Boots Alliance', 'Consumer Staples'], ['WMT', 'Walmart', 'Consumer Staples'], ['WM', 'Waste Management', 'Industrials'], ['WAT', 'Waters Corporation', 'Health Care'], ['WEC', 'WEC Energy Group', 'Utilities'], ['WFC', 'Wells Fargo', 'Financials'], ['WELL', 'Welltower', 'Real Estate'], ['WST', 'West Pharmaceutical Services', 'Health Care'], ['WDC', 'Western Digital', 'Information Technology'], ['WU', 'Western Union', 'Information Technology'], ['WRK', 'WestRock', 'Materials'], ['WY', 'Weyerhaeuser', 'Real Estate'], ['WHR', 'Whirlpool Corporation', 'Consumer Discretionary'], ['WMB', 'Williams Companies', 'Energy'], ['WLTW', 'Willis Towers Watson', 'Financials'], ['WYNN', 'Wynn Resorts', 'Consumer Discretionary'], ['XEL', 'Xcel Energy', 'Utilities'], ['XLNX', 'Xilinx', 'Information Technology'], ['XYL', 'Xylem', 'Industrials'], ['YUM', 'Yum! Brands', 'Consumer Discretionary'], ['ZBRA', 'Zebra Technologies', 'Information Technology'], ['ZBH', 'Zimmer Biomet', 'Health Care'], ['ZION', 'Zions Bancorp', 'Financials'], ['ZTS', 'Zoetis', 'Health Care']]\n"
     ]
    }
   ],
   "source": [
    "# print processed tabular data (if exists any)\n",
    "for resource in package.resources:\n",
    "    if resource.descriptor['datahub']['type'] == 'derived/csv':\n",
    "        print(resource.read())"
   ]
  },
  {
   "cell_type": "code",
<<<<<<< HEAD
   "execution_count": 10,
=======
   "execution_count": 5,
>>>>>>> main
   "id": "7c4d235e-f800-441e-aa99-473532c22143",
   "metadata": {},
   "outputs": [],
   "source": [
    "title=['Ticker','Company','Sector']"
   ]
  },
  {
   "cell_type": "code",
<<<<<<< HEAD
   "execution_count": 11,
=======
   "execution_count": 6,
>>>>>>> main
   "id": "69941093-fde9-40cf-922a-a2b2cf3a5551",
   "metadata": {},
   "outputs": [
    {
     "data": {
      "text/html": [
       "<div>\n",
       "<style scoped>\n",
       "    .dataframe tbody tr th:only-of-type {\n",
       "        vertical-align: middle;\n",
       "    }\n",
       "\n",
       "    .dataframe tbody tr th {\n",
       "        vertical-align: top;\n",
       "    }\n",
       "\n",
       "    .dataframe thead th {\n",
       "        text-align: right;\n",
       "    }\n",
       "</style>\n",
       "<table border=\"1\" class=\"dataframe\">\n",
       "  <thead>\n",
       "    <tr style=\"text-align: right;\">\n",
       "      <th></th>\n",
       "      <th>Ticker</th>\n",
       "      <th>Company</th>\n",
       "      <th>Sector</th>\n",
       "    </tr>\n",
       "  </thead>\n",
       "  <tbody>\n",
       "    <tr>\n",
       "      <th>0</th>\n",
       "      <td>MMM</td>\n",
       "      <td>3M</td>\n",
       "      <td>Industrials</td>\n",
       "    </tr>\n",
       "    <tr>\n",
       "      <th>1</th>\n",
       "      <td>AOS</td>\n",
       "      <td>A. O. Smith</td>\n",
       "      <td>Industrials</td>\n",
       "    </tr>\n",
       "    <tr>\n",
       "      <th>2</th>\n",
       "      <td>ABT</td>\n",
       "      <td>Abbott Laboratories</td>\n",
       "      <td>Health Care</td>\n",
       "    </tr>\n",
       "    <tr>\n",
       "      <th>3</th>\n",
       "      <td>ABBV</td>\n",
       "      <td>AbbVie</td>\n",
       "      <td>Health Care</td>\n",
       "    </tr>\n",
       "    <tr>\n",
       "      <th>4</th>\n",
       "      <td>ABMD</td>\n",
       "      <td>Abiomed</td>\n",
       "      <td>Health Care</td>\n",
       "    </tr>\n",
       "    <tr>\n",
       "      <th>...</th>\n",
       "      <td>...</td>\n",
       "      <td>...</td>\n",
       "      <td>...</td>\n",
       "    </tr>\n",
       "    <tr>\n",
       "      <th>500</th>\n",
       "      <td>YUM</td>\n",
       "      <td>Yum! Brands</td>\n",
       "      <td>Consumer Discretionary</td>\n",
       "    </tr>\n",
       "    <tr>\n",
       "      <th>501</th>\n",
       "      <td>ZBRA</td>\n",
       "      <td>Zebra Technologies</td>\n",
       "      <td>Information Technology</td>\n",
       "    </tr>\n",
       "    <tr>\n",
       "      <th>502</th>\n",
       "      <td>ZBH</td>\n",
       "      <td>Zimmer Biomet</td>\n",
       "      <td>Health Care</td>\n",
       "    </tr>\n",
       "    <tr>\n",
       "      <th>503</th>\n",
       "      <td>ZION</td>\n",
       "      <td>Zions Bancorp</td>\n",
       "      <td>Financials</td>\n",
       "    </tr>\n",
       "    <tr>\n",
       "      <th>504</th>\n",
       "      <td>ZTS</td>\n",
       "      <td>Zoetis</td>\n",
       "      <td>Health Care</td>\n",
       "    </tr>\n",
       "  </tbody>\n",
       "</table>\n",
       "<p>505 rows × 3 columns</p>\n",
       "</div>"
      ],
      "text/plain": [
       "    Ticker              Company                  Sector\n",
       "0      MMM                   3M             Industrials\n",
       "1      AOS          A. O. Smith             Industrials\n",
       "2      ABT  Abbott Laboratories             Health Care\n",
       "3     ABBV               AbbVie             Health Care\n",
       "4     ABMD              Abiomed             Health Care\n",
       "..     ...                  ...                     ...\n",
       "500    YUM          Yum! Brands  Consumer Discretionary\n",
       "501   ZBRA   Zebra Technologies  Information Technology\n",
       "502    ZBH        Zimmer Biomet             Health Care\n",
       "503   ZION        Zions Bancorp              Financials\n",
       "504    ZTS               Zoetis             Health Care\n",
       "\n",
       "[505 rows x 3 columns]"
      ]
     },
<<<<<<< HEAD
     "execution_count": 11,
=======
     "execution_count": 6,
>>>>>>> main
     "metadata": {},
     "output_type": "execute_result"
    }
   ],
   "source": [
    "import pandas as pd\n",
    "SPX_sector=pd.DataFrame(resource.read(), columns=title)\n",
    "SPX_sector"
   ]
  },
  {
   "cell_type": "code",
<<<<<<< HEAD
   "execution_count": 12,
=======
   "execution_count": 7,
>>>>>>> main
   "id": "700b1f6c-7c37-4cc0-a487-ea0e07eb05e1",
   "metadata": {},
   "outputs": [
    {
     "data": {
      "text/html": [
       "<div>\n",
       "<style scoped>\n",
       "    .dataframe tbody tr th:only-of-type {\n",
       "        vertical-align: middle;\n",
       "    }\n",
       "\n",
       "    .dataframe tbody tr th {\n",
       "        vertical-align: top;\n",
       "    }\n",
       "\n",
       "    .dataframe thead th {\n",
       "        text-align: right;\n",
       "    }\n",
       "</style>\n",
       "<table border=\"1\" class=\"dataframe\">\n",
       "  <thead>\n",
       "    <tr style=\"text-align: right;\">\n",
       "      <th></th>\n",
       "      <th>Sector</th>\n",
       "      <th>Ticker</th>\n",
       "      <th>Company</th>\n",
       "    </tr>\n",
       "  </thead>\n",
       "  <tbody>\n",
       "    <tr>\n",
       "      <th>0</th>\n",
       "      <td>Communication Services</td>\n",
       "      <td>27</td>\n",
       "      <td>27</td>\n",
       "    </tr>\n",
       "    <tr>\n",
       "      <th>1</th>\n",
       "      <td>Consumer Discretionary</td>\n",
       "      <td>63</td>\n",
       "      <td>63</td>\n",
       "    </tr>\n",
       "    <tr>\n",
       "      <th>2</th>\n",
       "      <td>Consumer Staples</td>\n",
       "      <td>32</td>\n",
       "      <td>32</td>\n",
       "    </tr>\n",
       "    <tr>\n",
       "      <th>3</th>\n",
       "      <td>Energy</td>\n",
       "      <td>21</td>\n",
       "      <td>21</td>\n",
       "    </tr>\n",
       "    <tr>\n",
       "      <th>4</th>\n",
       "      <td>Financials</td>\n",
       "      <td>65</td>\n",
       "      <td>65</td>\n",
       "    </tr>\n",
       "    <tr>\n",
       "      <th>5</th>\n",
       "      <td>Health Care</td>\n",
       "      <td>64</td>\n",
       "      <td>64</td>\n",
       "    </tr>\n",
       "    <tr>\n",
       "      <th>6</th>\n",
       "      <td>Industrials</td>\n",
       "      <td>74</td>\n",
       "      <td>74</td>\n",
       "    </tr>\n",
       "    <tr>\n",
       "      <th>7</th>\n",
       "      <td>Information Technology</td>\n",
       "      <td>74</td>\n",
       "      <td>74</td>\n",
       "    </tr>\n",
       "    <tr>\n",
       "      <th>8</th>\n",
       "      <td>Materials</td>\n",
       "      <td>28</td>\n",
       "      <td>28</td>\n",
       "    </tr>\n",
       "    <tr>\n",
       "      <th>9</th>\n",
       "      <td>Real Estate</td>\n",
       "      <td>29</td>\n",
       "      <td>29</td>\n",
       "    </tr>\n",
       "    <tr>\n",
       "      <th>10</th>\n",
       "      <td>Utilities</td>\n",
       "      <td>28</td>\n",
       "      <td>28</td>\n",
       "    </tr>\n",
       "  </tbody>\n",
       "</table>\n",
       "</div>"
      ],
      "text/plain": [
       "                    Sector  Ticker  Company\n",
       "0   Communication Services      27       27\n",
       "1   Consumer Discretionary      63       63\n",
       "2         Consumer Staples      32       32\n",
       "3                   Energy      21       21\n",
       "4               Financials      65       65\n",
       "5              Health Care      64       64\n",
       "6              Industrials      74       74\n",
       "7   Information Technology      74       74\n",
       "8                Materials      28       28\n",
       "9              Real Estate      29       29\n",
       "10               Utilities      28       28"
      ]
     },
<<<<<<< HEAD
     "execution_count": 12,
=======
     "execution_count": 7,
>>>>>>> main
     "metadata": {},
     "output_type": "execute_result"
    }
   ],
   "source": [
    "SPX_sector_count=SPX_sector.groupby(SPX_sector['Sector']).count()\n",
    "SPX_sector_count.reset_index()"
   ]
  },
  {
   "cell_type": "code",
<<<<<<< HEAD
   "execution_count": 13,
=======
   "execution_count": 8,
>>>>>>> main
   "id": "146e419f-fa30-42b5-bc0d-ba4136073f8a",
   "metadata": {},
   "outputs": [
    {
     "data": {
      "text/html": [
       "<div>\n",
       "<style scoped>\n",
       "    .dataframe tbody tr th:only-of-type {\n",
       "        vertical-align: middle;\n",
       "    }\n",
       "\n",
       "    .dataframe tbody tr th {\n",
       "        vertical-align: top;\n",
       "    }\n",
       "\n",
       "    .dataframe thead th {\n",
       "        text-align: right;\n",
       "    }\n",
       "</style>\n",
       "<table border=\"1\" class=\"dataframe\">\n",
       "  <thead>\n",
       "    <tr style=\"text-align: right;\">\n",
       "      <th></th>\n",
       "      <th>Ticker</th>\n",
       "      <th>Company</th>\n",
       "      <th>Sector</th>\n",
       "    </tr>\n",
       "  </thead>\n",
       "  <tbody>\n",
       "    <tr>\n",
       "      <th>2</th>\n",
       "      <td>ABT</td>\n",
       "      <td>Abbott Laboratories</td>\n",
       "      <td>Health Care</td>\n",
       "    </tr>\n",
       "    <tr>\n",
       "      <th>3</th>\n",
       "      <td>ABBV</td>\n",
       "      <td>AbbVie</td>\n",
       "      <td>Health Care</td>\n",
       "    </tr>\n",
       "    <tr>\n",
       "      <th>4</th>\n",
       "      <td>ABMD</td>\n",
       "      <td>Abiomed</td>\n",
       "      <td>Health Care</td>\n",
       "    </tr>\n",
       "    <tr>\n",
       "      <th>13</th>\n",
       "      <td>A</td>\n",
       "      <td>Agilent Technologies</td>\n",
       "      <td>Health Care</td>\n",
       "    </tr>\n",
       "    <tr>\n",
       "      <th>19</th>\n",
       "      <td>ALGN</td>\n",
       "      <td>Align Technology</td>\n",
       "      <td>Health Care</td>\n",
       "    </tr>\n",
       "  </tbody>\n",
       "</table>\n",
       "</div>"
      ],
      "text/plain": [
       "   Ticker               Company       Sector\n",
       "2     ABT   Abbott Laboratories  Health Care\n",
       "3    ABBV                AbbVie  Health Care\n",
       "4    ABMD               Abiomed  Health Care\n",
       "13      A  Agilent Technologies  Health Care\n",
       "19   ALGN      Align Technology  Health Care"
      ]
     },
<<<<<<< HEAD
     "execution_count": 13,
=======
     "execution_count": 8,
>>>>>>> main
     "metadata": {},
     "output_type": "execute_result"
    }
   ],
   "source": [
    "SPX_Health=SPX_sector[SPX_sector['Sector']==\"Health Care\"]\n",
    "SPX_Health.head()"
   ]
  },
  {
   "cell_type": "code",
<<<<<<< HEAD
   "execution_count": 14,
=======
   "execution_count": 10,
>>>>>>> main
   "id": "1d826ec9-fbae-48af-9b0a-aefb3a65ac40",
   "metadata": {},
   "outputs": [],
   "source": [
    "SPX_Health.to_csv('../Datasets/SPX_Health_Sector_info.csv',index=False)"
   ]
  },
  {
   "cell_type": "code",
   "execution_count": null,
   "id": "8922bad3-65f5-4081-b59c-12f0af108b1c",
   "metadata": {},
   "outputs": [],
   "source": []
  },
  {
   "cell_type": "code",
   "execution_count": null,
   "id": "42b0af2d-c1d0-4bd0-9ece-eed2fdd8b59a",
   "metadata": {},
   "outputs": [],
   "source": []
  },
  {
   "cell_type": "code",
   "execution_count": null,
   "id": "f194ae8e-3f55-41af-a384-4a19fa38112d",
   "metadata": {},
   "outputs": [],
   "source": []
  }
 ],
 "metadata": {
  "kernelspec": {
   "display_name": "PythonData",
   "language": "python",
   "name": "pythondata"
  },
  "language_info": {
   "codemirror_mode": {
    "name": "ipython",
    "version": 3
   },
   "file_extension": ".py",
   "mimetype": "text/x-python",
   "name": "python",
   "nbconvert_exporter": "python",
   "pygments_lexer": "ipython3",
   "version": "3.7.6"
  }
 },
 "nbformat": 4,
 "nbformat_minor": 5
}
