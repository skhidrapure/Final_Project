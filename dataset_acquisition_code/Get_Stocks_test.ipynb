{
 "cells": [
  {
   "cell_type": "code",
   "execution_count": 1,
   "id": "e25a69ef-b9f1-4275-9e20-4f0245011af4",
   "metadata": {},
   "outputs": [],
   "source": [
    "# Import the requests library.\n",
    "import requests\n",
    "import pandas as pd"
   ]
  },
  {
   "cell_type": "code",
   "execution_count": 2,
   "id": "d6c42b1d-9eda-4415-97c7-09b69ab49dc5",
   "metadata": {},
   "outputs": [],
   "source": [
    "# Import the API key.\n",
    "from config import polygon_api_key"
   ]
  },
  {
   "cell_type": "code",
   "execution_count": 3,
   "id": "4fbfc64f-f31d-4092-ac1e-21376376ff42",
   "metadata": {},
   "outputs": [],
   "source": [
    "# Test the stock data acquisition \n",
    "tickers='EDIT'"
   ]
  },
  {
   "cell_type": "code",
   "execution_count": 4,
   "id": "8a02d595-8d6e-423a-8667-eab79fafa44f",
   "metadata": {},
   "outputs": [
    {
     "name": "stdout",
     "output_type": "stream",
     "text": [
      "https://api.polygon.io/v2/aggs/ticker/EDIT/range/1/day/2020-03-12/2021-12-31?adjusted=true&sort=asc&limit=730&apiKey=3KpZPDXRUCksP8Xb5AJKkXI02s8x5VXx\n"
     ]
    }
   ],
   "source": [
    "# Starting URL for Polygon API Call - from 2020-03-12 to 2021-12-31\n",
    "url = \"https://api.polygon.io/v2/aggs/ticker/\" + tickers + \"/range/1/day/2020-03-12/2021-12-31?adjusted=true&sort=asc&limit=730&apiKey=\" + polygon_api_key\n",
    "print(url)"
   ]
  },
  {
   "cell_type": "code",
   "execution_count": 5,
   "id": "5a264359-e519-49bb-a360-7f4893ddf9d3",
   "metadata": {},
   "outputs": [],
   "source": [
    "EDIT_stock = requests.get(url)"
   ]
  },
  {
   "cell_type": "code",
   "execution_count": 6,
   "id": "88409004-0db7-418a-afb6-d038850a5df5",
   "metadata": {},
   "outputs": [],
   "source": [
    "EDIT_stock = EDIT_stock.json()"
   ]
  },
  {
   "cell_type": "code",
   "execution_count": 41,
   "id": "d8d39678-08b3-4f26-8275-aad51dc43dab",
   "metadata": {},
   "outputs": [
    {
     "data": {
      "text/html": [
       "<div>\n",
       "<style scoped>\n",
       "    .dataframe tbody tr th:only-of-type {\n",
       "        vertical-align: middle;\n",
       "    }\n",
       "\n",
       "    .dataframe tbody tr th {\n",
       "        vertical-align: top;\n",
       "    }\n",
       "\n",
       "    .dataframe thead th {\n",
       "        text-align: right;\n",
       "    }\n",
       "</style>\n",
       "<table border=\"1\" class=\"dataframe\">\n",
       "  <thead>\n",
       "    <tr style=\"text-align: right;\">\n",
       "      <th></th>\n",
       "      <th>v</th>\n",
       "      <th>vw</th>\n",
       "      <th>o</th>\n",
       "      <th>c</th>\n",
       "      <th>h</th>\n",
       "      <th>l</th>\n",
       "      <th>t</th>\n",
       "      <th>n</th>\n",
       "    </tr>\n",
       "  </thead>\n",
       "  <tbody>\n",
       "    <tr>\n",
       "      <th>0</th>\n",
       "      <td>1757514.0</td>\n",
       "      <td>17.9240</td>\n",
       "      <td>19.01</td>\n",
       "      <td>17.76</td>\n",
       "      <td>19.1800</td>\n",
       "      <td>16.94</td>\n",
       "      <td>1583985600000</td>\n",
       "      <td>16829</td>\n",
       "    </tr>\n",
       "    <tr>\n",
       "      <th>1</th>\n",
       "      <td>1615553.0</td>\n",
       "      <td>18.3653</td>\n",
       "      <td>19.43</td>\n",
       "      <td>19.35</td>\n",
       "      <td>19.4600</td>\n",
       "      <td>16.76</td>\n",
       "      <td>1584072000000</td>\n",
       "      <td>13948</td>\n",
       "    </tr>\n",
       "    <tr>\n",
       "      <th>2</th>\n",
       "      <td>1518511.0</td>\n",
       "      <td>15.6711</td>\n",
       "      <td>14.83</td>\n",
       "      <td>14.88</td>\n",
       "      <td>17.0500</td>\n",
       "      <td>14.01</td>\n",
       "      <td>1584331200000</td>\n",
       "      <td>14630</td>\n",
       "    </tr>\n",
       "    <tr>\n",
       "      <th>3</th>\n",
       "      <td>1642534.0</td>\n",
       "      <td>15.8749</td>\n",
       "      <td>15.49</td>\n",
       "      <td>16.78</td>\n",
       "      <td>17.2262</td>\n",
       "      <td>14.10</td>\n",
       "      <td>1584417600000</td>\n",
       "      <td>13835</td>\n",
       "    </tr>\n",
       "    <tr>\n",
       "      <th>4</th>\n",
       "      <td>1918046.0</td>\n",
       "      <td>17.8133</td>\n",
       "      <td>16.06</td>\n",
       "      <td>18.29</td>\n",
       "      <td>18.8227</td>\n",
       "      <td>15.37</td>\n",
       "      <td>1584504000000</td>\n",
       "      <td>17126</td>\n",
       "    </tr>\n",
       "    <tr>\n",
       "      <th>...</th>\n",
       "      <td>...</td>\n",
       "      <td>...</td>\n",
       "      <td>...</td>\n",
       "      <td>...</td>\n",
       "      <td>...</td>\n",
       "      <td>...</td>\n",
       "      <td>...</td>\n",
       "      <td>...</td>\n",
       "    </tr>\n",
       "    <tr>\n",
       "      <th>452</th>\n",
       "      <td>1411309.0</td>\n",
       "      <td>28.3336</td>\n",
       "      <td>29.85</td>\n",
       "      <td>28.15</td>\n",
       "      <td>29.8500</td>\n",
       "      <td>27.84</td>\n",
       "      <td>1640581200000</td>\n",
       "      <td>14601</td>\n",
       "    </tr>\n",
       "    <tr>\n",
       "      <th>453</th>\n",
       "      <td>1251507.0</td>\n",
       "      <td>28.1929</td>\n",
       "      <td>27.94</td>\n",
       "      <td>27.90</td>\n",
       "      <td>29.2100</td>\n",
       "      <td>27.70</td>\n",
       "      <td>1640667600000</td>\n",
       "      <td>14581</td>\n",
       "    </tr>\n",
       "    <tr>\n",
       "      <th>454</th>\n",
       "      <td>1436212.0</td>\n",
       "      <td>27.1724</td>\n",
       "      <td>27.73</td>\n",
       "      <td>27.08</td>\n",
       "      <td>27.9700</td>\n",
       "      <td>26.69</td>\n",
       "      <td>1640754000000</td>\n",
       "      <td>15410</td>\n",
       "    </tr>\n",
       "    <tr>\n",
       "      <th>455</th>\n",
       "      <td>1215296.0</td>\n",
       "      <td>28.0688</td>\n",
       "      <td>27.05</td>\n",
       "      <td>27.79</td>\n",
       "      <td>28.7900</td>\n",
       "      <td>26.90</td>\n",
       "      <td>1640840400000</td>\n",
       "      <td>14532</td>\n",
       "    </tr>\n",
       "    <tr>\n",
       "      <th>456</th>\n",
       "      <td>1144202.0</td>\n",
       "      <td>27.1498</td>\n",
       "      <td>27.71</td>\n",
       "      <td>26.55</td>\n",
       "      <td>28.7400</td>\n",
       "      <td>26.51</td>\n",
       "      <td>1640926800000</td>\n",
       "      <td>13493</td>\n",
       "    </tr>\n",
       "  </tbody>\n",
       "</table>\n",
       "<p>457 rows × 8 columns</p>\n",
       "</div>"
      ],
      "text/plain": [
       "             v       vw      o      c        h      l              t      n\n",
       "0    1757514.0  17.9240  19.01  17.76  19.1800  16.94  1583985600000  16829\n",
       "1    1615553.0  18.3653  19.43  19.35  19.4600  16.76  1584072000000  13948\n",
       "2    1518511.0  15.6711  14.83  14.88  17.0500  14.01  1584331200000  14630\n",
       "3    1642534.0  15.8749  15.49  16.78  17.2262  14.10  1584417600000  13835\n",
       "4    1918046.0  17.8133  16.06  18.29  18.8227  15.37  1584504000000  17126\n",
       "..         ...      ...    ...    ...      ...    ...            ...    ...\n",
       "452  1411309.0  28.3336  29.85  28.15  29.8500  27.84  1640581200000  14601\n",
       "453  1251507.0  28.1929  27.94  27.90  29.2100  27.70  1640667600000  14581\n",
       "454  1436212.0  27.1724  27.73  27.08  27.9700  26.69  1640754000000  15410\n",
       "455  1215296.0  28.0688  27.05  27.79  28.7900  26.90  1640840400000  14532\n",
       "456  1144202.0  27.1498  27.71  26.55  28.7400  26.51  1640926800000  13493\n",
       "\n",
       "[457 rows x 8 columns]"
      ]
     },
     "execution_count": 41,
     "metadata": {},
     "output_type": "execute_result"
    }
   ],
   "source": [
    "EDIT_df=pd.DataFrame(EDIT_stock['results'])\n",
    "EDIT_df"
   ]
  },
  {
   "cell_type": "code",
   "execution_count": 7,
   "id": "9df9d1d2-0264-4f9f-a7db-5e4b1a6499c8",
   "metadata": {},
   "outputs": [
    {
     "data": {
      "text/plain": [
       "457"
      ]
     },
     "execution_count": 7,
     "metadata": {},
     "output_type": "execute_result"
    }
   ],
   "source": [
    "len(EDIT_stock[\"results\"])"
   ]
  },
  {
   "cell_type": "code",
   "execution_count": 8,
   "id": "16144afa-3be4-40e0-bab2-3a07fba16460",
   "metadata": {},
   "outputs": [
    {
     "data": {
      "text/plain": [
       "{'v': 1757514.0,\n",
       " 'vw': 17.924,\n",
       " 'o': 19.01,\n",
       " 'c': 17.76,\n",
       " 'h': 19.18,\n",
       " 'l': 16.94,\n",
       " 't': 1583985600000,\n",
       " 'n': 16829}"
      ]
     },
     "execution_count": 8,
     "metadata": {},
     "output_type": "execute_result"
    }
   ],
   "source": [
    "EDIT_data=EDIT_stock[\"results\"]\n",
    "EDIT_data[0]"
   ]
  },
  {
   "cell_type": "code",
   "execution_count": 9,
   "id": "b67f53ab-52b5-4d32-b381-95be608ed223",
   "metadata": {},
   "outputs": [
    {
     "data": {
      "text/html": [
       "<div>\n",
       "<style scoped>\n",
       "    .dataframe tbody tr th:only-of-type {\n",
       "        vertical-align: middle;\n",
       "    }\n",
       "\n",
       "    .dataframe tbody tr th {\n",
       "        vertical-align: top;\n",
       "    }\n",
       "\n",
       "    .dataframe thead th {\n",
       "        text-align: right;\n",
       "    }\n",
       "</style>\n",
       "<table border=\"1\" class=\"dataframe\">\n",
       "  <thead>\n",
       "    <tr style=\"text-align: right;\">\n",
       "      <th></th>\n",
       "      <th>v</th>\n",
       "      <th>vw</th>\n",
       "      <th>o</th>\n",
       "      <th>c</th>\n",
       "      <th>h</th>\n",
       "      <th>l</th>\n",
       "      <th>t</th>\n",
       "      <th>n</th>\n",
       "    </tr>\n",
       "  </thead>\n",
       "  <tbody>\n",
       "    <tr>\n",
       "      <th>0</th>\n",
       "      <td>1757514.0</td>\n",
       "      <td>17.9240</td>\n",
       "      <td>19.01</td>\n",
       "      <td>17.76</td>\n",
       "      <td>19.1800</td>\n",
       "      <td>16.94</td>\n",
       "      <td>1583985600000</td>\n",
       "      <td>16829</td>\n",
       "    </tr>\n",
       "    <tr>\n",
       "      <th>1</th>\n",
       "      <td>1615553.0</td>\n",
       "      <td>18.3653</td>\n",
       "      <td>19.43</td>\n",
       "      <td>19.35</td>\n",
       "      <td>19.4600</td>\n",
       "      <td>16.76</td>\n",
       "      <td>1584072000000</td>\n",
       "      <td>13948</td>\n",
       "    </tr>\n",
       "    <tr>\n",
       "      <th>2</th>\n",
       "      <td>1518511.0</td>\n",
       "      <td>15.6711</td>\n",
       "      <td>14.83</td>\n",
       "      <td>14.88</td>\n",
       "      <td>17.0500</td>\n",
       "      <td>14.01</td>\n",
       "      <td>1584331200000</td>\n",
       "      <td>14630</td>\n",
       "    </tr>\n",
       "    <tr>\n",
       "      <th>3</th>\n",
       "      <td>1642534.0</td>\n",
       "      <td>15.8749</td>\n",
       "      <td>15.49</td>\n",
       "      <td>16.78</td>\n",
       "      <td>17.2262</td>\n",
       "      <td>14.10</td>\n",
       "      <td>1584417600000</td>\n",
       "      <td>13835</td>\n",
       "    </tr>\n",
       "    <tr>\n",
       "      <th>4</th>\n",
       "      <td>1918046.0</td>\n",
       "      <td>17.8133</td>\n",
       "      <td>16.06</td>\n",
       "      <td>18.29</td>\n",
       "      <td>18.8227</td>\n",
       "      <td>15.37</td>\n",
       "      <td>1584504000000</td>\n",
       "      <td>17126</td>\n",
       "    </tr>\n",
       "  </tbody>\n",
       "</table>\n",
       "</div>"
      ],
      "text/plain": [
       "           v       vw      o      c        h      l              t      n\n",
       "0  1757514.0  17.9240  19.01  17.76  19.1800  16.94  1583985600000  16829\n",
       "1  1615553.0  18.3653  19.43  19.35  19.4600  16.76  1584072000000  13948\n",
       "2  1518511.0  15.6711  14.83  14.88  17.0500  14.01  1584331200000  14630\n",
       "3  1642534.0  15.8749  15.49  16.78  17.2262  14.10  1584417600000  13835\n",
       "4  1918046.0  17.8133  16.06  18.29  18.8227  15.37  1584504000000  17126"
      ]
     },
     "execution_count": 9,
     "metadata": {},
     "output_type": "execute_result"
    }
   ],
   "source": [
    "EDIT_df=pd.DataFrame(EDIT_data)\n",
    "EDIT_df.head()"
   ]
  },
  {
   "cell_type": "code",
   "execution_count": 10,
   "id": "7d7911d2-a3ea-4750-a2d3-80e08686010e",
   "metadata": {},
   "outputs": [],
   "source": [
    "titles={'v':'trading volume', 'vw':'volume weighted average price', 'o':'open', 'c':'close', 'h':'highest', 'l':'lowest', 't':'Unix Msec timestamp', 'n':'number of transactions'}"
   ]
  },
  {
   "cell_type": "code",
   "execution_count": 11,
   "id": "66ed2e2b-3082-4f58-b389-d4b75afe28cc",
   "metadata": {},
   "outputs": [],
   "source": [
    "EDIT_df=EDIT_df.rename(columns=titles)"
   ]
  },
  {
   "cell_type": "code",
   "execution_count": 12,
   "id": "f4287601-41b0-4e53-8af5-95c4ace57bcd",
   "metadata": {},
   "outputs": [
    {
     "data": {
      "text/html": [
       "<div>\n",
       "<style scoped>\n",
       "    .dataframe tbody tr th:only-of-type {\n",
       "        vertical-align: middle;\n",
       "    }\n",
       "\n",
       "    .dataframe tbody tr th {\n",
       "        vertical-align: top;\n",
       "    }\n",
       "\n",
       "    .dataframe thead th {\n",
       "        text-align: right;\n",
       "    }\n",
       "</style>\n",
       "<table border=\"1\" class=\"dataframe\">\n",
       "  <thead>\n",
       "    <tr style=\"text-align: right;\">\n",
       "      <th></th>\n",
       "      <th>trading volume</th>\n",
       "      <th>volume weighted average price</th>\n",
       "      <th>open</th>\n",
       "      <th>close</th>\n",
       "      <th>highest</th>\n",
       "      <th>lowest</th>\n",
       "      <th>Unix Msec timestamp</th>\n",
       "      <th>number of transactions</th>\n",
       "    </tr>\n",
       "  </thead>\n",
       "  <tbody>\n",
       "    <tr>\n",
       "      <th>0</th>\n",
       "      <td>1757514.0</td>\n",
       "      <td>17.9240</td>\n",
       "      <td>19.01</td>\n",
       "      <td>17.76</td>\n",
       "      <td>19.1800</td>\n",
       "      <td>16.94</td>\n",
       "      <td>1583985600000</td>\n",
       "      <td>16829</td>\n",
       "    </tr>\n",
       "    <tr>\n",
       "      <th>1</th>\n",
       "      <td>1615553.0</td>\n",
       "      <td>18.3653</td>\n",
       "      <td>19.43</td>\n",
       "      <td>19.35</td>\n",
       "      <td>19.4600</td>\n",
       "      <td>16.76</td>\n",
       "      <td>1584072000000</td>\n",
       "      <td>13948</td>\n",
       "    </tr>\n",
       "    <tr>\n",
       "      <th>2</th>\n",
       "      <td>1518511.0</td>\n",
       "      <td>15.6711</td>\n",
       "      <td>14.83</td>\n",
       "      <td>14.88</td>\n",
       "      <td>17.0500</td>\n",
       "      <td>14.01</td>\n",
       "      <td>1584331200000</td>\n",
       "      <td>14630</td>\n",
       "    </tr>\n",
       "    <tr>\n",
       "      <th>3</th>\n",
       "      <td>1642534.0</td>\n",
       "      <td>15.8749</td>\n",
       "      <td>15.49</td>\n",
       "      <td>16.78</td>\n",
       "      <td>17.2262</td>\n",
       "      <td>14.10</td>\n",
       "      <td>1584417600000</td>\n",
       "      <td>13835</td>\n",
       "    </tr>\n",
       "    <tr>\n",
       "      <th>4</th>\n",
       "      <td>1918046.0</td>\n",
       "      <td>17.8133</td>\n",
       "      <td>16.06</td>\n",
       "      <td>18.29</td>\n",
       "      <td>18.8227</td>\n",
       "      <td>15.37</td>\n",
       "      <td>1584504000000</td>\n",
       "      <td>17126</td>\n",
       "    </tr>\n",
       "  </tbody>\n",
       "</table>\n",
       "</div>"
      ],
      "text/plain": [
       "   trading volume  volume weighted average price   open  close  highest  \\\n",
       "0       1757514.0                        17.9240  19.01  17.76  19.1800   \n",
       "1       1615553.0                        18.3653  19.43  19.35  19.4600   \n",
       "2       1518511.0                        15.6711  14.83  14.88  17.0500   \n",
       "3       1642534.0                        15.8749  15.49  16.78  17.2262   \n",
       "4       1918046.0                        17.8133  16.06  18.29  18.8227   \n",
       "\n",
       "   lowest  Unix Msec timestamp  number of transactions  \n",
       "0   16.94        1583985600000                   16829  \n",
       "1   16.76        1584072000000                   13948  \n",
       "2   14.01        1584331200000                   14630  \n",
       "3   14.10        1584417600000                   13835  \n",
       "4   15.37        1584504000000                   17126  "
      ]
     },
     "execution_count": 12,
     "metadata": {},
     "output_type": "execute_result"
    }
   ],
   "source": [
    "EDIT_df.head()"
   ]
  },
  {
   "cell_type": "code",
   "execution_count": 13,
   "id": "08b86467-75e1-4292-9816-7d5f039101b0",
   "metadata": {},
   "outputs": [
    {
     "data": {
      "text/plain": [
       "trading volume                   float64\n",
       "volume weighted average price    float64\n",
       "open                             float64\n",
       "close                            float64\n",
       "highest                          float64\n",
       "lowest                           float64\n",
       "Unix Msec timestamp                int64\n",
       "number of transactions             int64\n",
       "dtype: object"
      ]
     },
     "execution_count": 13,
     "metadata": {},
     "output_type": "execute_result"
    }
   ],
   "source": [
    "EDIT_df.dtypes"
   ]
  },
  {
   "cell_type": "code",
   "execution_count": 14,
   "id": "ff526450-5f84-4f89-813b-de96c01f05f0",
   "metadata": {},
   "outputs": [],
   "source": [
    "# Change Unix timestemp to date \n",
    "from datetime import datetime\n",
    "# test use: unix_timestamp = datetime.now().timestamp()"
   ]
  },
  {
   "cell_type": "code",
   "execution_count": 15,
   "id": "94cabd4e-36a0-4fcc-b856-ac5016c917c6",
   "metadata": {},
   "outputs": [
    {
     "data": {
      "text/plain": [
       "0      1.583986e+09\n",
       "1      1.584072e+09\n",
       "2      1.584331e+09\n",
       "3      1.584418e+09\n",
       "4      1.584504e+09\n",
       "           ...     \n",
       "452    1.640581e+09\n",
       "453    1.640668e+09\n",
       "454    1.640754e+09\n",
       "455    1.640840e+09\n",
       "456    1.640927e+09\n",
       "Name: Unix Msec timestamp, Length: 457, dtype: float64"
      ]
     },
     "execution_count": 15,
     "metadata": {},
     "output_type": "execute_result"
    }
   ],
   "source": [
    "# Getting date and time in local time\n",
    "# Convert mSec to S\n",
    "timestamp=EDIT_df['Unix Msec timestamp']/1000\n",
    "timestamp"
   ]
  },
  {
   "cell_type": "code",
   "execution_count": 16,
   "id": "fa6e9ab6-2b5f-4d64-86ac-68e32f5b9b5b",
   "metadata": {},
   "outputs": [
    {
     "data": {
      "text/plain": [
       "datetime.datetime(2020, 8, 30, 20, 53, 20)"
      ]
     },
     "execution_count": 16,
     "metadata": {},
     "output_type": "execute_result"
    }
   ],
   "source": [
    "datetime.fromtimestamp(1.598846e+09)"
   ]
  },
  {
   "cell_type": "code",
   "execution_count": 17,
   "id": "6524daa3-0875-4125-a2dc-6c74016bdec3",
   "metadata": {},
   "outputs": [
    {
     "name": "stdout",
     "output_type": "stream",
     "text": [
      "2020-03-11\n"
     ]
    }
   ],
   "source": [
    "test=datetime.fromtimestamp(int(timestamp[0]))\n",
    "test_format=test.strftime(\"%Y-%m-%d\")\n",
    "print(test_format)"
   ]
  },
  {
   "cell_type": "code",
   "execution_count": null,
   "id": "af2719c9-bdd6-4add-a516-75d575c8880f",
   "metadata": {},
   "outputs": [],
   "source": [
    "date=[]\n",
    "\n",
    "for i in timestamp:\n",
    "    time=datetime.fromtimestamp(int(i)).strftime(\"%Y-%m-%d\")\n",
    "    date.append(time)\n",
    "    next\n",
    "    \n",
    "print(date)"
   ]
  },
  {
   "cell_type": "code",
   "execution_count": 28,
   "id": "14b7b0f1-4edb-43dd-97d0-1e37e6c5162a",
   "metadata": {},
   "outputs": [
    {
     "data": {
      "text/html": [
       "<div>\n",
       "<style scoped>\n",
       "    .dataframe tbody tr th:only-of-type {\n",
       "        vertical-align: middle;\n",
       "    }\n",
       "\n",
       "    .dataframe tbody tr th {\n",
       "        vertical-align: top;\n",
       "    }\n",
       "\n",
       "    .dataframe thead th {\n",
       "        text-align: right;\n",
       "    }\n",
       "</style>\n",
       "<table border=\"1\" class=\"dataframe\">\n",
       "  <thead>\n",
       "    <tr style=\"text-align: right;\">\n",
       "      <th></th>\n",
       "      <th>trading volume</th>\n",
       "      <th>volume weighted average price</th>\n",
       "      <th>open</th>\n",
       "      <th>close</th>\n",
       "      <th>highest</th>\n",
       "      <th>lowest</th>\n",
       "      <th>number of transactions</th>\n",
       "      <th>Date</th>\n",
       "    </tr>\n",
       "  </thead>\n",
       "  <tbody>\n",
       "    <tr>\n",
       "      <th>0</th>\n",
       "      <td>1757514.0</td>\n",
       "      <td>17.9240</td>\n",
       "      <td>19.01</td>\n",
       "      <td>17.76</td>\n",
       "      <td>19.1800</td>\n",
       "      <td>16.94</td>\n",
       "      <td>16829</td>\n",
       "      <td>2020-03-11</td>\n",
       "    </tr>\n",
       "    <tr>\n",
       "      <th>1</th>\n",
       "      <td>1615553.0</td>\n",
       "      <td>18.3653</td>\n",
       "      <td>19.43</td>\n",
       "      <td>19.35</td>\n",
       "      <td>19.4600</td>\n",
       "      <td>16.76</td>\n",
       "      <td>13948</td>\n",
       "      <td>2020-03-12</td>\n",
       "    </tr>\n",
       "    <tr>\n",
       "      <th>2</th>\n",
       "      <td>1518511.0</td>\n",
       "      <td>15.6711</td>\n",
       "      <td>14.83</td>\n",
       "      <td>14.88</td>\n",
       "      <td>17.0500</td>\n",
       "      <td>14.01</td>\n",
       "      <td>14630</td>\n",
       "      <td>2020-03-15</td>\n",
       "    </tr>\n",
       "    <tr>\n",
       "      <th>3</th>\n",
       "      <td>1642534.0</td>\n",
       "      <td>15.8749</td>\n",
       "      <td>15.49</td>\n",
       "      <td>16.78</td>\n",
       "      <td>17.2262</td>\n",
       "      <td>14.10</td>\n",
       "      <td>13835</td>\n",
       "      <td>2020-03-16</td>\n",
       "    </tr>\n",
       "    <tr>\n",
       "      <th>4</th>\n",
       "      <td>1918046.0</td>\n",
       "      <td>17.8133</td>\n",
       "      <td>16.06</td>\n",
       "      <td>18.29</td>\n",
       "      <td>18.8227</td>\n",
       "      <td>15.37</td>\n",
       "      <td>17126</td>\n",
       "      <td>2020-03-17</td>\n",
       "    </tr>\n",
       "    <tr>\n",
       "      <th>...</th>\n",
       "      <td>...</td>\n",
       "      <td>...</td>\n",
       "      <td>...</td>\n",
       "      <td>...</td>\n",
       "      <td>...</td>\n",
       "      <td>...</td>\n",
       "      <td>...</td>\n",
       "      <td>...</td>\n",
       "    </tr>\n",
       "    <tr>\n",
       "      <th>452</th>\n",
       "      <td>1411309.0</td>\n",
       "      <td>28.3336</td>\n",
       "      <td>29.85</td>\n",
       "      <td>28.15</td>\n",
       "      <td>29.8500</td>\n",
       "      <td>27.84</td>\n",
       "      <td>14601</td>\n",
       "      <td>2021-12-26</td>\n",
       "    </tr>\n",
       "    <tr>\n",
       "      <th>453</th>\n",
       "      <td>1251507.0</td>\n",
       "      <td>28.1929</td>\n",
       "      <td>27.94</td>\n",
       "      <td>27.90</td>\n",
       "      <td>29.2100</td>\n",
       "      <td>27.70</td>\n",
       "      <td>14581</td>\n",
       "      <td>2021-12-27</td>\n",
       "    </tr>\n",
       "    <tr>\n",
       "      <th>454</th>\n",
       "      <td>1436212.0</td>\n",
       "      <td>27.1724</td>\n",
       "      <td>27.73</td>\n",
       "      <td>27.08</td>\n",
       "      <td>27.9700</td>\n",
       "      <td>26.69</td>\n",
       "      <td>15410</td>\n",
       "      <td>2021-12-28</td>\n",
       "    </tr>\n",
       "    <tr>\n",
       "      <th>455</th>\n",
       "      <td>1215296.0</td>\n",
       "      <td>28.0688</td>\n",
       "      <td>27.05</td>\n",
       "      <td>27.79</td>\n",
       "      <td>28.7900</td>\n",
       "      <td>26.90</td>\n",
       "      <td>14532</td>\n",
       "      <td>2021-12-29</td>\n",
       "    </tr>\n",
       "    <tr>\n",
       "      <th>456</th>\n",
       "      <td>1144202.0</td>\n",
       "      <td>27.1498</td>\n",
       "      <td>27.71</td>\n",
       "      <td>26.55</td>\n",
       "      <td>28.7400</td>\n",
       "      <td>26.51</td>\n",
       "      <td>13493</td>\n",
       "      <td>2021-12-30</td>\n",
       "    </tr>\n",
       "  </tbody>\n",
       "</table>\n",
       "<p>457 rows × 8 columns</p>\n",
       "</div>"
      ],
      "text/plain": [
       "     trading volume  volume weighted average price   open  close  highest  \\\n",
       "0         1757514.0                        17.9240  19.01  17.76  19.1800   \n",
       "1         1615553.0                        18.3653  19.43  19.35  19.4600   \n",
       "2         1518511.0                        15.6711  14.83  14.88  17.0500   \n",
       "3         1642534.0                        15.8749  15.49  16.78  17.2262   \n",
       "4         1918046.0                        17.8133  16.06  18.29  18.8227   \n",
       "..              ...                            ...    ...    ...      ...   \n",
       "452       1411309.0                        28.3336  29.85  28.15  29.8500   \n",
       "453       1251507.0                        28.1929  27.94  27.90  29.2100   \n",
       "454       1436212.0                        27.1724  27.73  27.08  27.9700   \n",
       "455       1215296.0                        28.0688  27.05  27.79  28.7900   \n",
       "456       1144202.0                        27.1498  27.71  26.55  28.7400   \n",
       "\n",
       "     lowest  number of transactions        Date  \n",
       "0     16.94                   16829  2020-03-11  \n",
       "1     16.76                   13948  2020-03-12  \n",
       "2     14.01                   14630  2020-03-15  \n",
       "3     14.10                   13835  2020-03-16  \n",
       "4     15.37                   17126  2020-03-17  \n",
       "..      ...                     ...         ...  \n",
       "452   27.84                   14601  2021-12-26  \n",
       "453   27.70                   14581  2021-12-27  \n",
       "454   26.69                   15410  2021-12-28  \n",
       "455   26.90                   14532  2021-12-29  \n",
       "456   26.51                   13493  2021-12-30  \n",
       "\n",
       "[457 rows x 8 columns]"
      ]
     },
     "execution_count": 28,
     "metadata": {},
     "output_type": "execute_result"
    }
   ],
   "source": [
    "EDIT_df['Date']=date\n",
    "EDIT_df.drop(columns='Unix Msec timestamp')"
   ]
  },
  {
   "cell_type": "code",
   "execution_count": 29,
   "id": "8a362a57-adde-40b2-b0ea-aad68cc8fa20",
   "metadata": {},
   "outputs": [
    {
     "data": {
      "text/plain": [
       "trading volume                   0\n",
       "volume weighted average price    0\n",
       "open                             0\n",
       "close                            0\n",
       "highest                          0\n",
       "lowest                           0\n",
       "Unix Msec timestamp              0\n",
       "number of transactions           0\n",
       "Date                             0\n",
       "dtype: int64"
      ]
     },
     "execution_count": 29,
     "metadata": {},
     "output_type": "execute_result"
    }
   ],
   "source": [
    "EDIT_df.isnull().sum()"
   ]
  },
  {
   "cell_type": "code",
   "execution_count": null,
   "id": "acc0cc66-e7ec-4a0c-8417-b6a42695fa47",
   "metadata": {},
   "outputs": [],
   "source": []
  }
 ],
 "metadata": {
  "kernelspec": {
   "display_name": "PythonData",
   "language": "python",
   "name": "pythondata"
  },
  "language_info": {
   "codemirror_mode": {
    "name": "ipython",
    "version": 3
   },
   "file_extension": ".py",
   "mimetype": "text/x-python",
   "name": "python",
   "nbconvert_exporter": "python",
   "pygments_lexer": "ipython3",
   "version": "3.7.11"
  }
 },
 "nbformat": 4,
 "nbformat_minor": 5
}
