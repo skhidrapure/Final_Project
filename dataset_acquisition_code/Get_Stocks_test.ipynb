{
 "cells": [
  {
   "cell_type": "code",
   "execution_count": 1,
   "id": "e25a69ef-b9f1-4275-9e20-4f0245011af4",
   "metadata": {},
   "outputs": [],
   "source": [
    "# Import the requests library.\n",
    "import requests\n",
    "import pandas as pd"
   ]
  },
  {
   "cell_type": "code",
   "execution_count": 2,
   "id": "d6c42b1d-9eda-4415-97c7-09b69ab49dc5",
   "metadata": {},
   "outputs": [],
   "source": [
    "# Import the API key.\n",
    "from config import polygon_api_key"
   ]
  },
  {
   "cell_type": "code",
   "execution_count": 3,
   "id": "4fbfc64f-f31d-4092-ac1e-21376376ff42",
   "metadata": {},
   "outputs": [],
   "source": [
    "# Test the stock data acquisition \n",
    "tickers='NVAX'"
   ]
  },
  {
   "cell_type": "code",
   "execution_count": 4,
   "id": "8a02d595-8d6e-423a-8667-eab79fafa44f",
   "metadata": {},
   "outputs": [
    {
     "name": "stdout",
     "output_type": "stream",
     "text": [
      "https://api.polygon.io/v2/aggs/ticker/NVAX/range/1/day/2020-03-12/2021-12-31?adjusted=true&sort=asc&limit=730&apiKey=3KpZPDXRUCksP8Xb5AJKkXI02s8x5VXx\n"
     ]
    }
   ],
   "source": [
    "# Starting URL for Polygon API Call - from 2020-03-12 to 2021-12-31\n",
    "url = \"https://api.polygon.io/v2/aggs/ticker/\" + tickers + \"/range/1/day/2020-03-12/2021-12-31?adjusted=true&sort=asc&limit=730&apiKey=\" + polygon_api_key\n",
    "print(url)"
   ]
  },
  {
   "cell_type": "code",
   "execution_count": 5,
   "id": "5a264359-e519-49bb-a360-7f4893ddf9d3",
   "metadata": {},
   "outputs": [],
   "source": [
    "NVAX_stock = requests.get(url)"
   ]
  },
  {
   "cell_type": "code",
   "execution_count": 6,
   "id": "88409004-0db7-418a-afb6-d038850a5df5",
   "metadata": {},
   "outputs": [],
   "source": [
    "NVAX_stock = NVAX_stock.json()"
   ]
  },
  {
   "cell_type": "code",
   "execution_count": 7,
   "id": "d8d39678-08b3-4f26-8275-aad51dc43dab",
   "metadata": {},
   "outputs": [
    {
     "data": {
      "text/html": [
       "<div>\n",
       "<style scoped>\n",
       "    .dataframe tbody tr th:only-of-type {\n",
       "        vertical-align: middle;\n",
       "    }\n",
       "\n",
       "    .dataframe tbody tr th {\n",
       "        vertical-align: top;\n",
       "    }\n",
       "\n",
       "    .dataframe thead th {\n",
       "        text-align: right;\n",
       "    }\n",
       "</style>\n",
       "<table border=\"1\" class=\"dataframe\">\n",
       "  <thead>\n",
       "    <tr style=\"text-align: right;\">\n",
       "      <th></th>\n",
       "      <th>v</th>\n",
       "      <th>vw</th>\n",
       "      <th>o</th>\n",
       "      <th>c</th>\n",
       "      <th>h</th>\n",
       "      <th>l</th>\n",
       "      <th>t</th>\n",
       "      <th>n</th>\n",
       "    </tr>\n",
       "  </thead>\n",
       "  <tbody>\n",
       "    <tr>\n",
       "      <th>0</th>\n",
       "      <td>5488378.0</td>\n",
       "      <td>9.6803</td>\n",
       "      <td>9.510</td>\n",
       "      <td>9.29</td>\n",
       "      <td>10.47</td>\n",
       "      <td>9.15</td>\n",
       "      <td>1583985600000</td>\n",
       "      <td>29246</td>\n",
       "    </tr>\n",
       "    <tr>\n",
       "      <th>1</th>\n",
       "      <td>6115375.0</td>\n",
       "      <td>8.3492</td>\n",
       "      <td>9.500</td>\n",
       "      <td>8.41</td>\n",
       "      <td>9.73</td>\n",
       "      <td>7.52</td>\n",
       "      <td>1584072000000</td>\n",
       "      <td>29065</td>\n",
       "    </tr>\n",
       "    <tr>\n",
       "      <th>2</th>\n",
       "      <td>4779370.0</td>\n",
       "      <td>7.3645</td>\n",
       "      <td>7.770</td>\n",
       "      <td>6.91</td>\n",
       "      <td>8.14</td>\n",
       "      <td>6.77</td>\n",
       "      <td>1584331200000</td>\n",
       "      <td>26430</td>\n",
       "    </tr>\n",
       "    <tr>\n",
       "      <th>3</th>\n",
       "      <td>11623967.0</td>\n",
       "      <td>9.0007</td>\n",
       "      <td>8.000</td>\n",
       "      <td>9.50</td>\n",
       "      <td>10.19</td>\n",
       "      <td>7.85</td>\n",
       "      <td>1584417600000</td>\n",
       "      <td>51842</td>\n",
       "    </tr>\n",
       "    <tr>\n",
       "      <th>4</th>\n",
       "      <td>11034050.0</td>\n",
       "      <td>10.6100</td>\n",
       "      <td>8.850</td>\n",
       "      <td>10.65</td>\n",
       "      <td>11.48</td>\n",
       "      <td>8.80</td>\n",
       "      <td>1584504000000</td>\n",
       "      <td>51365</td>\n",
       "    </tr>\n",
       "    <tr>\n",
       "      <th>...</th>\n",
       "      <td>...</td>\n",
       "      <td>...</td>\n",
       "      <td>...</td>\n",
       "      <td>...</td>\n",
       "      <td>...</td>\n",
       "      <td>...</td>\n",
       "      <td>...</td>\n",
       "      <td>...</td>\n",
       "    </tr>\n",
       "    <tr>\n",
       "      <th>452</th>\n",
       "      <td>8934203.0</td>\n",
       "      <td>160.0433</td>\n",
       "      <td>168.555</td>\n",
       "      <td>157.80</td>\n",
       "      <td>169.39</td>\n",
       "      <td>155.11</td>\n",
       "      <td>1640581200000</td>\n",
       "      <td>159765</td>\n",
       "    </tr>\n",
       "    <tr>\n",
       "      <th>453</th>\n",
       "      <td>12384643.0</td>\n",
       "      <td>162.9178</td>\n",
       "      <td>153.160</td>\n",
       "      <td>155.84</td>\n",
       "      <td>175.99</td>\n",
       "      <td>153.10</td>\n",
       "      <td>1640667600000</td>\n",
       "      <td>185409</td>\n",
       "    </tr>\n",
       "    <tr>\n",
       "      <th>454</th>\n",
       "      <td>7511780.0</td>\n",
       "      <td>150.6786</td>\n",
       "      <td>153.280</td>\n",
       "      <td>153.25</td>\n",
       "      <td>155.28</td>\n",
       "      <td>144.56</td>\n",
       "      <td>1640754000000</td>\n",
       "      <td>111874</td>\n",
       "    </tr>\n",
       "    <tr>\n",
       "      <th>455</th>\n",
       "      <td>5093321.0</td>\n",
       "      <td>154.1007</td>\n",
       "      <td>152.780</td>\n",
       "      <td>154.83</td>\n",
       "      <td>159.00</td>\n",
       "      <td>148.86</td>\n",
       "      <td>1640840400000</td>\n",
       "      <td>82034</td>\n",
       "    </tr>\n",
       "    <tr>\n",
       "      <th>456</th>\n",
       "      <td>9096268.0</td>\n",
       "      <td>147.5569</td>\n",
       "      <td>151.470</td>\n",
       "      <td>143.07</td>\n",
       "      <td>156.81</td>\n",
       "      <td>141.51</td>\n",
       "      <td>1640926800000</td>\n",
       "      <td>136453</td>\n",
       "    </tr>\n",
       "  </tbody>\n",
       "</table>\n",
       "<p>457 rows × 8 columns</p>\n",
       "</div>"
      ],
      "text/plain": [
       "              v        vw        o       c       h       l              t  \\\n",
       "0     5488378.0    9.6803    9.510    9.29   10.47    9.15  1583985600000   \n",
       "1     6115375.0    8.3492    9.500    8.41    9.73    7.52  1584072000000   \n",
       "2     4779370.0    7.3645    7.770    6.91    8.14    6.77  1584331200000   \n",
       "3    11623967.0    9.0007    8.000    9.50   10.19    7.85  1584417600000   \n",
       "4    11034050.0   10.6100    8.850   10.65   11.48    8.80  1584504000000   \n",
       "..          ...       ...      ...     ...     ...     ...            ...   \n",
       "452   8934203.0  160.0433  168.555  157.80  169.39  155.11  1640581200000   \n",
       "453  12384643.0  162.9178  153.160  155.84  175.99  153.10  1640667600000   \n",
       "454   7511780.0  150.6786  153.280  153.25  155.28  144.56  1640754000000   \n",
       "455   5093321.0  154.1007  152.780  154.83  159.00  148.86  1640840400000   \n",
       "456   9096268.0  147.5569  151.470  143.07  156.81  141.51  1640926800000   \n",
       "\n",
       "          n  \n",
       "0     29246  \n",
       "1     29065  \n",
       "2     26430  \n",
       "3     51842  \n",
       "4     51365  \n",
       "..      ...  \n",
       "452  159765  \n",
       "453  185409  \n",
       "454  111874  \n",
       "455   82034  \n",
       "456  136453  \n",
       "\n",
       "[457 rows x 8 columns]"
      ]
     },
     "execution_count": 7,
     "metadata": {},
     "output_type": "execute_result"
    }
   ],
   "source": [
    "NVAX_df=pd.DataFrame(NVAX_stock['results'])\n",
    "NVAX_df"
   ]
  },
  {
   "cell_type": "code",
   "execution_count": 8,
   "id": "9df9d1d2-0264-4f9f-a7db-5e4b1a6499c8",
   "metadata": {},
   "outputs": [
    {
     "data": {
      "text/plain": [
       "457"
      ]
     },
     "execution_count": 8,
     "metadata": {},
     "output_type": "execute_result"
    }
   ],
   "source": [
    "len(NVAX_stock[\"results\"])"
   ]
  },
  {
   "cell_type": "code",
   "execution_count": 9,
   "id": "16144afa-3be4-40e0-bab2-3a07fba16460",
   "metadata": {},
   "outputs": [
    {
     "data": {
      "text/plain": [
       "{'v': 5488378.0,\n",
       " 'vw': 9.6803,\n",
       " 'o': 9.51,\n",
       " 'c': 9.29,\n",
       " 'h': 10.47,\n",
       " 'l': 9.15,\n",
       " 't': 1583985600000,\n",
       " 'n': 29246}"
      ]
     },
     "execution_count": 9,
     "metadata": {},
     "output_type": "execute_result"
    }
   ],
   "source": [
    "NVAX_data=NVAX_stock[\"results\"]\n",
    "NVAX_data[0]"
   ]
  },
  {
   "cell_type": "code",
   "execution_count": 10,
   "id": "b67f53ab-52b5-4d32-b381-95be608ed223",
   "metadata": {},
   "outputs": [
    {
     "data": {
      "text/html": [
       "<div>\n",
       "<style scoped>\n",
       "    .dataframe tbody tr th:only-of-type {\n",
       "        vertical-align: middle;\n",
       "    }\n",
       "\n",
       "    .dataframe tbody tr th {\n",
       "        vertical-align: top;\n",
       "    }\n",
       "\n",
       "    .dataframe thead th {\n",
       "        text-align: right;\n",
       "    }\n",
       "</style>\n",
       "<table border=\"1\" class=\"dataframe\">\n",
       "  <thead>\n",
       "    <tr style=\"text-align: right;\">\n",
       "      <th></th>\n",
       "      <th>v</th>\n",
       "      <th>vw</th>\n",
       "      <th>o</th>\n",
       "      <th>c</th>\n",
       "      <th>h</th>\n",
       "      <th>l</th>\n",
       "      <th>t</th>\n",
       "      <th>n</th>\n",
       "    </tr>\n",
       "  </thead>\n",
       "  <tbody>\n",
       "    <tr>\n",
       "      <th>0</th>\n",
       "      <td>5488378.0</td>\n",
       "      <td>9.6803</td>\n",
       "      <td>9.51</td>\n",
       "      <td>9.29</td>\n",
       "      <td>10.47</td>\n",
       "      <td>9.15</td>\n",
       "      <td>1583985600000</td>\n",
       "      <td>29246</td>\n",
       "    </tr>\n",
       "    <tr>\n",
       "      <th>1</th>\n",
       "      <td>6115375.0</td>\n",
       "      <td>8.3492</td>\n",
       "      <td>9.50</td>\n",
       "      <td>8.41</td>\n",
       "      <td>9.73</td>\n",
       "      <td>7.52</td>\n",
       "      <td>1584072000000</td>\n",
       "      <td>29065</td>\n",
       "    </tr>\n",
       "    <tr>\n",
       "      <th>2</th>\n",
       "      <td>4779370.0</td>\n",
       "      <td>7.3645</td>\n",
       "      <td>7.77</td>\n",
       "      <td>6.91</td>\n",
       "      <td>8.14</td>\n",
       "      <td>6.77</td>\n",
       "      <td>1584331200000</td>\n",
       "      <td>26430</td>\n",
       "    </tr>\n",
       "    <tr>\n",
       "      <th>3</th>\n",
       "      <td>11623967.0</td>\n",
       "      <td>9.0007</td>\n",
       "      <td>8.00</td>\n",
       "      <td>9.50</td>\n",
       "      <td>10.19</td>\n",
       "      <td>7.85</td>\n",
       "      <td>1584417600000</td>\n",
       "      <td>51842</td>\n",
       "    </tr>\n",
       "    <tr>\n",
       "      <th>4</th>\n",
       "      <td>11034050.0</td>\n",
       "      <td>10.6100</td>\n",
       "      <td>8.85</td>\n",
       "      <td>10.65</td>\n",
       "      <td>11.48</td>\n",
       "      <td>8.80</td>\n",
       "      <td>1584504000000</td>\n",
       "      <td>51365</td>\n",
       "    </tr>\n",
       "  </tbody>\n",
       "</table>\n",
       "</div>"
      ],
      "text/plain": [
       "            v       vw     o      c      h     l              t      n\n",
       "0   5488378.0   9.6803  9.51   9.29  10.47  9.15  1583985600000  29246\n",
       "1   6115375.0   8.3492  9.50   8.41   9.73  7.52  1584072000000  29065\n",
       "2   4779370.0   7.3645  7.77   6.91   8.14  6.77  1584331200000  26430\n",
       "3  11623967.0   9.0007  8.00   9.50  10.19  7.85  1584417600000  51842\n",
       "4  11034050.0  10.6100  8.85  10.65  11.48  8.80  1584504000000  51365"
      ]
     },
     "execution_count": 10,
     "metadata": {},
     "output_type": "execute_result"
    }
   ],
   "source": [
    "NVAX_df=pd.DataFrame(NVAX_data)\n",
    "NVAX_df.head()"
   ]
  },
  {
   "cell_type": "markdown",
   "id": "9932d638-ce81-4ed2-81a7-a3be8ad56c9e",
   "metadata": {},
   "source": [
    "## Clean-up dataframe"
   ]
  },
  {
   "cell_type": "code",
   "execution_count": 11,
   "id": "7d7911d2-a3ea-4750-a2d3-80e08686010e",
   "metadata": {},
   "outputs": [],
   "source": [
    "titles={'v':'Trading Volume', 'vw':'Volume Weighted Average Price', 'o':'Open', 'c':'Close', 'h':'High', 'l':'Low', 't':'Unix Msec timestamp', 'n':'Number of Transactions'}"
   ]
  },
  {
   "cell_type": "code",
   "execution_count": 12,
   "id": "66ed2e2b-3082-4f58-b389-d4b75afe28cc",
   "metadata": {},
   "outputs": [],
   "source": [
    "NVAX_df=NVAX_df.rename(columns=titles)"
   ]
  },
  {
   "cell_type": "code",
   "execution_count": 13,
   "id": "f4287601-41b0-4e53-8af5-95c4ace57bcd",
   "metadata": {},
   "outputs": [
    {
     "data": {
      "text/html": [
       "<div>\n",
       "<style scoped>\n",
       "    .dataframe tbody tr th:only-of-type {\n",
       "        vertical-align: middle;\n",
       "    }\n",
       "\n",
       "    .dataframe tbody tr th {\n",
       "        vertical-align: top;\n",
       "    }\n",
       "\n",
       "    .dataframe thead th {\n",
       "        text-align: right;\n",
       "    }\n",
       "</style>\n",
       "<table border=\"1\" class=\"dataframe\">\n",
       "  <thead>\n",
       "    <tr style=\"text-align: right;\">\n",
       "      <th></th>\n",
       "      <th>Trading Volume</th>\n",
       "      <th>Volume Weighted Average Price</th>\n",
       "      <th>Open</th>\n",
       "      <th>Close</th>\n",
       "      <th>High</th>\n",
       "      <th>Low</th>\n",
       "      <th>Unix Msec timestamp</th>\n",
       "      <th>Number of Transactions</th>\n",
       "    </tr>\n",
       "  </thead>\n",
       "  <tbody>\n",
       "    <tr>\n",
       "      <th>0</th>\n",
       "      <td>5488378.0</td>\n",
       "      <td>9.6803</td>\n",
       "      <td>9.51</td>\n",
       "      <td>9.29</td>\n",
       "      <td>10.47</td>\n",
       "      <td>9.15</td>\n",
       "      <td>1583985600000</td>\n",
       "      <td>29246</td>\n",
       "    </tr>\n",
       "    <tr>\n",
       "      <th>1</th>\n",
       "      <td>6115375.0</td>\n",
       "      <td>8.3492</td>\n",
       "      <td>9.50</td>\n",
       "      <td>8.41</td>\n",
       "      <td>9.73</td>\n",
       "      <td>7.52</td>\n",
       "      <td>1584072000000</td>\n",
       "      <td>29065</td>\n",
       "    </tr>\n",
       "    <tr>\n",
       "      <th>2</th>\n",
       "      <td>4779370.0</td>\n",
       "      <td>7.3645</td>\n",
       "      <td>7.77</td>\n",
       "      <td>6.91</td>\n",
       "      <td>8.14</td>\n",
       "      <td>6.77</td>\n",
       "      <td>1584331200000</td>\n",
       "      <td>26430</td>\n",
       "    </tr>\n",
       "    <tr>\n",
       "      <th>3</th>\n",
       "      <td>11623967.0</td>\n",
       "      <td>9.0007</td>\n",
       "      <td>8.00</td>\n",
       "      <td>9.50</td>\n",
       "      <td>10.19</td>\n",
       "      <td>7.85</td>\n",
       "      <td>1584417600000</td>\n",
       "      <td>51842</td>\n",
       "    </tr>\n",
       "    <tr>\n",
       "      <th>4</th>\n",
       "      <td>11034050.0</td>\n",
       "      <td>10.6100</td>\n",
       "      <td>8.85</td>\n",
       "      <td>10.65</td>\n",
       "      <td>11.48</td>\n",
       "      <td>8.80</td>\n",
       "      <td>1584504000000</td>\n",
       "      <td>51365</td>\n",
       "    </tr>\n",
       "  </tbody>\n",
       "</table>\n",
       "</div>"
      ],
      "text/plain": [
       "   Trading Volume  Volume Weighted Average Price  Open  Close   High   Low  \\\n",
       "0       5488378.0                         9.6803  9.51   9.29  10.47  9.15   \n",
       "1       6115375.0                         8.3492  9.50   8.41   9.73  7.52   \n",
       "2       4779370.0                         7.3645  7.77   6.91   8.14  6.77   \n",
       "3      11623967.0                         9.0007  8.00   9.50  10.19  7.85   \n",
       "4      11034050.0                        10.6100  8.85  10.65  11.48  8.80   \n",
       "\n",
       "   Unix Msec timestamp  Number of Transactions  \n",
       "0        1583985600000                   29246  \n",
       "1        1584072000000                   29065  \n",
       "2        1584331200000                   26430  \n",
       "3        1584417600000                   51842  \n",
       "4        1584504000000                   51365  "
      ]
     },
     "execution_count": 13,
     "metadata": {},
     "output_type": "execute_result"
    }
   ],
   "source": [
    "NVAX_df.head()"
   ]
  },
  {
   "cell_type": "code",
   "execution_count": 14,
   "id": "08b86467-75e1-4292-9816-7d5f039101b0",
   "metadata": {},
   "outputs": [
    {
     "data": {
      "text/plain": [
       "Trading Volume                   float64\n",
       "Volume Weighted Average Price    float64\n",
       "Open                             float64\n",
       "Close                            float64\n",
       "High                             float64\n",
       "Low                              float64\n",
       "Unix Msec timestamp                int64\n",
       "Number of Transactions             int64\n",
       "dtype: object"
      ]
     },
     "execution_count": 14,
     "metadata": {},
     "output_type": "execute_result"
    }
   ],
   "source": [
    "NVAX_df.dtypes"
   ]
  },
  {
   "cell_type": "code",
   "execution_count": 15,
   "id": "ff526450-5f84-4f89-813b-de96c01f05f0",
   "metadata": {},
   "outputs": [],
   "source": [
    "# Change Unix timestemp to date \n",
    "from datetime import datetime\n",
    "# test use: unix_timestamp = datetime.now().timestamp()"
   ]
  },
  {
   "cell_type": "code",
   "execution_count": 16,
   "id": "94cabd4e-36a0-4fcc-b856-ac5016c917c6",
   "metadata": {},
   "outputs": [
    {
     "data": {
      "text/plain": [
       "0      1.583986e+09\n",
       "1      1.584072e+09\n",
       "2      1.584331e+09\n",
       "3      1.584418e+09\n",
       "4      1.584504e+09\n",
       "           ...     \n",
       "452    1.640581e+09\n",
       "453    1.640668e+09\n",
       "454    1.640754e+09\n",
       "455    1.640840e+09\n",
       "456    1.640927e+09\n",
       "Name: Unix Msec timestamp, Length: 457, dtype: float64"
      ]
     },
     "execution_count": 16,
     "metadata": {},
     "output_type": "execute_result"
    }
   ],
   "source": [
    "# Getting date and time in local time\n",
    "# Convert mSec to S\n",
    "timestamp=NVAX_df['Unix Msec timestamp']/1000\n",
    "timestamp"
   ]
  },
  {
   "cell_type": "code",
   "execution_count": 17,
   "id": "fa6e9ab6-2b5f-4d64-86ac-68e32f5b9b5b",
   "metadata": {},
   "outputs": [
    {
     "data": {
      "text/plain": [
       "datetime.datetime(2020, 8, 30, 20, 53, 20)"
      ]
     },
     "execution_count": 17,
     "metadata": {},
     "output_type": "execute_result"
    }
   ],
   "source": [
    "datetime.fromtimestamp(1.598846e+09)"
   ]
  },
  {
   "cell_type": "code",
   "execution_count": 18,
   "id": "6524daa3-0875-4125-a2dc-6c74016bdec3",
   "metadata": {},
   "outputs": [
    {
     "name": "stdout",
     "output_type": "stream",
     "text": [
      "2020-03-11\n"
     ]
    }
   ],
   "source": [
    "test=datetime.fromtimestamp(int(timestamp[0]))\n",
    "test_format=test.strftime(\"%Y-%m-%d\")\n",
    "print(test_format)"
   ]
  },
  {
   "cell_type": "code",
   "execution_count": 19,
   "id": "af2719c9-bdd6-4add-a516-75d575c8880f",
   "metadata": {},
   "outputs": [
    {
     "name": "stdout",
     "output_type": "stream",
     "text": [
      "['2020-03-11', '2020-03-12', '2020-03-15', '2020-03-16', '2020-03-17', '2020-03-18', '2020-03-19', '2020-03-22', '2020-03-23', '2020-03-24', '2020-03-25', '2020-03-26', '2020-03-29', '2020-03-30', '2020-03-31', '2020-04-01', '2020-04-02', '2020-04-05', '2020-04-06', '2020-04-07', '2020-04-08', '2020-04-12', '2020-04-13', '2020-04-14', '2020-04-15', '2020-04-16', '2020-04-19', '2020-04-20', '2020-04-21', '2020-04-22', '2020-04-23', '2020-04-26', '2020-04-27', '2020-04-28', '2020-04-29', '2020-04-30', '2020-05-03', '2020-05-04', '2020-05-05', '2020-05-06', '2020-05-07', '2020-05-10', '2020-05-11', '2020-05-12', '2020-05-13', '2020-05-14', '2020-05-17', '2020-05-18', '2020-05-19', '2020-05-20', '2020-05-21', '2020-05-25', '2020-05-26', '2020-05-27', '2020-05-28', '2020-05-31', '2020-06-01', '2020-06-02', '2020-06-03', '2020-06-04', '2020-06-07', '2020-06-08', '2020-06-09', '2020-06-10', '2020-06-11', '2020-06-14', '2020-06-15', '2020-06-16', '2020-06-17', '2020-06-18', '2020-06-21', '2020-06-22', '2020-06-23', '2020-06-24', '2020-06-25', '2020-06-28', '2020-06-29', '2020-06-30', '2020-07-01', '2020-07-05', '2020-07-06', '2020-07-07', '2020-07-08', '2020-07-09', '2020-07-12', '2020-07-13', '2020-07-14', '2020-07-15', '2020-07-16', '2020-07-19', '2020-07-20', '2020-07-21', '2020-07-22', '2020-07-23', '2020-07-26', '2020-07-27', '2020-07-28', '2020-07-29', '2020-07-30', '2020-08-02', '2020-08-03', '2020-08-04', '2020-08-05', '2020-08-06', '2020-08-09', '2020-08-10', '2020-08-11', '2020-08-12', '2020-08-13', '2020-08-16', '2020-08-17', '2020-08-18', '2020-08-19', '2020-08-20', '2020-08-23', '2020-08-24', '2020-08-25', '2020-08-26', '2020-08-27', '2020-08-30', '2020-08-31', '2020-09-01', '2020-09-02', '2020-09-03', '2020-09-07', '2020-09-08', '2020-09-09', '2020-09-10', '2020-09-13', '2020-09-14', '2020-09-15', '2020-09-16', '2020-09-17', '2020-09-20', '2020-09-21', '2020-09-22', '2020-09-23', '2020-09-24', '2020-09-27', '2020-09-28', '2020-09-29', '2020-09-30', '2020-10-01', '2020-10-04', '2020-10-05', '2020-10-06', '2020-10-07', '2020-10-08', '2020-10-11', '2020-10-12', '2020-10-13', '2020-10-14', '2020-10-15', '2020-10-18', '2020-10-19', '2020-10-20', '2020-10-21', '2020-10-22', '2020-10-25', '2020-10-26', '2020-10-27', '2020-10-28', '2020-10-29', '2020-11-01', '2020-11-02', '2020-11-03', '2020-11-04', '2020-11-05', '2020-11-08', '2020-11-09', '2020-11-10', '2020-11-11', '2020-11-12', '2020-11-15', '2020-11-16', '2020-11-17', '2020-11-18', '2020-11-19', '2020-11-22', '2020-11-23', '2020-11-24', '2020-11-26', '2020-11-29', '2020-11-30', '2020-12-01', '2020-12-02', '2020-12-03', '2020-12-06', '2020-12-07', '2020-12-08', '2020-12-09', '2020-12-10', '2020-12-13', '2020-12-14', '2020-12-15', '2020-12-16', '2020-12-17', '2020-12-20', '2020-12-21', '2020-12-22', '2020-12-23', '2020-12-27', '2020-12-28', '2020-12-29', '2020-12-30', '2021-01-03', '2021-01-04', '2021-01-05', '2021-01-06', '2021-01-07', '2021-01-10', '2021-01-11', '2021-01-12', '2021-01-13', '2021-01-14', '2021-01-18', '2021-01-19', '2021-01-20', '2021-01-21', '2021-01-24', '2021-01-25', '2021-01-26', '2021-01-27', '2021-01-28', '2021-01-31', '2021-02-01', '2021-02-02', '2021-02-03', '2021-02-04', '2021-02-07', '2021-02-08', '2021-02-09', '2021-02-10', '2021-02-11', '2021-02-15', '2021-02-16', '2021-02-17', '2021-02-18', '2021-02-21', '2021-02-22', '2021-02-23', '2021-02-24', '2021-02-25', '2021-02-28', '2021-03-01', '2021-03-02', '2021-03-03', '2021-03-04', '2021-03-07', '2021-03-08', '2021-03-09', '2021-03-10', '2021-03-11', '2021-03-14', '2021-03-15', '2021-03-16', '2021-03-17', '2021-03-18', '2021-03-21', '2021-03-22', '2021-03-23', '2021-03-24', '2021-03-25', '2021-03-28', '2021-03-29', '2021-03-30', '2021-03-31', '2021-04-04', '2021-04-05', '2021-04-06', '2021-04-07', '2021-04-08', '2021-04-11', '2021-04-12', '2021-04-13', '2021-04-14', '2021-04-15', '2021-04-18', '2021-04-19', '2021-04-20', '2021-04-21', '2021-04-22', '2021-04-25', '2021-04-26', '2021-04-27', '2021-04-28', '2021-04-29', '2021-05-02', '2021-05-03', '2021-05-04', '2021-05-05', '2021-05-06', '2021-05-09', '2021-05-10', '2021-05-11', '2021-05-12', '2021-05-13', '2021-05-16', '2021-05-17', '2021-05-18', '2021-05-19', '2021-05-20', '2021-05-23', '2021-05-24', '2021-05-25', '2021-05-26', '2021-05-27', '2021-05-31', '2021-06-01', '2021-06-02', '2021-06-03', '2021-06-06', '2021-06-07', '2021-06-08', '2021-06-09', '2021-06-10', '2021-06-13', '2021-06-14', '2021-06-15', '2021-06-16', '2021-06-17', '2021-06-20', '2021-06-21', '2021-06-22', '2021-06-23', '2021-06-24', '2021-06-27', '2021-06-28', '2021-06-29', '2021-06-30', '2021-07-01', '2021-07-05', '2021-07-06', '2021-07-07', '2021-07-08', '2021-07-11', '2021-07-12', '2021-07-13', '2021-07-14', '2021-07-15', '2021-07-18', '2021-07-19', '2021-07-20', '2021-07-21', '2021-07-22', '2021-07-25', '2021-07-26', '2021-07-27', '2021-07-28', '2021-07-29', '2021-08-01', '2021-08-02', '2021-08-03', '2021-08-04', '2021-08-05', '2021-08-08', '2021-08-09', '2021-08-10', '2021-08-11', '2021-08-12', '2021-08-15', '2021-08-16', '2021-08-17', '2021-08-18', '2021-08-19', '2021-08-22', '2021-08-23', '2021-08-24', '2021-08-25', '2021-08-26', '2021-08-29', '2021-08-30', '2021-08-31', '2021-09-01', '2021-09-02', '2021-09-06', '2021-09-07', '2021-09-08', '2021-09-09', '2021-09-12', '2021-09-13', '2021-09-14', '2021-09-15', '2021-09-16', '2021-09-19', '2021-09-20', '2021-09-21', '2021-09-22', '2021-09-23', '2021-09-26', '2021-09-27', '2021-09-28', '2021-09-29', '2021-09-30', '2021-10-03', '2021-10-04', '2021-10-05', '2021-10-06', '2021-10-07', '2021-10-10', '2021-10-11', '2021-10-12', '2021-10-13', '2021-10-14', '2021-10-17', '2021-10-18', '2021-10-19', '2021-10-20', '2021-10-21', '2021-10-24', '2021-10-25', '2021-10-26', '2021-10-27', '2021-10-28', '2021-10-31', '2021-11-01', '2021-11-02', '2021-11-03', '2021-11-04', '2021-11-07', '2021-11-08', '2021-11-09', '2021-11-10', '2021-11-11', '2021-11-14', '2021-11-15', '2021-11-16', '2021-11-17', '2021-11-18', '2021-11-21', '2021-11-22', '2021-11-23', '2021-11-25', '2021-11-28', '2021-11-29', '2021-11-30', '2021-12-01', '2021-12-02', '2021-12-05', '2021-12-06', '2021-12-07', '2021-12-08', '2021-12-09', '2021-12-12', '2021-12-13', '2021-12-14', '2021-12-15', '2021-12-16', '2021-12-19', '2021-12-20', '2021-12-21', '2021-12-22', '2021-12-26', '2021-12-27', '2021-12-28', '2021-12-29', '2021-12-30']\n"
     ]
    }
   ],
   "source": [
    "date=[]\n",
    "\n",
    "for i in timestamp:\n",
    "    time=datetime.fromtimestamp(int(i)).strftime(\"%Y-%m-%d\")\n",
    "    date.append(time)\n",
    "    next\n",
    "    \n",
    "print(date)"
   ]
  },
  {
   "cell_type": "code",
   "execution_count": 20,
   "id": "14b7b0f1-4edb-43dd-97d0-1e37e6c5162a",
   "metadata": {},
   "outputs": [
    {
     "data": {
      "text/html": [
       "<div>\n",
       "<style scoped>\n",
       "    .dataframe tbody tr th:only-of-type {\n",
       "        vertical-align: middle;\n",
       "    }\n",
       "\n",
       "    .dataframe tbody tr th {\n",
       "        vertical-align: top;\n",
       "    }\n",
       "\n",
       "    .dataframe thead th {\n",
       "        text-align: right;\n",
       "    }\n",
       "</style>\n",
       "<table border=\"1\" class=\"dataframe\">\n",
       "  <thead>\n",
       "    <tr style=\"text-align: right;\">\n",
       "      <th></th>\n",
       "      <th>Trading Volume</th>\n",
       "      <th>Volume Weighted Average Price</th>\n",
       "      <th>Open</th>\n",
       "      <th>Close</th>\n",
       "      <th>High</th>\n",
       "      <th>Low</th>\n",
       "      <th>Number of Transactions</th>\n",
       "      <th>Date</th>\n",
       "    </tr>\n",
       "  </thead>\n",
       "  <tbody>\n",
       "    <tr>\n",
       "      <th>0</th>\n",
       "      <td>5488378.0</td>\n",
       "      <td>9.6803</td>\n",
       "      <td>9.510</td>\n",
       "      <td>9.29</td>\n",
       "      <td>10.47</td>\n",
       "      <td>9.15</td>\n",
       "      <td>29246</td>\n",
       "      <td>2020-03-11</td>\n",
       "    </tr>\n",
       "    <tr>\n",
       "      <th>1</th>\n",
       "      <td>6115375.0</td>\n",
       "      <td>8.3492</td>\n",
       "      <td>9.500</td>\n",
       "      <td>8.41</td>\n",
       "      <td>9.73</td>\n",
       "      <td>7.52</td>\n",
       "      <td>29065</td>\n",
       "      <td>2020-03-12</td>\n",
       "    </tr>\n",
       "    <tr>\n",
       "      <th>2</th>\n",
       "      <td>4779370.0</td>\n",
       "      <td>7.3645</td>\n",
       "      <td>7.770</td>\n",
       "      <td>6.91</td>\n",
       "      <td>8.14</td>\n",
       "      <td>6.77</td>\n",
       "      <td>26430</td>\n",
       "      <td>2020-03-15</td>\n",
       "    </tr>\n",
       "    <tr>\n",
       "      <th>3</th>\n",
       "      <td>11623967.0</td>\n",
       "      <td>9.0007</td>\n",
       "      <td>8.000</td>\n",
       "      <td>9.50</td>\n",
       "      <td>10.19</td>\n",
       "      <td>7.85</td>\n",
       "      <td>51842</td>\n",
       "      <td>2020-03-16</td>\n",
       "    </tr>\n",
       "    <tr>\n",
       "      <th>4</th>\n",
       "      <td>11034050.0</td>\n",
       "      <td>10.6100</td>\n",
       "      <td>8.850</td>\n",
       "      <td>10.65</td>\n",
       "      <td>11.48</td>\n",
       "      <td>8.80</td>\n",
       "      <td>51365</td>\n",
       "      <td>2020-03-17</td>\n",
       "    </tr>\n",
       "    <tr>\n",
       "      <th>...</th>\n",
       "      <td>...</td>\n",
       "      <td>...</td>\n",
       "      <td>...</td>\n",
       "      <td>...</td>\n",
       "      <td>...</td>\n",
       "      <td>...</td>\n",
       "      <td>...</td>\n",
       "      <td>...</td>\n",
       "    </tr>\n",
       "    <tr>\n",
       "      <th>452</th>\n",
       "      <td>8934203.0</td>\n",
       "      <td>160.0433</td>\n",
       "      <td>168.555</td>\n",
       "      <td>157.80</td>\n",
       "      <td>169.39</td>\n",
       "      <td>155.11</td>\n",
       "      <td>159765</td>\n",
       "      <td>2021-12-26</td>\n",
       "    </tr>\n",
       "    <tr>\n",
       "      <th>453</th>\n",
       "      <td>12384643.0</td>\n",
       "      <td>162.9178</td>\n",
       "      <td>153.160</td>\n",
       "      <td>155.84</td>\n",
       "      <td>175.99</td>\n",
       "      <td>153.10</td>\n",
       "      <td>185409</td>\n",
       "      <td>2021-12-27</td>\n",
       "    </tr>\n",
       "    <tr>\n",
       "      <th>454</th>\n",
       "      <td>7511780.0</td>\n",
       "      <td>150.6786</td>\n",
       "      <td>153.280</td>\n",
       "      <td>153.25</td>\n",
       "      <td>155.28</td>\n",
       "      <td>144.56</td>\n",
       "      <td>111874</td>\n",
       "      <td>2021-12-28</td>\n",
       "    </tr>\n",
       "    <tr>\n",
       "      <th>455</th>\n",
       "      <td>5093321.0</td>\n",
       "      <td>154.1007</td>\n",
       "      <td>152.780</td>\n",
       "      <td>154.83</td>\n",
       "      <td>159.00</td>\n",
       "      <td>148.86</td>\n",
       "      <td>82034</td>\n",
       "      <td>2021-12-29</td>\n",
       "    </tr>\n",
       "    <tr>\n",
       "      <th>456</th>\n",
       "      <td>9096268.0</td>\n",
       "      <td>147.5569</td>\n",
       "      <td>151.470</td>\n",
       "      <td>143.07</td>\n",
       "      <td>156.81</td>\n",
       "      <td>141.51</td>\n",
       "      <td>136453</td>\n",
       "      <td>2021-12-30</td>\n",
       "    </tr>\n",
       "  </tbody>\n",
       "</table>\n",
       "<p>457 rows × 8 columns</p>\n",
       "</div>"
      ],
      "text/plain": [
       "     Trading Volume  Volume Weighted Average Price     Open   Close    High  \\\n",
       "0         5488378.0                         9.6803    9.510    9.29   10.47   \n",
       "1         6115375.0                         8.3492    9.500    8.41    9.73   \n",
       "2         4779370.0                         7.3645    7.770    6.91    8.14   \n",
       "3        11623967.0                         9.0007    8.000    9.50   10.19   \n",
       "4        11034050.0                        10.6100    8.850   10.65   11.48   \n",
       "..              ...                            ...      ...     ...     ...   \n",
       "452       8934203.0                       160.0433  168.555  157.80  169.39   \n",
       "453      12384643.0                       162.9178  153.160  155.84  175.99   \n",
       "454       7511780.0                       150.6786  153.280  153.25  155.28   \n",
       "455       5093321.0                       154.1007  152.780  154.83  159.00   \n",
       "456       9096268.0                       147.5569  151.470  143.07  156.81   \n",
       "\n",
       "        Low  Number of Transactions        Date  \n",
       "0      9.15                   29246  2020-03-11  \n",
       "1      7.52                   29065  2020-03-12  \n",
       "2      6.77                   26430  2020-03-15  \n",
       "3      7.85                   51842  2020-03-16  \n",
       "4      8.80                   51365  2020-03-17  \n",
       "..      ...                     ...         ...  \n",
       "452  155.11                  159765  2021-12-26  \n",
       "453  153.10                  185409  2021-12-27  \n",
       "454  144.56                  111874  2021-12-28  \n",
       "455  148.86                   82034  2021-12-29  \n",
       "456  141.51                  136453  2021-12-30  \n",
       "\n",
       "[457 rows x 8 columns]"
      ]
     },
     "execution_count": 20,
     "metadata": {},
     "output_type": "execute_result"
    }
   ],
   "source": [
    "NVAX_df['Date']=date\n",
    "NVAX_df.drop(columns='Unix Msec timestamp')"
   ]
  },
  {
   "cell_type": "code",
   "execution_count": 21,
   "id": "8a362a57-adde-40b2-b0ea-aad68cc8fa20",
   "metadata": {},
   "outputs": [
    {
     "data": {
      "text/plain": [
       "Trading Volume                   0\n",
       "Volume Weighted Average Price    0\n",
       "Open                             0\n",
       "Close                            0\n",
       "High                             0\n",
       "Low                              0\n",
       "Unix Msec timestamp              0\n",
       "Number of Transactions           0\n",
       "Date                             0\n",
       "dtype: int64"
      ]
     },
     "execution_count": 21,
     "metadata": {},
     "output_type": "execute_result"
    }
   ],
   "source": [
    "NVAX_df.isnull().sum()"
   ]
  },
  {
   "cell_type": "code",
   "execution_count": 22,
   "id": "2d5a9ec0-f905-4bea-86ea-86543c38fd79",
   "metadata": {},
   "outputs": [
    {
     "data": {
      "text/html": [
       "<div>\n",
       "<style scoped>\n",
       "    .dataframe tbody tr th:only-of-type {\n",
       "        vertical-align: middle;\n",
       "    }\n",
       "\n",
       "    .dataframe tbody tr th {\n",
       "        vertical-align: top;\n",
       "    }\n",
       "\n",
       "    .dataframe thead th {\n",
       "        text-align: right;\n",
       "    }\n",
       "</style>\n",
       "<table border=\"1\" class=\"dataframe\">\n",
       "  <thead>\n",
       "    <tr style=\"text-align: right;\">\n",
       "      <th></th>\n",
       "      <th>Trading Volume</th>\n",
       "      <th>Volume Weighted Average Price</th>\n",
       "      <th>Open</th>\n",
       "      <th>Close</th>\n",
       "      <th>High</th>\n",
       "      <th>Low</th>\n",
       "      <th>Unix Msec timestamp</th>\n",
       "      <th>Number of Transactions</th>\n",
       "      <th>Date</th>\n",
       "      <th>Ticker</th>\n",
       "    </tr>\n",
       "  </thead>\n",
       "  <tbody>\n",
       "    <tr>\n",
       "      <th>0</th>\n",
       "      <td>5488378.0</td>\n",
       "      <td>9.6803</td>\n",
       "      <td>9.51</td>\n",
       "      <td>9.29</td>\n",
       "      <td>10.47</td>\n",
       "      <td>9.15</td>\n",
       "      <td>1583985600000</td>\n",
       "      <td>29246</td>\n",
       "      <td>2020-03-11</td>\n",
       "      <td>NVAX</td>\n",
       "    </tr>\n",
       "    <tr>\n",
       "      <th>1</th>\n",
       "      <td>6115375.0</td>\n",
       "      <td>8.3492</td>\n",
       "      <td>9.50</td>\n",
       "      <td>8.41</td>\n",
       "      <td>9.73</td>\n",
       "      <td>7.52</td>\n",
       "      <td>1584072000000</td>\n",
       "      <td>29065</td>\n",
       "      <td>2020-03-12</td>\n",
       "      <td>NVAX</td>\n",
       "    </tr>\n",
       "    <tr>\n",
       "      <th>2</th>\n",
       "      <td>4779370.0</td>\n",
       "      <td>7.3645</td>\n",
       "      <td>7.77</td>\n",
       "      <td>6.91</td>\n",
       "      <td>8.14</td>\n",
       "      <td>6.77</td>\n",
       "      <td>1584331200000</td>\n",
       "      <td>26430</td>\n",
       "      <td>2020-03-15</td>\n",
       "      <td>NVAX</td>\n",
       "    </tr>\n",
       "    <tr>\n",
       "      <th>3</th>\n",
       "      <td>11623967.0</td>\n",
       "      <td>9.0007</td>\n",
       "      <td>8.00</td>\n",
       "      <td>9.50</td>\n",
       "      <td>10.19</td>\n",
       "      <td>7.85</td>\n",
       "      <td>1584417600000</td>\n",
       "      <td>51842</td>\n",
       "      <td>2020-03-16</td>\n",
       "      <td>NVAX</td>\n",
       "    </tr>\n",
       "    <tr>\n",
       "      <th>4</th>\n",
       "      <td>11034050.0</td>\n",
       "      <td>10.6100</td>\n",
       "      <td>8.85</td>\n",
       "      <td>10.65</td>\n",
       "      <td>11.48</td>\n",
       "      <td>8.80</td>\n",
       "      <td>1584504000000</td>\n",
       "      <td>51365</td>\n",
       "      <td>2020-03-17</td>\n",
       "      <td>NVAX</td>\n",
       "    </tr>\n",
       "  </tbody>\n",
       "</table>\n",
       "</div>"
      ],
      "text/plain": [
       "   Trading Volume  Volume Weighted Average Price  Open  Close   High   Low  \\\n",
       "0       5488378.0                         9.6803  9.51   9.29  10.47  9.15   \n",
       "1       6115375.0                         8.3492  9.50   8.41   9.73  7.52   \n",
       "2       4779370.0                         7.3645  7.77   6.91   8.14  6.77   \n",
       "3      11623967.0                         9.0007  8.00   9.50  10.19  7.85   \n",
       "4      11034050.0                        10.6100  8.85  10.65  11.48  8.80   \n",
       "\n",
       "   Unix Msec timestamp  Number of Transactions        Date Ticker  \n",
       "0        1583985600000                   29246  2020-03-11   NVAX  \n",
       "1        1584072000000                   29065  2020-03-12   NVAX  \n",
       "2        1584331200000                   26430  2020-03-15   NVAX  \n",
       "3        1584417600000                   51842  2020-03-16   NVAX  \n",
       "4        1584504000000                   51365  2020-03-17   NVAX  "
      ]
     },
     "execution_count": 22,
     "metadata": {},
     "output_type": "execute_result"
    }
   ],
   "source": [
    "NVAX_df['Ticker']='NVAX'\n",
    "NVAX_df.head()"
   ]
  },
  {
   "cell_type": "code",
   "execution_count": 23,
   "id": "acc0cc66-e7ec-4a0c-8417-b6a42695fa47",
   "metadata": {},
   "outputs": [
    {
     "data": {
      "text/html": [
       "<div>\n",
       "<style scoped>\n",
       "    .dataframe tbody tr th:only-of-type {\n",
       "        vertical-align: middle;\n",
       "    }\n",
       "\n",
       "    .dataframe tbody tr th {\n",
       "        vertical-align: top;\n",
       "    }\n",
       "\n",
       "    .dataframe thead th {\n",
       "        text-align: right;\n",
       "    }\n",
       "</style>\n",
       "<table border=\"1\" class=\"dataframe\">\n",
       "  <thead>\n",
       "    <tr style=\"text-align: right;\">\n",
       "      <th></th>\n",
       "      <th>Ticker</th>\n",
       "      <th>Date</th>\n",
       "      <th>Open</th>\n",
       "      <th>High</th>\n",
       "      <th>Low</th>\n",
       "      <th>Close</th>\n",
       "      <th>Trading Volume</th>\n",
       "      <th>Volume Weighted Average Price</th>\n",
       "      <th>Number of Transactions</th>\n",
       "    </tr>\n",
       "  </thead>\n",
       "  <tbody>\n",
       "    <tr>\n",
       "      <th>0</th>\n",
       "      <td>NVAX</td>\n",
       "      <td>2020-03-11</td>\n",
       "      <td>9.51</td>\n",
       "      <td>10.47</td>\n",
       "      <td>9.15</td>\n",
       "      <td>9.29</td>\n",
       "      <td>5488378.0</td>\n",
       "      <td>9.6803</td>\n",
       "      <td>29246</td>\n",
       "    </tr>\n",
       "    <tr>\n",
       "      <th>1</th>\n",
       "      <td>NVAX</td>\n",
       "      <td>2020-03-12</td>\n",
       "      <td>9.50</td>\n",
       "      <td>9.73</td>\n",
       "      <td>7.52</td>\n",
       "      <td>8.41</td>\n",
       "      <td>6115375.0</td>\n",
       "      <td>8.3492</td>\n",
       "      <td>29065</td>\n",
       "    </tr>\n",
       "    <tr>\n",
       "      <th>2</th>\n",
       "      <td>NVAX</td>\n",
       "      <td>2020-03-15</td>\n",
       "      <td>7.77</td>\n",
       "      <td>8.14</td>\n",
       "      <td>6.77</td>\n",
       "      <td>6.91</td>\n",
       "      <td>4779370.0</td>\n",
       "      <td>7.3645</td>\n",
       "      <td>26430</td>\n",
       "    </tr>\n",
       "    <tr>\n",
       "      <th>3</th>\n",
       "      <td>NVAX</td>\n",
       "      <td>2020-03-16</td>\n",
       "      <td>8.00</td>\n",
       "      <td>10.19</td>\n",
       "      <td>7.85</td>\n",
       "      <td>9.50</td>\n",
       "      <td>11623967.0</td>\n",
       "      <td>9.0007</td>\n",
       "      <td>51842</td>\n",
       "    </tr>\n",
       "    <tr>\n",
       "      <th>4</th>\n",
       "      <td>NVAX</td>\n",
       "      <td>2020-03-17</td>\n",
       "      <td>8.85</td>\n",
       "      <td>11.48</td>\n",
       "      <td>8.80</td>\n",
       "      <td>10.65</td>\n",
       "      <td>11034050.0</td>\n",
       "      <td>10.6100</td>\n",
       "      <td>51365</td>\n",
       "    </tr>\n",
       "  </tbody>\n",
       "</table>\n",
       "</div>"
      ],
      "text/plain": [
       "  Ticker        Date  Open   High   Low  Close  Trading Volume  \\\n",
       "0   NVAX  2020-03-11  9.51  10.47  9.15   9.29       5488378.0   \n",
       "1   NVAX  2020-03-12  9.50   9.73  7.52   8.41       6115375.0   \n",
       "2   NVAX  2020-03-15  7.77   8.14  6.77   6.91       4779370.0   \n",
       "3   NVAX  2020-03-16  8.00  10.19  7.85   9.50      11623967.0   \n",
       "4   NVAX  2020-03-17  8.85  11.48  8.80  10.65      11034050.0   \n",
       "\n",
       "   Volume Weighted Average Price  Number of Transactions  \n",
       "0                         9.6803                   29246  \n",
       "1                         8.3492                   29065  \n",
       "2                         7.3645                   26430  \n",
       "3                         9.0007                   51842  \n",
       "4                        10.6100                   51365  "
      ]
     },
     "execution_count": 23,
     "metadata": {},
     "output_type": "execute_result"
    }
   ],
   "source": [
    "NVAX_df=NVAX_df[['Ticker', 'Date', 'Open', 'High', 'Low', 'Close', 'Trading Volume', 'Volume Weighted Average Price', 'Number of Transactions']]\n",
    "NVAX_df.head()"
   ]
  },
  {
   "cell_type": "markdown",
   "id": "6aa684c8-777a-4337-9dac-6a51b33b4c12",
   "metadata": {},
   "source": [
    "## Append NVAX to SPX_Health_Sector_stocks"
   ]
  },
  {
   "cell_type": "code",
   "execution_count": 24,
   "id": "aaf6338d-7a9d-4b3b-b5cc-80105cccfcc8",
   "metadata": {},
   "outputs": [],
   "source": [
    "import os"
   ]
  },
  {
   "cell_type": "code",
   "execution_count": 25,
   "id": "6be58409-da4f-4dbf-9daf-6f7ee6e3b7bd",
   "metadata": {},
   "outputs": [],
   "source": [
    "# Path\n",
    "path = \"/Users/swang/UCB/Final_Project/Health_Sector_stocks_API\""
   ]
  },
  {
   "cell_type": "code",
   "execution_count": 26,
   "id": "c19834ea-b2d5-43dc-b10b-586911c3accc",
   "metadata": {},
   "outputs": [
    {
     "name": "stdout",
     "output_type": "stream",
     "text": [
      "/Users/swang/UCB/Final_Project/Health_Sector_stocks_API/SPX_Health_Sector_stocks.csv\n"
     ]
    }
   ],
   "source": [
    " # Join various path components\n",
    "csv=os.path.join(path, \"SPX_Health_Sector_stocks.csv\")\n",
    "print(csv)"
   ]
  },
  {
   "cell_type": "code",
   "execution_count": 27,
   "id": "42de7aea-1d5b-4e5c-a7a0-b679eb1483c7",
   "metadata": {},
   "outputs": [],
   "source": [
    "SPX_Health_Sector_stocks = pd.read_csv(csv)"
   ]
  },
  {
   "cell_type": "code",
   "execution_count": 28,
   "id": "a115ad9b-6b86-4122-83e8-770545673db3",
   "metadata": {},
   "outputs": [
    {
     "data": {
      "text/html": [
       "<div>\n",
       "<style scoped>\n",
       "    .dataframe tbody tr th:only-of-type {\n",
       "        vertical-align: middle;\n",
       "    }\n",
       "\n",
       "    .dataframe tbody tr th {\n",
       "        vertical-align: top;\n",
       "    }\n",
       "\n",
       "    .dataframe thead th {\n",
       "        text-align: right;\n",
       "    }\n",
       "</style>\n",
       "<table border=\"1\" class=\"dataframe\">\n",
       "  <thead>\n",
       "    <tr style=\"text-align: right;\">\n",
       "      <th></th>\n",
       "      <th>Ticker</th>\n",
       "      <th>Date</th>\n",
       "      <th>Open</th>\n",
       "      <th>High</th>\n",
       "      <th>Low</th>\n",
       "      <th>Close</th>\n",
       "      <th>Trading Volume</th>\n",
       "      <th>Volume Weighted Average Price</th>\n",
       "      <th>Number of Transactions</th>\n",
       "    </tr>\n",
       "  </thead>\n",
       "  <tbody>\n",
       "    <tr>\n",
       "      <th>0</th>\n",
       "      <td>ABT</td>\n",
       "      <td>2020-03-11</td>\n",
       "      <td>73.28</td>\n",
       "      <td>78.15</td>\n",
       "      <td>72.01</td>\n",
       "      <td>74.74</td>\n",
       "      <td>14123240.0</td>\n",
       "      <td>74.9395</td>\n",
       "      <td>113015</td>\n",
       "    </tr>\n",
       "    <tr>\n",
       "      <th>1</th>\n",
       "      <td>ABT</td>\n",
       "      <td>2020-03-12</td>\n",
       "      <td>77.91</td>\n",
       "      <td>82.67</td>\n",
       "      <td>74.83</td>\n",
       "      <td>81.65</td>\n",
       "      <td>18521541.0</td>\n",
       "      <td>77.7958</td>\n",
       "      <td>160884</td>\n",
       "    </tr>\n",
       "    <tr>\n",
       "      <th>2</th>\n",
       "      <td>ABT</td>\n",
       "      <td>2020-03-15</td>\n",
       "      <td>70.65</td>\n",
       "      <td>79.25</td>\n",
       "      <td>70.00</td>\n",
       "      <td>73.66</td>\n",
       "      <td>14358978.0</td>\n",
       "      <td>75.4936</td>\n",
       "      <td>113523</td>\n",
       "    </tr>\n",
       "    <tr>\n",
       "      <th>3</th>\n",
       "      <td>ABT</td>\n",
       "      <td>2020-03-16</td>\n",
       "      <td>75.52</td>\n",
       "      <td>79.79</td>\n",
       "      <td>73.34</td>\n",
       "      <td>79.49</td>\n",
       "      <td>13441141.0</td>\n",
       "      <td>77.9694</td>\n",
       "      <td>124950</td>\n",
       "    </tr>\n",
       "    <tr>\n",
       "      <th>4</th>\n",
       "      <td>ABT</td>\n",
       "      <td>2020-03-17</td>\n",
       "      <td>74.98</td>\n",
       "      <td>81.99</td>\n",
       "      <td>74.39</td>\n",
       "      <td>79.26</td>\n",
       "      <td>17680823.0</td>\n",
       "      <td>78.7228</td>\n",
       "      <td>141919</td>\n",
       "    </tr>\n",
       "  </tbody>\n",
       "</table>\n",
       "</div>"
      ],
      "text/plain": [
       "  Ticker        Date   Open   High    Low  Close  Trading Volume  \\\n",
       "0    ABT  2020-03-11  73.28  78.15  72.01  74.74      14123240.0   \n",
       "1    ABT  2020-03-12  77.91  82.67  74.83  81.65      18521541.0   \n",
       "2    ABT  2020-03-15  70.65  79.25  70.00  73.66      14358978.0   \n",
       "3    ABT  2020-03-16  75.52  79.79  73.34  79.49      13441141.0   \n",
       "4    ABT  2020-03-17  74.98  81.99  74.39  79.26      17680823.0   \n",
       "\n",
       "   Volume Weighted Average Price  Number of Transactions  \n",
       "0                        74.9395                  113015  \n",
       "1                        77.7958                  160884  \n",
       "2                        75.4936                  113523  \n",
       "3                        77.9694                  124950  \n",
       "4                        78.7228                  141919  "
      ]
     },
     "execution_count": 28,
     "metadata": {},
     "output_type": "execute_result"
    }
   ],
   "source": [
    "SPX_Health_Sector_stocks.head()"
   ]
  },
  {
   "cell_type": "code",
   "execution_count": 29,
   "id": "b5135787-67b3-455a-a67d-9d9cbee2e6d6",
   "metadata": {},
   "outputs": [
    {
     "data": {
      "text/plain": [
       "28764"
      ]
     },
     "execution_count": 29,
     "metadata": {},
     "output_type": "execute_result"
    }
   ],
   "source": [
    "len(SPX_Health_Sector_stocks)"
   ]
  },
  {
   "cell_type": "code",
   "execution_count": 34,
   "id": "07472123-5c4c-4cea-9306-4afbc1bc9c5e",
   "metadata": {},
   "outputs": [],
   "source": [
    "SPX_Health_Sector_stocks_NVAX=SPX_Health_Sector_stocks.append(NVAX_df)"
   ]
  },
  {
   "cell_type": "code",
   "execution_count": 35,
   "id": "113d2953-08f8-4744-bfa2-b29f06be27b6",
   "metadata": {},
   "outputs": [
    {
     "data": {
      "text/plain": [
       "29221"
      ]
     },
     "execution_count": 35,
     "metadata": {},
     "output_type": "execute_result"
    }
   ],
   "source": [
    "len(SPX_Health_Sector_stocks_NVAX)"
   ]
  },
  {
   "cell_type": "code",
   "execution_count": 36,
   "id": "3ef82bb9-71cf-48d2-b072-c8afc5d92a63",
   "metadata": {},
   "outputs": [],
   "source": [
    "SPX_Health_Sector_stocks_NVAX.to_csv('SPX_Health_Sector_stocks.csv',index=False)"
   ]
  },
  {
   "cell_type": "code",
   "execution_count": null,
   "id": "48f4e501-3e5a-4601-b115-354a33e9fb44",
   "metadata": {},
   "outputs": [],
   "source": []
  }
 ],
 "metadata": {
  "kernelspec": {
   "display_name": "PythonData",
   "language": "python",
   "name": "pythondata"
  },
  "language_info": {
   "codemirror_mode": {
    "name": "ipython",
    "version": 3
   },
   "file_extension": ".py",
   "mimetype": "text/x-python",
   "name": "python",
   "nbconvert_exporter": "python",
   "pygments_lexer": "ipython3",
   "version": "3.7.11"
  }
 },
 "nbformat": 4,
 "nbformat_minor": 5
}
